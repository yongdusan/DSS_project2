{
 "cells": [
  {
   "cell_type": "markdown",
   "metadata": {},
   "source": [
    "## 2nd Team Project (Classificaiton) Instacart \n",
    "\n",
    "<br>\n",
    "<br>\n",
    "<br>\n",
    "<br>\n",
    "<br>\n",
    "<br>\n",
    "<br>\n",
    "<br>\n",
    "<br>\n",
    "<br><br><br><br><br><br><br>\n",
    "\n",
    "                                                                                 - 조이름: 127.0.0.1 (김소령, 안용성, 박정호, 권수환)"
   ]
  },
  {
   "cell_type": "markdown",
   "metadata": {},
   "source": [
    "### 0. Library Import & Data Loading"
   ]
  },
  {
   "cell_type": "code",
   "execution_count": 83,
   "metadata": {
    "collapsed": true
   },
   "outputs": [],
   "source": [
    "import pandas as pd\n",
    "import numpy as np\n",
    "import gc # Garbage Collector interface\n",
    "import matplotlib.pyplot as plt\n",
    "import seaborn as sns\n",
    "%matplotlib inline"
   ]
  },
  {
   "cell_type": "code",
   "execution_count": 122,
   "metadata": {
    "collapsed": true
   },
   "outputs": [],
   "source": [
    "# data loading\n",
    "aisles = pd.read_csv('./input/aisles.csv')\n",
    "dep = pd.read_csv('./input/departments.csv')\n",
    "ord_prd_pr = pd.read_csv('./input/order_products__prior.csv')\n",
    "ord_prd_tr = pd.read_csv('./input/order_products__train.csv')\n",
    "orders = pd.read_csv('./input/orders.csv')\n",
    "products = pd.read_csv('./input/products.csv')"
   ]
  },
  {
   "cell_type": "code",
   "execution_count": 123,
   "metadata": {
    "collapsed": true
   },
   "outputs": [],
   "source": [
    "# Changing some columns types to int for less memory usage\n",
    "aisles['aisle'] = aisles['aisle'].astype('category')\n",
    "dep['department'] = dep['department'].astype('category')\n",
    "orders['eval_set'] = orders['eval_set'].astype('category')\n",
    "products['product_name'] = products['product_name'].astype('category')\n",
    "\n",
    "orders.order_dow = orders.order_dow.astype(np.int8)\n",
    "orders.order_hour_of_day = orders.order_hour_of_day.astype(np.int8)\n",
    "orders.order_number = orders.order_number.astype(np.int16)\n",
    "orders.order_id = orders.order_id.astype(np.int32)\n",
    "orders.user_id = orders.user_id.astype(np.int32)\n",
    "orders.days_since_prior_order = orders.days_since_prior_order.astype(np.float32)\n",
    "\n",
    "products.drop(['product_name'], axis=1, inplace=True)\n",
    "products.aisle_id = products.aisle_id.astype(np.int8)\n",
    "products.department_id = products.department_id.astype(np.int8)\n",
    "products.product_id = products.product_id.astype(np.int32)\n",
    "\n",
    "ord_prd_tr.reordered = ord_prd_tr.reordered.astype(np.int8)\n",
    "ord_prd_tr.add_to_cart_order = ord_prd_tr.add_to_cart_order.astype(np.int16)\n",
    "\n",
    "ord_prd_pr.order_id = ord_prd_pr.order_id.astype(np.int32)\n",
    "ord_prd_pr.add_to_cart_order = ord_prd_pr.add_to_cart_order.astype(np.int16)\n",
    "ord_prd_pr.reordered = ord_prd_pr.reordered.astype(np.int8)\n",
    "ord_prd_pr.product_id = ord_prd_pr.product_id.astype(np.int32)"
   ]
  },
  {
   "cell_type": "code",
   "execution_count": 124,
   "metadata": {},
   "outputs": [
    {
     "name": "stdout",
     "output_type": "stream",
     "text": [
      "orders (3421083, 7): order_id, user_id, eval_set, order_number, order_dow, order_hour_of_day, days_since_prior_order\n",
      "products (49688, 3): product_id, aisle_id, department_id\n",
      "ord_prd_tr (1384617, 4): order_id, product_id, add_to_cart_order, reordered\n",
      "ord_prd_pr (32434489, 4): order_id, product_id, add_to_cart_order, reordered\n"
     ]
    }
   ],
   "source": [
    "print('orders {}: {}'.format(orders.shape, ', '.join(orders.columns)))\n",
    "print('products {}: {}'.format(products.shape, ', '.join(products.columns)))\n",
    "print('ord_prd_tr {}: {}'.format(ord_prd_tr.shape, ', '.join(ord_prd_tr.columns)))\n",
    "print('ord_prd_pr {}: {}'.format(ord_prd_pr.shape, ', '.join(ord_prd_pr.columns)))"
   ]
  },
  {
   "cell_type": "markdown",
   "metadata": {},
   "source": [
    "### 1. EDA"
   ]
  },
  {
   "cell_type": "markdown",
   "metadata": {},
   "source": [
    "#### (1)  Orders data -> prior, train, test set 확인 "
   ]
  },
  {
   "cell_type": "markdown",
   "metadata": {
    "collapsed": true
   },
   "source": [
    "* eval_set기준으로 분류"
   ]
  },
  {
   "cell_type": "code",
   "execution_count": 79,
   "metadata": {},
   "outputs": [
    {
     "data": {
      "text/plain": [
       "prior    3214874\n",
       "train     131209\n",
       "test       75000\n",
       "Name: eval_set, dtype: int64"
      ]
     },
     "execution_count": 79,
     "metadata": {},
     "output_type": "execute_result"
    }
   ],
   "source": [
    "cnt_df = orders.eval_set.value_counts()\n",
    "cnt_df"
   ]
  },
  {
   "cell_type": "code",
   "execution_count": 90,
   "metadata": {},
   "outputs": [
    {
     "data": {
      "image/png": "[encoded data removed]",
      "text/plain": [
       "<matplotlib.figure.Figure at 0x1ed1c60a5c0>"
      ]
     },
     "metadata": {},
     "output_type": "display_data"
    }
   ],
   "source": [
    "plt.figure(figsize= (5,4))\n",
    "sns.barplot(cnt_df.index, cnt_df.values)\n",
    "plt.ylabel('Number of Occurrences',fontsize = 10)\n",
    "plt.xlabel('Eval set type', fontsize = 15)\n",
    "plt.title('Count of rows in each dataset', fontsize = 20)\n",
    "plt.xticks(rotation = 'vertical')\n",
    "plt.show()"
   ]
  },
  {
   "cell_type": "markdown",
   "metadata": {
    "collapsed": true
   },
   "source": [
    "#### (2) 목표"
   ]
  },
  {
   "cell_type": "markdown",
   "metadata": {
    "collapsed": true
   },
   "source": [
    "* : 1. 유저별로 재구매할 품목들은 무엇인가?\n",
    "* : 2. 유저별로 새롭게 구매할 품목은 어떻게 예측할 것인가?\n"
   ]
  },
  {
   "cell_type": "markdown",
   "metadata": {},
   "source": [
    "![reg tree](https://files.slack.com/files-pri/T5AP56SQ3-F6E6F1RNU/foreign_key.png)"
   ]
  },
  {
   "cell_type": "markdown",
   "metadata": {},
   "source": [
    "MySQL에서 돌려보기위해 foreign key column 확인"
   ]
  },
  {
   "cell_type": "markdown",
   "metadata": {},
   "source": [
    "#### (3) 인스타카트 서비스 조사"
   ]
  },
  {
   "cell_type": "markdown",
   "metadata": {
    "collapsed": true
   },
   "source": [
    "*  배송료가 높다면 1)한번에 사는 물품이 많을 것이라 가정하였고, 2)주문 기간에도 영향을 줄것이라 생각했다.  \n",
    "     ((1) user_average_basket Feautures, (2)user_period를 만드는데 반영된다.)   \n",
    "*  그러나 인스타카트 Express라는 회원제(월 12.99)제도 때문에 영향이 주문 기간, 횟수에는 영향이 없었다.\n",
    "   \n",
    "*  35불이하로 구매하면 추가되는 요금 때문에 average_basket에는 영향이 있음을(주문당 구매량이 큼)을 확인 할 수 있었다.     "
   ]
  },
  {
   "cell_type": "markdown",
   "metadata": {},
   "source": [
    "![fee](https://files.slack.com/files-tmb/T5AP56SQ3-F6E9YMJFK-81e2e9092a/fee_1024.png)"
   ]
  },
  {
   "cell_type": "markdown",
   "metadata": {},
   "source": [
    "### 2. Feature Engineering"
   ]
  },
  {
   "cell_type": "code",
   "execution_count": 76,
   "metadata": {
    "collapsed": true
   },
   "outputs": [],
   "source": [
    "data_ = {'Product_Features': ['prod_average_cart_position','prod_orders','prod_reorder_probability', 'prod_reorder_times','prod_reorder_ratio','-','-','-','-'],\n",
    "        'User_Features' : ['user_orders', 'user_period', 'user_mean_days_since_prior', 'user_total_products','user_reorder_ratio',\n",
    "                            'user_distinct_products','user_reorder_ratio','user_distinct_products','user_average_basket'],\n",
    "        'User_Products_interaction': ['up_orders','up_first_orders', 'up_last_orders','up_average_cart_position','up_order_rate',\n",
    "                                      'up_orders_since_last_order','up_order_rate_since_first_order','-','-'],\n",
    "        'Recency' : ['days_since_prior_order', '-','-','-','-','-','-','-','-']}\n",
    "\n",
    "frame = pd.DataFrame(data_, index = [1,2,3,4,5,6,7,8,9])"
   ]
  },
  {
   "cell_type": "code",
   "execution_count": 77,
   "metadata": {},
   "outputs": [
    {
     "data": {
      "text/html": [
       "<div>\n",
       "<style>\n",
       "    .dataframe thead tr:only-child th {\n",
       "        text-align: right;\n",
       "    }\n",
       "\n",
       "    .dataframe thead th {\n",
       "        text-align: left;\n",
       "    }\n",
       "\n",
       "    .dataframe tbody tr th {\n",
       "        vertical-align: top;\n",
       "    }\n",
       "</style>\n",
       "<table border=\"1\" class=\"dataframe\">\n",
       "  <thead>\n",
       "    <tr style=\"text-align: right;\">\n",
       "      <th></th>\n",
       "      <th>Product_Features</th>\n",
       "      <th>Recency</th>\n",
       "      <th>User_Features</th>\n",
       "      <th>User_Products_interaction</th>\n",
       "    </tr>\n",
       "  </thead>\n",
       "  <tbody>\n",
       "    <tr>\n",
       "      <th>1</th>\n",
       "      <td>prod_average_cart_position</td>\n",
       "      <td>days_since_prior_order</td>\n",
       "      <td>user_orders</td>\n",
       "      <td>up_orders</td>\n",
       "    </tr>\n",
       "    <tr>\n",
       "      <th>2</th>\n",
       "      <td>prod_orders</td>\n",
       "      <td>-</td>\n",
       "      <td>user_period</td>\n",
       "      <td>up_first_orders</td>\n",
       "    </tr>\n",
       "    <tr>\n",
       "      <th>3</th>\n",
       "      <td>prod_reorder_probability</td>\n",
       "      <td>-</td>\n",
       "      <td>user_mean_days_since_prior</td>\n",
       "      <td>up_last_orders</td>\n",
       "    </tr>\n",
       "    <tr>\n",
       "      <th>4</th>\n",
       "      <td>prod_reorder_times</td>\n",
       "      <td>-</td>\n",
       "      <td>user_total_products</td>\n",
       "      <td>up_average_cart_position</td>\n",
       "    </tr>\n",
       "    <tr>\n",
       "      <th>5</th>\n",
       "      <td>prod_reorder_ratio</td>\n",
       "      <td>-</td>\n",
       "      <td>user_reorder_ratio</td>\n",
       "      <td>up_order_rate</td>\n",
       "    </tr>\n",
       "    <tr>\n",
       "      <th>6</th>\n",
       "      <td>-</td>\n",
       "      <td>-</td>\n",
       "      <td>user_distinct_products</td>\n",
       "      <td>up_orders_since_last_order</td>\n",
       "    </tr>\n",
       "    <tr>\n",
       "      <th>7</th>\n",
       "      <td>-</td>\n",
       "      <td>-</td>\n",
       "      <td>user_reorder_ratio</td>\n",
       "      <td>up_order_rate_since_first_order</td>\n",
       "    </tr>\n",
       "    <tr>\n",
       "      <th>8</th>\n",
       "      <td>-</td>\n",
       "      <td>-</td>\n",
       "      <td>user_distinct_products</td>\n",
       "      <td>-</td>\n",
       "    </tr>\n",
       "    <tr>\n",
       "      <th>9</th>\n",
       "      <td>-</td>\n",
       "      <td>-</td>\n",
       "      <td>user_average_basket</td>\n",
       "      <td>-</td>\n",
       "    </tr>\n",
       "  </tbody>\n",
       "</table>\n",
       "</div>"
      ],
      "text/plain": [
       "             Product_Features                 Recency  \\\n",
       "1  prod_average_cart_position  days_since_prior_order   \n",
       "2                 prod_orders                       -   \n",
       "3    prod_reorder_probability                       -   \n",
       "4          prod_reorder_times                       -   \n",
       "5          prod_reorder_ratio                       -   \n",
       "6                           -                       -   \n",
       "7                           -                       -   \n",
       "8                           -                       -   \n",
       "9                           -                       -   \n",
       "\n",
       "                User_Features        User_Products_interaction  \n",
       "1                 user_orders                        up_orders  \n",
       "2                 user_period                  up_first_orders  \n",
       "3  user_mean_days_since_prior                   up_last_orders  \n",
       "4         user_total_products         up_average_cart_position  \n",
       "5          user_reorder_ratio                    up_order_rate  \n",
       "6      user_distinct_products       up_orders_since_last_order  \n",
       "7          user_reorder_ratio  up_order_rate_since_first_order  \n",
       "8      user_distinct_products                                -  \n",
       "9         user_average_basket                                -  "
      ]
     },
     "execution_count": 77,
     "metadata": {},
     "output_type": "execute_result"
    }
   ],
   "source": [
    "frame"
   ]
  },
  {
   "cell_type": "markdown",
   "metadata": {},
   "source": [
    "#### (1) Product data reshaping (products + department + aisles)"
   ]
  },
  {
   "cell_type": "code",
   "execution_count": 125,
   "metadata": {},
   "outputs": [
    {
     "data": {
      "text/html": [
       "<div>\n",
       "<style>\n",
       "    .dataframe thead tr:only-child th {\n",
       "        text-align: right;\n",
       "    }\n",
       "\n",
       "    .dataframe thead th {\n",
       "        text-align: left;\n",
       "    }\n",
       "\n",
       "    .dataframe tbody tr th {\n",
       "        vertical-align: top;\n",
       "    }\n",
       "</style>\n",
       "<table border=\"1\" class=\"dataframe\">\n",
       "  <thead>\n",
       "    <tr style=\"text-align: right;\">\n",
       "      <th></th>\n",
       "      <th>product_id</th>\n",
       "      <th>aisle_id</th>\n",
       "      <th>department_id</th>\n",
       "      <th>department</th>\n",
       "      <th>aisle</th>\n",
       "    </tr>\n",
       "  </thead>\n",
       "  <tbody>\n",
       "    <tr>\n",
       "      <th>49685</th>\n",
       "      <td>49686</td>\n",
       "      <td>112</td>\n",
       "      <td>3</td>\n",
       "      <td>bakery</td>\n",
       "      <td>bread</td>\n",
       "    </tr>\n",
       "    <tr>\n",
       "      <th>49686</th>\n",
       "      <td>49687</td>\n",
       "      <td>41</td>\n",
       "      <td>8</td>\n",
       "      <td>pets</td>\n",
       "      <td>cat food care</td>\n",
       "    </tr>\n",
       "    <tr>\n",
       "      <th>49687</th>\n",
       "      <td>49688</td>\n",
       "      <td>73</td>\n",
       "      <td>11</td>\n",
       "      <td>personal care</td>\n",
       "      <td>facial care</td>\n",
       "    </tr>\n",
       "  </tbody>\n",
       "</table>\n",
       "</div>"
      ],
      "text/plain": [
       "       product_id  aisle_id  department_id     department          aisle\n",
       "49685       49686       112              3         bakery          bread\n",
       "49686       49687        41              8           pets  cat food care\n",
       "49687       49688        73             11  personal care    facial care"
      ]
     },
     "execution_count": 125,
     "metadata": {},
     "output_type": "execute_result"
    }
   ],
   "source": [
    "df_products = pd.merge(left = products, right = dep, on = 'department_id', how = 'left')\n",
    "goods = pd.merge(left = df_products, right = aisles, on = 'aisle_id', how = 'left')\n",
    "goods.tail(3)"
   ]
  },
  {
   "cell_type": "code",
   "execution_count": 126,
   "metadata": {},
   "outputs": [
    {
     "data": {
      "text/html": [
       "<div>\n",
       "<style>\n",
       "    .dataframe thead tr:only-child th {\n",
       "        text-align: right;\n",
       "    }\n",
       "\n",
       "    .dataframe thead th {\n",
       "        text-align: left;\n",
       "    }\n",
       "\n",
       "    .dataframe tbody tr th {\n",
       "        vertical-align: top;\n",
       "    }\n",
       "</style>\n",
       "<table border=\"1\" class=\"dataframe\">\n",
       "  <thead>\n",
       "    <tr style=\"text-align: right;\">\n",
       "      <th></th>\n",
       "      <th>product_id</th>\n",
       "      <th>department</th>\n",
       "      <th>aisle</th>\n",
       "    </tr>\n",
       "  </thead>\n",
       "  <tbody>\n",
       "    <tr>\n",
       "      <th>49685</th>\n",
       "      <td>49686</td>\n",
       "      <td>bakery</td>\n",
       "      <td>bread</td>\n",
       "    </tr>\n",
       "    <tr>\n",
       "      <th>49686</th>\n",
       "      <td>49687</td>\n",
       "      <td>pets</td>\n",
       "      <td>cat food care</td>\n",
       "    </tr>\n",
       "    <tr>\n",
       "      <th>49687</th>\n",
       "      <td>49688</td>\n",
       "      <td>personal care</td>\n",
       "      <td>facial care</td>\n",
       "    </tr>\n",
       "  </tbody>\n",
       "</table>\n",
       "</div>"
      ],
      "text/plain": [
       "       product_id     department          aisle\n",
       "49685       49686         bakery          bread\n",
       "49686       49687           pets  cat food care\n",
       "49687       49688  personal care    facial care"
      ]
     },
     "execution_count": 126,
     "metadata": {},
     "output_type": "execute_result"
    }
   ],
   "source": [
    "goods.drop(['department_id'], axis = 1, inplace = True)\n",
    "goods.drop(['aisle_id'], axis = 1, inplace = True)\n",
    "goods.tail(3)"
   ]
  },
  {
   "cell_type": "markdown",
   "metadata": {},
   "source": [
    "#### (2) Product data (5)"
   ]
  },
  {
   "cell_type": "markdown",
   "metadata": {},
   "source": [
    "1. 카트에 담긴 순서의 평균 (먼저 담을수록 재구매 확률이 높을 것이라는 가정)\n",
    "2. 총주문횟수 (주문이 많이 될 수록 재구매 확률도 높을 것이라는 가정)\n",
    "3. 재구매될 확률 (조건부 확률 이용. (두번째 주문 / 첫번째 주문))\n",
    "4. 재주문 횟수의 평균 (재주문 많이 될수록 재구매 확률도 높을 것이라는 가정)\n",
    "5. 전체 주문 중 재구매된 비율"
   ]
  },
  {
   "cell_type": "code",
   "execution_count": 127,
   "metadata": {},
   "outputs": [],
   "source": [
    "ord_prd_tr = ord_prd_tr.merge(orders[['user_id','order_id']], left_on = 'order_id', right_on = 'order_id', how = 'inner')"
   ]
  },
  {
   "cell_type": "code",
   "execution_count": 128,
   "metadata": {
    "collapsed": true
   },
   "outputs": [],
   "source": [
    "orders_products_pr = orders.merge(ord_prd_pr, how = 'inner', on = 'order_id')"
   ]
  },
  {
   "cell_type": "code",
   "execution_count": 129,
   "metadata": {},
   "outputs": [],
   "source": [
    "# sorting orders and products to get the rank or the reorder times for the product\n",
    "prdss = orders_products_pr.sort_values(['user_id', 'order_number', 'product_id'], ascending=True)"
   ]
  },
  {
   "cell_type": "code",
   "execution_count": 130,
   "metadata": {
    "collapsed": true
   },
   "outputs": [],
   "source": [
    "prdot = orders_products_pr.sort_values(['user_id', 'order_number', 'product_id'], ascending=True)"
   ]
  },
  {
   "cell_type": "code",
   "execution_count": 131,
   "metadata": {},
   "outputs": [
    {
     "data": {
      "text/plain": [
       "(32434489, 10)"
      ]
     },
     "execution_count": 131,
     "metadata": {},
     "output_type": "execute_result"
    }
   ],
   "source": [
    "prdot.shape"
   ]
  },
  {
   "cell_type": "code",
   "execution_count": 132,
   "metadata": {
    "collapsed": true
   },
   "outputs": [],
   "source": [
    "# product time 생성: 유저별 & 제품별 구매 횟수\n",
    "prdss = prdss.assign(product_time = prdss.groupby(['user_id', 'product_id']).cumcount()+1)"
   ]
  },
  {
   "cell_type": "code",
   "execution_count": 133,
   "metadata": {
    "collapsed": true
   },
   "outputs": [],
   "source": [
    "# prod_average_cart_position: 제품별 평균 카트에 담긴 순서\n",
    "sub = prdss.groupby(['product_id'])['add_to_cart_order'].mean().to_frame('prod_average_cart_position')"
   ]
  },
  {
   "cell_type": "code",
   "execution_count": 134,
   "metadata": {
    "collapsed": true
   },
   "outputs": [],
   "source": [
    "# getting products ordered first and second times 나중에 확률 계산을 하기 위해 \n",
    "# sub1: 제품별 첫번째로 구매한 횟수, \n",
    "# sub2: 제품별 두번째로 구매한 횟수\n",
    "sub1 = prdss[prdss['product_time'] == 1].groupby('product_id').size().to_frame('prod_first_orders')\n",
    "sub2 = prdss[prdss['product_time'] == 2].groupby('product_id').size().to_frame('prod_second_orders')"
   ]
  },
  {
   "cell_type": "code",
   "execution_count": 135,
   "metadata": {
    "collapsed": true
   },
   "outputs": [],
   "source": [
    "# sub1에 prod_orders 추가: 제품별 총구매횟수\n",
    "sub1['prod_orders'] = prdss.groupby('product_id')['product_id'].size()"
   ]
  },
  {
   "cell_type": "code",
   "execution_count": 136,
   "metadata": {
    "collapsed": true
   },
   "outputs": [],
   "source": [
    "# sub1에 prod_reorders 추가: 제품별 재구매횟수\n",
    "# prod_orders(제품별 총구매횟수) = prod_first_orders (제품별 첫번째 주문횟수) + prod_reorders (제품별 재구매횟수)\n",
    "sub1['prod_reorders'] = prdss.groupby('product_id')['reordered'].sum()"
   ]
  },
  {
   "cell_type": "code",
   "execution_count": 137,
   "metadata": {
    "collapsed": true
   },
   "outputs": [],
   "source": [
    "# sub1과 sub2 합침\n",
    "sub2 = sub2.reset_index().merge(sub1.reset_index())"
   ]
  },
  {
   "cell_type": "code",
   "execution_count": 138,
   "metadata": {},
   "outputs": [
    {
     "name": "stdout",
     "output_type": "stream",
     "text": [
      "sub2 (45305, 5): product_id, prod_second_orders, prod_first_orders, prod_orders, prod_reorders\n"
     ]
    }
   ],
   "source": [
    "print('sub2 {}: {}'.format(sub2.shape, ', '.join(sub2.columns)))"
   ]
  },
  {
   "cell_type": "code",
   "execution_count": 139,
   "metadata": {
    "collapsed": true
   },
   "outputs": [],
   "source": [
    "# calculating reorder probability and ratio for the product\n",
    "# 'prod_reorder_probability' : 제품별 재구매 될 확률 (= 제품별 2번째 구매횟수 / 제품별 첫구매횟수)\n",
    "sub2['prod_reorder_probability'] = sub2['prod_second_orders']/sub2['prod_first_orders']"
   ]
  },
  {
   "cell_type": "code",
   "execution_count": 140,
   "metadata": {
    "collapsed": true
   },
   "outputs": [],
   "source": [
    "# 'prod_reorder_times' 제품 평균 재주문 횟수 : 1 + (제품별 재구매 횟수 /제품별 첫구매횟수) \n",
    "sub2['prod_reorder_times'] = 1 + sub2['prod_reorders']/sub2['prod_first_orders']"
   ]
  },
  {
   "cell_type": "code",
   "execution_count": 141,
   "metadata": {
    "collapsed": true
   },
   "outputs": [],
   "source": [
    "# 'prod_reorder_ratio' 재구매 비율 = 재구매 횟수 / 총주문 횟수\n",
    "sub2['prod_reorder_ratio'] = sub2['prod_reorders']/sub2['prod_orders']"
   ]
  },
  {
   "cell_type": "code",
   "execution_count": 142,
   "metadata": {
    "collapsed": true
   },
   "outputs": [],
   "source": [
    "prd = sub2[['product_id', 'prod_orders','prod_reorder_probability', 'prod_reorder_times', 'prod_reorder_ratio']]"
   ]
  },
  {
   "cell_type": "code",
   "execution_count": 143,
   "metadata": {},
   "outputs": [
    {
     "data": {
      "text/plain": [
       "22436"
      ]
     },
     "execution_count": 143,
     "metadata": {},
     "output_type": "execute_result"
    }
   ],
   "source": [
    "# Memory cleaning \n",
    "del sub1, sub2\n",
    "gc.collect()"
   ]
  },
  {
   "cell_type": "markdown",
   "metadata": {},
   "source": [
    "#### (3) User Data (7)"
   ]
  },
  {
   "cell_type": "markdown",
   "metadata": {},
   "source": [
    "(User의 특성 파악)\n",
    "6. 총주문 횟수 (얼마나 많이 주문하는지)\n",
    "7. 다음 주문까지의 기간의 합계 (얼마나 자주 주문하는지)\n",
    "8. 다음 주문까지의 평균 소요일 (얼마나 자주(빨리) 주문하는지)\n",
    "9. 총 주문 제품 개수 (얼마나 많은 제품을 주문하는지)\n",
    "10. 재구매 비율 (특정 제품을 얼마나 다시 주문하는지)\n",
    "11. 주문한 제품의 종류 (가지수) (얼마나 다양한 제품을 주문하는지)\n",
    "12. 주문 당 평균 제품 개수 (한번에 얼마나 많이 주문하는지)"
   ]
  },
  {
   "cell_type": "code",
   "execution_count": 144,
   "metadata": {
    "collapsed": true
   },
   "outputs": [],
   "source": [
    "# user_orders 생성 - 유저별로 order 한 횟수\n",
    "users = orders[orders['eval_set'] == 'prior'].groupby(['user_id'])['order_number'].max().to_frame('user_orders')"
   ]
  },
  {
   "cell_type": "code",
   "execution_count": 145,
   "metadata": {},
   "outputs": [
    {
     "name": "stdout",
     "output_type": "stream",
     "text": [
      "users (206209, 1): user_orders\n"
     ]
    }
   ],
   "source": [
    "print('users {}: {}'.format(users.shape, ', '.join(users.columns)))"
   ]
  },
  {
   "cell_type": "code",
   "execution_count": 146,
   "metadata": {
    "collapsed": true
   },
   "outputs": [],
   "source": [
    "# user_period 생성 - 이전 오더 이후 주문일 합계\n",
    "users['user_period'] = orders[orders['eval_set'] == 'prior'].groupby(['user_id'])['days_since_prior_order'].sum()"
   ]
  },
  {
   "cell_type": "code",
   "execution_count": 147,
   "metadata": {
    "collapsed": true
   },
   "outputs": [],
   "source": [
    "# user_mean_days_since_prior 생성 - 평균 주문소요일\n",
    "users['user_mean_days_since_prior'] = orders[orders['eval_set'] == 'prior'].groupby(['user_id'])['days_since_prior_order'].mean()"
   ]
  },
  {
   "cell_type": "code",
   "execution_count": 148,
   "metadata": {
    "collapsed": true
   },
   "outputs": [],
   "source": [
    "# merging features about users and orders into one dataset\n",
    "# user_total_products 생성 - user id 별 주문한 product의 수\n",
    "us = orders_products_pr.groupby('user_id').size().to_frame('user_total_products')"
   ]
  },
  {
   "cell_type": "code",
   "execution_count": 149,
   "metadata": {
    "collapsed": true
   },
   "outputs": [],
   "source": [
    "# eq_1 - 그 중 재주문한 product의 수\n",
    "us['eq_1'] = orders_products_pr[orders_products_pr['reordered'] == 1].groupby('user_id')['product_id'].size()"
   ]
  },
  {
   "cell_type": "code",
   "execution_count": 150,
   "metadata": {
    "collapsed": true
   },
   "outputs": [],
   "source": [
    "# qt_1 - 유저별로 첫번째 주문을 제외한 주문의 product의 수\n",
    "us['gt_1'] = orders_products_pr[orders_products_pr['order_number'] > 1].groupby('user_id')['product_id'].size()"
   ]
  },
  {
   "cell_type": "code",
   "execution_count": 151,
   "metadata": {
    "collapsed": true
   },
   "outputs": [],
   "source": [
    "# user_reorder_ratio: user 별 재구매 비율 (=재주문한 product의 수 / 첫번째 주문을 제외한 주문의 product의 수)\n",
    "us['user_reorder_ratio'] = us['eq_1'] / us['gt_1']"
   ]
  },
  {
   "cell_type": "code",
   "execution_count": 152,
   "metadata": {
    "collapsed": true
   },
   "outputs": [],
   "source": [
    "us.drop(['eq_1', 'gt_1'], axis = 1, inplace = True)"
   ]
  },
  {
   "cell_type": "code",
   "execution_count": 153,
   "metadata": {
    "collapsed": true
   },
   "outputs": [],
   "source": [
    "# user_distinct_products: user 별 주문한 product 종류의 수\n",
    "us['user_distinct_products'] = orders_products_pr.groupby(['user_id'])['product_id'].nunique()"
   ]
  },
  {
   "cell_type": "code",
   "execution_count": 154,
   "metadata": {
    "collapsed": true
   },
   "outputs": [],
   "source": [
    "# users와 us 결합\n",
    "users = users.reset_index().merge(us.reset_index())"
   ]
  },
  {
   "cell_type": "code",
   "execution_count": 155,
   "metadata": {
    "collapsed": true
   },
   "outputs": [],
   "source": [
    "# user_average_basket : 유저별 주문당 평균 제품 개수\n",
    "users['user_average_basket'] = users['user_total_products'] / users['user_orders']"
   ]
  },
  {
   "cell_type": "code",
   "execution_count": 156,
   "metadata": {
    "collapsed": true
   },
   "outputs": [],
   "source": [
    "# test, train order 만..\n",
    "us2 = orders[orders['eval_set'] != 'prior'] "
   ]
  },
  {
   "cell_type": "code",
   "execution_count": 157,
   "metadata": {
    "collapsed": true
   },
   "outputs": [],
   "source": [
    "us2 = us2[['user_id', 'order_id', 'eval_set', 'days_since_prior_order']]"
   ]
  },
  {
   "cell_type": "code",
   "execution_count": 158,
   "metadata": {
    "collapsed": true
   },
   "outputs": [],
   "source": [
    "users = users.merge(us2)"
   ]
  },
  {
   "cell_type": "code",
   "execution_count": 159,
   "metadata": {},
   "outputs": [
    {
     "name": "stdout",
     "output_type": "stream",
     "text": [
      "users (206209, 11): user_id, user_orders, user_period, user_mean_days_since_prior, user_total_products, user_reorder_ratio, user_distinct_products, user_average_basket, order_id, eval_set, days_since_prior_order\n"
     ]
    }
   ],
   "source": [
    "print('users {}: {}'.format(users.shape, ', '.join(users.columns)))"
   ]
  },
  {
   "cell_type": "markdown",
   "metadata": {},
   "source": [
    "#### (4) Order data (related with User & Product data)  (7)\n",
    "(프로젝트 목표: Test user의 최종 주문한 제품의 재구매 여부 구하는 것 -> User와 Product 복합된 feature 필요) \n",
    "1. user별 특정 제품의 총 주문 횟수\n",
    "2. user별 특정 제품을 최초 주문한 주문순번\n",
    "3. user별 특정 제품을 마지막으로 주문한 주문순번\n",
    "4. user별 특정 제품이 장바구니에 담긴 순번의 평균\n",
    "5. 특정 user가 특정 제품을 주문한 비율 (유저별/제품별 주문횟수 / 유저별 총 주문수)\n",
    "6. 특정 user가 특정 제품을 마지막으로 주문한 이후 그 제품이 없는 주문의 횟수 (값이 낮을 수록 최근에 구매함)\n",
    "7. 첫번째 주문 이후 유저별/제품별 주문율"
   ]
  },
  {
   "cell_type": "markdown",
   "metadata": {},
   "source": [
    "(주어진 dataset에서) 1. 주문 후 재주문까지의 기간  "
   ]
  },
  {
   "cell_type": "code",
   "execution_count": 160,
   "metadata": {
    "collapsed": true
   },
   "outputs": [],
   "source": [
    "# up_orders: user, product 별 주문수\n",
    "data = orders_products_pr.groupby(['user_id', 'product_id']).size().to_frame('up_orders')"
   ]
  },
  {
   "cell_type": "code",
   "execution_count": 161,
   "metadata": {
    "collapsed": true
   },
   "outputs": [],
   "source": [
    "# up_first_order: 해당 product를 최초 주문한 주문순서\n",
    "data['up_first_order'] = orders_products_pr.groupby(['user_id', 'product_id'])['order_number'].min()"
   ]
  },
  {
   "cell_type": "code",
   "execution_count": 162,
   "metadata": {
    "collapsed": true
   },
   "outputs": [],
   "source": [
    "# up_last_order: 해당 product를 최초 주문한 주문순서\n",
    "data['up_last_order'] = orders_products_pr.groupby(['user_id', 'product_id'])['order_number'].max()"
   ]
  },
  {
   "cell_type": "code",
   "execution_count": 163,
   "metadata": {
    "collapsed": true
   },
   "outputs": [],
   "source": [
    "# avg_cart_position : 제품별로 cart에 담은 순서의 평균 \n",
    "data['up_average_cart_position'] = orders_products_pr.groupby(['user_id', 'product_id'])['add_to_cart_order'].mean()\n",
    "data = data.reset_index()"
   ]
  },
  {
   "cell_type": "code",
   "execution_count": 164,
   "metadata": {
    "collapsed": true
   },
   "outputs": [],
   "source": [
    "# user, product data와 결합\n",
    "data = data.merge(prd, on = 'product_id')\n",
    "data = data.merge(users, on = 'user_id')"
   ]
  },
  {
   "cell_type": "code",
   "execution_count": 165,
   "metadata": {},
   "outputs": [
    {
     "name": "stdout",
     "output_type": "stream",
     "text": [
      "data (13278023, 20): user_id, product_id, up_orders, up_first_order, up_last_order, up_average_cart_position, prod_orders, prod_reorder_probability, prod_reorder_times, prod_reorder_ratio, user_orders, user_period, user_mean_days_since_prior, user_total_products, user_reorder_ratio, user_distinct_products, user_average_basket, order_id, eval_set, days_since_prior_order\n"
     ]
    }
   ],
   "source": [
    "print('data {}: {}'.format(data.shape, ', '.join(data.columns)))"
   ]
  },
  {
   "cell_type": "code",
   "execution_count": 166,
   "metadata": {
    "collapsed": true
   },
   "outputs": [],
   "source": [
    "# up_order_rate 유저별/제품별 주문비율 : 유저별/제품별 주문횟수 / 유저별 총 주문수\n",
    "data['up_order_rate'] = data['up_orders'] / data['user_orders']"
   ]
  },
  {
   "cell_type": "code",
   "execution_count": 167,
   "metadata": {
    "collapsed": true
   },
   "outputs": [],
   "source": [
    "# up_orders_since_last_order 제품별 최종 주문 이후 유저 주문수: 유저별 총 주문수 - 유저별/제품별 최종 주문수\n",
    "data['up_orders_since_last_order'] = data['user_orders'] - data['up_last_order']"
   ]
  },
  {
   "cell_type": "code",
   "execution_count": 168,
   "metadata": {
    "collapsed": true
   },
   "outputs": [],
   "source": [
    "# up_order_rate_since_first_order \n",
    "# 첫번째 주문 이후 유저별/제품별 주문율 : 유저별/제품별 주문수 / (유저별 총주문수 - 유저별/제품별 최초주문순서 + 1)\n",
    "data['up_order_rate_since_first_order'] = data['up_orders'] / (data['user_orders'] - data['up_first_order'] + 1)"
   ]
  },
  {
   "cell_type": "code",
   "execution_count": 169,
   "metadata": {},
   "outputs": [],
   "source": [
    "# reordered 추가\n",
    "data = data.merge(ord_prd_tr[['user_id', 'product_id', 'reordered']], how = 'left', on = ['user_id', 'product_id'])"
   ]
  },
  {
   "cell_type": "code",
   "execution_count": 170,
   "metadata": {
    "scrolled": true
   },
   "outputs": [
    {
     "data": {
      "text/html": [
       "<div>\n",
       "<style>\n",
       "    .dataframe thead tr:only-child th {\n",
       "        text-align: right;\n",
       "    }\n",
       "\n",
       "    .dataframe thead th {\n",
       "        text-align: left;\n",
       "    }\n",
       "\n",
       "    .dataframe tbody tr th {\n",
       "        vertical-align: top;\n",
       "    }\n",
       "</style>\n",
       "<table border=\"1\" class=\"dataframe\">\n",
       "  <thead>\n",
       "    <tr style=\"text-align: right;\">\n",
       "      <th></th>\n",
       "      <th>user_id</th>\n",
       "      <th>product_id</th>\n",
       "      <th>up_orders</th>\n",
       "      <th>up_first_order</th>\n",
       "      <th>up_last_order</th>\n",
       "      <th>up_average_cart_position</th>\n",
       "      <th>prod_orders</th>\n",
       "      <th>prod_reorder_probability</th>\n",
       "      <th>prod_reorder_times</th>\n",
       "      <th>prod_reorder_ratio</th>\n",
       "      <th>...</th>\n",
       "      <th>user_reorder_ratio</th>\n",
       "      <th>user_distinct_products</th>\n",
       "      <th>user_average_basket</th>\n",
       "      <th>order_id</th>\n",
       "      <th>eval_set</th>\n",
       "      <th>days_since_prior_order</th>\n",
       "      <th>up_order_rate</th>\n",
       "      <th>up_orders_since_last_order</th>\n",
       "      <th>up_order_rate_since_first_order</th>\n",
       "      <th>reordered</th>\n",
       "    </tr>\n",
       "  </thead>\n",
       "  <tbody>\n",
       "    <tr>\n",
       "      <th>13278020</th>\n",
       "      <td>166751</td>\n",
       "      <td>49001</td>\n",
       "      <td>3</td>\n",
       "      <td>1</td>\n",
       "      <td>3</td>\n",
       "      <td>1.0</td>\n",
       "      <td>45</td>\n",
       "      <td>0.193548</td>\n",
       "      <td>1.451613</td>\n",
       "      <td>0.311111</td>\n",
       "      <td>...</td>\n",
       "      <td>1.0</td>\n",
       "      <td>1</td>\n",
       "      <td>1.0</td>\n",
       "      <td>2080697</td>\n",
       "      <td>train</td>\n",
       "      <td>14.0</td>\n",
       "      <td>1.0</td>\n",
       "      <td>0</td>\n",
       "      <td>1.0</td>\n",
       "      <td>1.0</td>\n",
       "    </tr>\n",
       "    <tr>\n",
       "      <th>13278021</th>\n",
       "      <td>106143</td>\n",
       "      <td>19675</td>\n",
       "      <td>26</td>\n",
       "      <td>1</td>\n",
       "      <td>26</td>\n",
       "      <td>1.0</td>\n",
       "      <td>39</td>\n",
       "      <td>0.833333</td>\n",
       "      <td>6.500000</td>\n",
       "      <td>0.846154</td>\n",
       "      <td>...</td>\n",
       "      <td>1.0</td>\n",
       "      <td>1</td>\n",
       "      <td>1.0</td>\n",
       "      <td>1714200</td>\n",
       "      <td>test</td>\n",
       "      <td>9.0</td>\n",
       "      <td>1.0</td>\n",
       "      <td>0</td>\n",
       "      <td>1.0</td>\n",
       "      <td>NaN</td>\n",
       "    </tr>\n",
       "    <tr>\n",
       "      <th>13278022</th>\n",
       "      <td>66343</td>\n",
       "      <td>47210</td>\n",
       "      <td>4</td>\n",
       "      <td>1</td>\n",
       "      <td>4</td>\n",
       "      <td>1.0</td>\n",
       "      <td>11</td>\n",
       "      <td>0.285714</td>\n",
       "      <td>1.571429</td>\n",
       "      <td>0.363636</td>\n",
       "      <td>...</td>\n",
       "      <td>1.0</td>\n",
       "      <td>1</td>\n",
       "      <td>1.0</td>\n",
       "      <td>2913671</td>\n",
       "      <td>test</td>\n",
       "      <td>30.0</td>\n",
       "      <td>1.0</td>\n",
       "      <td>0</td>\n",
       "      <td>1.0</td>\n",
       "      <td>NaN</td>\n",
       "    </tr>\n",
       "  </tbody>\n",
       "</table>\n",
       "<p>3 rows × 24 columns</p>\n",
       "</div>"
      ],
      "text/plain": [
       "          user_id  product_id  up_orders  up_first_order  up_last_order  \\\n",
       "13278020   166751       49001          3               1              3   \n",
       "13278021   106143       19675         26               1             26   \n",
       "13278022    66343       47210          4               1              4   \n",
       "\n",
       "          up_average_cart_position  prod_orders  prod_reorder_probability  \\\n",
       "13278020                       1.0           45                  0.193548   \n",
       "13278021                       1.0           39                  0.833333   \n",
       "13278022                       1.0           11                  0.285714   \n",
       "\n",
       "          prod_reorder_times  prod_reorder_ratio    ...      \\\n",
       "13278020            1.451613            0.311111    ...       \n",
       "13278021            6.500000            0.846154    ...       \n",
       "13278022            1.571429            0.363636    ...       \n",
       "\n",
       "          user_reorder_ratio  user_distinct_products  user_average_basket  \\\n",
       "13278020                 1.0                       1                  1.0   \n",
       "13278021                 1.0                       1                  1.0   \n",
       "13278022                 1.0                       1                  1.0   \n",
       "\n",
       "          order_id  eval_set  days_since_prior_order  up_order_rate  \\\n",
       "13278020   2080697     train                    14.0            1.0   \n",
       "13278021   1714200      test                     9.0            1.0   \n",
       "13278022   2913671      test                    30.0            1.0   \n",
       "\n",
       "          up_orders_since_last_order up_order_rate_since_first_order  \\\n",
       "13278020                           0                             1.0   \n",
       "13278021                           0                             1.0   \n",
       "13278022                           0                             1.0   \n",
       "\n",
       "          reordered  \n",
       "13278020        1.0  \n",
       "13278021        NaN  \n",
       "13278022        NaN  \n",
       "\n",
       "[3 rows x 24 columns]"
      ]
     },
     "execution_count": 170,
     "metadata": {},
     "output_type": "execute_result"
    }
   ],
   "source": [
    "data.tail(3)"
   ]
  },
  {
   "cell_type": "markdown",
   "metadata": {},
   "source": [
    "#### (5) Association Analysis"
   ]
  },
  {
   "cell_type": "code",
   "execution_count": null,
   "metadata": {
    "collapsed": true
   },
   "outputs": [],
   "source": [
    "data.to_csv('my_data.csv', header = True, index = False)"
   ]
  },
  {
   "cell_type": "code",
   "execution_count": 2,
   "metadata": {
    "collapsed": true
   },
   "outputs": [],
   "source": [
    "data = pd.read_csv('my_data.csv')"
   ]
  },
  {
   "cell_type": "code",
   "execution_count": 3,
   "metadata": {
    "collapsed": true
   },
   "outputs": [],
   "source": [
    "from mlxtend.frequent_patterns import apriori #import apriori\n",
    "from mlxtend.frequent_patterns import association_rules"
   ]
  },
  {
   "cell_type": "code",
   "execution_count": null,
   "metadata": {
    "collapsed": true
   },
   "outputs": [],
   "source": [
    "data2 = data.sort_values('prod_orders', ascending=False)"
   ]
  },
  {
   "cell_type": "code",
   "execution_count": null,
   "metadata": {
    "collapsed": true
   },
   "outputs": [],
   "source": [
    "data_ = data.sort_values('up_orders', ascending=False)"
   ]
  },
  {
   "cell_type": "code",
   "execution_count": 6,
   "metadata": {
    "collapsed": true
   },
   "outputs": [],
   "source": [
    "data3 = data.sample(1000000) # 한계는 3000000 까지인듯..`"
   ]
  },
  {
   "cell_type": "code",
   "execution_count": 9,
   "metadata": {
    "collapsed": true
   },
   "outputs": [],
   "source": [
    "data4 = data[:1000000]"
   ]
  },
  {
   "cell_type": "code",
   "execution_count": null,
   "metadata": {
    "collapsed": true
   },
   "outputs": [],
   "source": [
    "data3.head(10)"
   ]
  },
  {
   "cell_type": "code",
   "execution_count": 12,
   "metadata": {
    "collapsed": true
   },
   "outputs": [],
   "source": [
    "basket = (data4\n",
    "          .groupby(['order_id','product_id'])['up_orders']\n",
    "          .sum()\n",
    "          .unstack()\n",
    "          .reset_index().fillna(0)  \n",
    "          .set_index('order_id')\n",
    "         )"
   ]
  },
  {
   "cell_type": "code",
   "execution_count": 13,
   "metadata": {},
   "outputs": [
    {
     "data": {
      "text/html": [
       "<div>\n",
       "<style>\n",
       "    .dataframe thead tr:only-child th {\n",
       "        text-align: right;\n",
       "    }\n",
       "\n",
       "    .dataframe thead th {\n",
       "        text-align: left;\n",
       "    }\n",
       "\n",
       "    .dataframe tbody tr th {\n",
       "        vertical-align: top;\n",
       "    }\n",
       "</style>\n",
       "<table border=\"1\" class=\"dataframe\">\n",
       "  <thead>\n",
       "    <tr style=\"text-align: right;\">\n",
       "      <th>product_id</th>\n",
       "      <th>1</th>\n",
       "      <th>2</th>\n",
       "      <th>3</th>\n",
       "      <th>4</th>\n",
       "      <th>7</th>\n",
       "      <th>8</th>\n",
       "      <th>9</th>\n",
       "      <th>10</th>\n",
       "      <th>11</th>\n",
       "      <th>12</th>\n",
       "      <th>...</th>\n",
       "      <th>49677</th>\n",
       "      <th>49678</th>\n",
       "      <th>49679</th>\n",
       "      <th>49680</th>\n",
       "      <th>49681</th>\n",
       "      <th>49682</th>\n",
       "      <th>49683</th>\n",
       "      <th>49684</th>\n",
       "      <th>49687</th>\n",
       "      <th>49688</th>\n",
       "    </tr>\n",
       "    <tr>\n",
       "      <th>order_id</th>\n",
       "      <th></th>\n",
       "      <th></th>\n",
       "      <th></th>\n",
       "      <th></th>\n",
       "      <th></th>\n",
       "      <th></th>\n",
       "      <th></th>\n",
       "      <th></th>\n",
       "      <th></th>\n",
       "      <th></th>\n",
       "      <th></th>\n",
       "      <th></th>\n",
       "      <th></th>\n",
       "      <th></th>\n",
       "      <th></th>\n",
       "      <th></th>\n",
       "      <th></th>\n",
       "      <th></th>\n",
       "      <th></th>\n",
       "      <th></th>\n",
       "      <th></th>\n",
       "    </tr>\n",
       "  </thead>\n",
       "  <tbody>\n",
       "    <tr>\n",
       "      <th>3419587</th>\n",
       "      <td>0.0</td>\n",
       "      <td>0.0</td>\n",
       "      <td>0.0</td>\n",
       "      <td>0.0</td>\n",
       "      <td>0.0</td>\n",
       "      <td>0.0</td>\n",
       "      <td>0.0</td>\n",
       "      <td>0.0</td>\n",
       "      <td>0.0</td>\n",
       "      <td>0.0</td>\n",
       "      <td>...</td>\n",
       "      <td>0.0</td>\n",
       "      <td>0.0</td>\n",
       "      <td>0.0</td>\n",
       "      <td>0.0</td>\n",
       "      <td>0.0</td>\n",
       "      <td>0.0</td>\n",
       "      <td>0.0</td>\n",
       "      <td>0.0</td>\n",
       "      <td>0.0</td>\n",
       "      <td>0.0</td>\n",
       "    </tr>\n",
       "    <tr>\n",
       "      <th>3419629</th>\n",
       "      <td>0.0</td>\n",
       "      <td>0.0</td>\n",
       "      <td>0.0</td>\n",
       "      <td>0.0</td>\n",
       "      <td>0.0</td>\n",
       "      <td>0.0</td>\n",
       "      <td>0.0</td>\n",
       "      <td>0.0</td>\n",
       "      <td>0.0</td>\n",
       "      <td>0.0</td>\n",
       "      <td>...</td>\n",
       "      <td>0.0</td>\n",
       "      <td>0.0</td>\n",
       "      <td>0.0</td>\n",
       "      <td>0.0</td>\n",
       "      <td>0.0</td>\n",
       "      <td>0.0</td>\n",
       "      <td>0.0</td>\n",
       "      <td>0.0</td>\n",
       "      <td>0.0</td>\n",
       "      <td>0.0</td>\n",
       "    </tr>\n",
       "    <tr>\n",
       "      <th>3419832</th>\n",
       "      <td>0.0</td>\n",
       "      <td>0.0</td>\n",
       "      <td>0.0</td>\n",
       "      <td>0.0</td>\n",
       "      <td>0.0</td>\n",
       "      <td>0.0</td>\n",
       "      <td>0.0</td>\n",
       "      <td>0.0</td>\n",
       "      <td>0.0</td>\n",
       "      <td>0.0</td>\n",
       "      <td>...</td>\n",
       "      <td>0.0</td>\n",
       "      <td>0.0</td>\n",
       "      <td>0.0</td>\n",
       "      <td>0.0</td>\n",
       "      <td>0.0</td>\n",
       "      <td>0.0</td>\n",
       "      <td>0.0</td>\n",
       "      <td>0.0</td>\n",
       "      <td>0.0</td>\n",
       "      <td>0.0</td>\n",
       "    </tr>\n",
       "    <tr>\n",
       "      <th>3420425</th>\n",
       "      <td>0.0</td>\n",
       "      <td>0.0</td>\n",
       "      <td>0.0</td>\n",
       "      <td>0.0</td>\n",
       "      <td>0.0</td>\n",
       "      <td>0.0</td>\n",
       "      <td>0.0</td>\n",
       "      <td>0.0</td>\n",
       "      <td>0.0</td>\n",
       "      <td>0.0</td>\n",
       "      <td>...</td>\n",
       "      <td>0.0</td>\n",
       "      <td>0.0</td>\n",
       "      <td>0.0</td>\n",
       "      <td>0.0</td>\n",
       "      <td>0.0</td>\n",
       "      <td>0.0</td>\n",
       "      <td>0.0</td>\n",
       "      <td>0.0</td>\n",
       "      <td>0.0</td>\n",
       "      <td>0.0</td>\n",
       "    </tr>\n",
       "    <tr>\n",
       "      <th>3420449</th>\n",
       "      <td>0.0</td>\n",
       "      <td>0.0</td>\n",
       "      <td>0.0</td>\n",
       "      <td>0.0</td>\n",
       "      <td>0.0</td>\n",
       "      <td>0.0</td>\n",
       "      <td>0.0</td>\n",
       "      <td>0.0</td>\n",
       "      <td>0.0</td>\n",
       "      <td>0.0</td>\n",
       "      <td>...</td>\n",
       "      <td>0.0</td>\n",
       "      <td>0.0</td>\n",
       "      <td>0.0</td>\n",
       "      <td>0.0</td>\n",
       "      <td>0.0</td>\n",
       "      <td>0.0</td>\n",
       "      <td>0.0</td>\n",
       "      <td>0.0</td>\n",
       "      <td>0.0</td>\n",
       "      <td>0.0</td>\n",
       "    </tr>\n",
       "  </tbody>\n",
       "</table>\n",
       "<p>5 rows × 37288 columns</p>\n",
       "</div>"
      ],
      "text/plain": [
       "product_id  1      2      3      4      7      8      9      10     11     \\\n",
       "order_id                                                                    \n",
       "3419587       0.0    0.0    0.0    0.0    0.0    0.0    0.0    0.0    0.0   \n",
       "3419629       0.0    0.0    0.0    0.0    0.0    0.0    0.0    0.0    0.0   \n",
       "3419832       0.0    0.0    0.0    0.0    0.0    0.0    0.0    0.0    0.0   \n",
       "3420425       0.0    0.0    0.0    0.0    0.0    0.0    0.0    0.0    0.0   \n",
       "3420449       0.0    0.0    0.0    0.0    0.0    0.0    0.0    0.0    0.0   \n",
       "\n",
       "product_id  12     ...    49677  49678  49679  49680  49681  49682  49683  \\\n",
       "order_id           ...                                                      \n",
       "3419587       0.0  ...      0.0    0.0    0.0    0.0    0.0    0.0    0.0   \n",
       "3419629       0.0  ...      0.0    0.0    0.0    0.0    0.0    0.0    0.0   \n",
       "3419832       0.0  ...      0.0    0.0    0.0    0.0    0.0    0.0    0.0   \n",
       "3420425       0.0  ...      0.0    0.0    0.0    0.0    0.0    0.0    0.0   \n",
       "3420449       0.0  ...      0.0    0.0    0.0    0.0    0.0    0.0    0.0   \n",
       "\n",
       "product_id  49684  49687  49688  \n",
       "order_id                         \n",
       "3419587       0.0    0.0    0.0  \n",
       "3419629       0.0    0.0    0.0  \n",
       "3419832       0.0    0.0    0.0  \n",
       "3420425       0.0    0.0    0.0  \n",
       "3420449       0.0    0.0    0.0  \n",
       "\n",
       "[5 rows x 37288 columns]"
      ]
     },
     "execution_count": 13,
     "metadata": {},
     "output_type": "execute_result"
    }
   ],
   "source": [
    "basket.tail()"
   ]
  },
  {
   "cell_type": "code",
   "execution_count": 14,
   "metadata": {
    "collapsed": true
   },
   "outputs": [],
   "source": [
    "def encode_units(x):\n",
    "    if x <= 0:\n",
    "        return 0\n",
    "    if x >= 1:\n",
    "        return 1\n",
    "\n",
    "basket_sets = basket.applymap(encode_units)"
   ]
  },
  {
   "cell_type": "code",
   "execution_count": 15,
   "metadata": {},
   "outputs": [
    {
     "data": {
      "text/html": [
       "<div>\n",
       "<style>\n",
       "    .dataframe thead tr:only-child th {\n",
       "        text-align: right;\n",
       "    }\n",
       "\n",
       "    .dataframe thead th {\n",
       "        text-align: left;\n",
       "    }\n",
       "\n",
       "    .dataframe tbody tr th {\n",
       "        vertical-align: top;\n",
       "    }\n",
       "</style>\n",
       "<table border=\"1\" class=\"dataframe\">\n",
       "  <thead>\n",
       "    <tr style=\"text-align: right;\">\n",
       "      <th>product_id</th>\n",
       "      <th>1</th>\n",
       "      <th>2</th>\n",
       "      <th>3</th>\n",
       "      <th>4</th>\n",
       "      <th>7</th>\n",
       "      <th>8</th>\n",
       "      <th>9</th>\n",
       "      <th>10</th>\n",
       "      <th>11</th>\n",
       "      <th>12</th>\n",
       "      <th>...</th>\n",
       "      <th>49677</th>\n",
       "      <th>49678</th>\n",
       "      <th>49679</th>\n",
       "      <th>49680</th>\n",
       "      <th>49681</th>\n",
       "      <th>49682</th>\n",
       "      <th>49683</th>\n",
       "      <th>49684</th>\n",
       "      <th>49687</th>\n",
       "      <th>49688</th>\n",
       "    </tr>\n",
       "    <tr>\n",
       "      <th>order_id</th>\n",
       "      <th></th>\n",
       "      <th></th>\n",
       "      <th></th>\n",
       "      <th></th>\n",
       "      <th></th>\n",
       "      <th></th>\n",
       "      <th></th>\n",
       "      <th></th>\n",
       "      <th></th>\n",
       "      <th></th>\n",
       "      <th></th>\n",
       "      <th></th>\n",
       "      <th></th>\n",
       "      <th></th>\n",
       "      <th></th>\n",
       "      <th></th>\n",
       "      <th></th>\n",
       "      <th></th>\n",
       "      <th></th>\n",
       "      <th></th>\n",
       "      <th></th>\n",
       "    </tr>\n",
       "  </thead>\n",
       "  <tbody>\n",
       "    <tr>\n",
       "      <th>393</th>\n",
       "      <td>0</td>\n",
       "      <td>0</td>\n",
       "      <td>0</td>\n",
       "      <td>0</td>\n",
       "      <td>0</td>\n",
       "      <td>0</td>\n",
       "      <td>0</td>\n",
       "      <td>0</td>\n",
       "      <td>0</td>\n",
       "      <td>0</td>\n",
       "      <td>...</td>\n",
       "      <td>0</td>\n",
       "      <td>0</td>\n",
       "      <td>0</td>\n",
       "      <td>0</td>\n",
       "      <td>0</td>\n",
       "      <td>0</td>\n",
       "      <td>0</td>\n",
       "      <td>0</td>\n",
       "      <td>0</td>\n",
       "      <td>0</td>\n",
       "    </tr>\n",
       "    <tr>\n",
       "      <th>904</th>\n",
       "      <td>0</td>\n",
       "      <td>0</td>\n",
       "      <td>0</td>\n",
       "      <td>0</td>\n",
       "      <td>0</td>\n",
       "      <td>0</td>\n",
       "      <td>0</td>\n",
       "      <td>0</td>\n",
       "      <td>0</td>\n",
       "      <td>0</td>\n",
       "      <td>...</td>\n",
       "      <td>0</td>\n",
       "      <td>0</td>\n",
       "      <td>0</td>\n",
       "      <td>0</td>\n",
       "      <td>0</td>\n",
       "      <td>0</td>\n",
       "      <td>0</td>\n",
       "      <td>0</td>\n",
       "      <td>0</td>\n",
       "      <td>0</td>\n",
       "    </tr>\n",
       "    <tr>\n",
       "      <th>915</th>\n",
       "      <td>0</td>\n",
       "      <td>0</td>\n",
       "      <td>0</td>\n",
       "      <td>0</td>\n",
       "      <td>0</td>\n",
       "      <td>0</td>\n",
       "      <td>0</td>\n",
       "      <td>0</td>\n",
       "      <td>0</td>\n",
       "      <td>0</td>\n",
       "      <td>...</td>\n",
       "      <td>0</td>\n",
       "      <td>0</td>\n",
       "      <td>0</td>\n",
       "      <td>0</td>\n",
       "      <td>0</td>\n",
       "      <td>0</td>\n",
       "      <td>0</td>\n",
       "      <td>0</td>\n",
       "      <td>0</td>\n",
       "      <td>0</td>\n",
       "    </tr>\n",
       "    <tr>\n",
       "      <th>988</th>\n",
       "      <td>0</td>\n",
       "      <td>0</td>\n",
       "      <td>0</td>\n",
       "      <td>0</td>\n",
       "      <td>0</td>\n",
       "      <td>0</td>\n",
       "      <td>0</td>\n",
       "      <td>0</td>\n",
       "      <td>0</td>\n",
       "      <td>0</td>\n",
       "      <td>...</td>\n",
       "      <td>0</td>\n",
       "      <td>0</td>\n",
       "      <td>0</td>\n",
       "      <td>0</td>\n",
       "      <td>0</td>\n",
       "      <td>0</td>\n",
       "      <td>0</td>\n",
       "      <td>0</td>\n",
       "      <td>0</td>\n",
       "      <td>0</td>\n",
       "    </tr>\n",
       "    <tr>\n",
       "      <th>1077</th>\n",
       "      <td>0</td>\n",
       "      <td>0</td>\n",
       "      <td>0</td>\n",
       "      <td>0</td>\n",
       "      <td>0</td>\n",
       "      <td>0</td>\n",
       "      <td>0</td>\n",
       "      <td>0</td>\n",
       "      <td>0</td>\n",
       "      <td>0</td>\n",
       "      <td>...</td>\n",
       "      <td>0</td>\n",
       "      <td>0</td>\n",
       "      <td>0</td>\n",
       "      <td>0</td>\n",
       "      <td>0</td>\n",
       "      <td>0</td>\n",
       "      <td>0</td>\n",
       "      <td>0</td>\n",
       "      <td>0</td>\n",
       "      <td>0</td>\n",
       "    </tr>\n",
       "  </tbody>\n",
       "</table>\n",
       "<p>5 rows × 37288 columns</p>\n",
       "</div>"
      ],
      "text/plain": [
       "product_id  1      2      3      4      7      8      9      10     11     \\\n",
       "order_id                                                                    \n",
       "393             0      0      0      0      0      0      0      0      0   \n",
       "904             0      0      0      0      0      0      0      0      0   \n",
       "915             0      0      0      0      0      0      0      0      0   \n",
       "988             0      0      0      0      0      0      0      0      0   \n",
       "1077            0      0      0      0      0      0      0      0      0   \n",
       "\n",
       "product_id  12     ...    49677  49678  49679  49680  49681  49682  49683  \\\n",
       "order_id           ...                                                      \n",
       "393             0  ...        0      0      0      0      0      0      0   \n",
       "904             0  ...        0      0      0      0      0      0      0   \n",
       "915             0  ...        0      0      0      0      0      0      0   \n",
       "988             0  ...        0      0      0      0      0      0      0   \n",
       "1077            0  ...        0      0      0      0      0      0      0   \n",
       "\n",
       "product_id  49684  49687  49688  \n",
       "order_id                         \n",
       "393             0      0      0  \n",
       "904             0      0      0  \n",
       "915             0      0      0  \n",
       "988             0      0      0  \n",
       "1077            0      0      0  \n",
       "\n",
       "[5 rows x 37288 columns]"
      ]
     },
     "execution_count": 15,
     "metadata": {},
     "output_type": "execute_result"
    }
   ],
   "source": [
    "basket_sets.head()"
   ]
  },
  {
   "cell_type": "code",
   "execution_count": null,
   "metadata": {
    "collapsed": true
   },
   "outputs": [],
   "source": [
    "frequent_itemsets = apriori(basket_sets, min_support=0.01) #"
   ]
  },
  {
   "cell_type": "code",
   "execution_count": null,
   "metadata": {
    "collapsed": true
   },
   "outputs": [],
   "source": [
    "frequent_itemsets.head()"
   ]
  },
  {
   "cell_type": "code",
   "execution_count": null,
   "metadata": {
    "collapsed": true
   },
   "outputs": [],
   "source": [
    "rules = association_rules(frequent_itemsets, metric=\"confidence\", min_threshold=0.01) "
   ]
  },
  {
   "cell_type": "code",
   "execution_count": null,
   "metadata": {
    "collapsed": true
   },
   "outputs": [],
   "source": [
    "rules"
   ]
  },
  {
   "cell_type": "code",
   "execution_count": null,
   "metadata": {
    "collapsed": true
   },
   "outputs": [],
   "source": [
    "rules[ (rules['lift'] >= 1.5) &\n",
    "       (rules['confidence'] >= 0.01) ]"
   ]
  },
  {
   "cell_type": "markdown",
   "metadata": {},
   "source": [
    "#### (6) 최종 train, test dataset "
   ]
  },
  {
   "cell_type": "code",
   "execution_count": 176,
   "metadata": {},
   "outputs": [],
   "source": [
    "# train set 생성\n",
    "train = data[data['eval_set'] == 'train']"
   ]
  },
  {
   "cell_type": "code",
   "execution_count": 177,
   "metadata": {
    "scrolled": true
   },
   "outputs": [
    {
     "name": "stderr",
     "output_type": "stream",
     "text": [
      "C:\\Anaconda3\\lib\\site-packages\\pandas\\core\\generic.py:3549: SettingWithCopyWarning: \n",
      "A value is trying to be set on a copy of a slice from a DataFrame\n",
      "\n",
      "See the caveats in the documentation: http://pandas.pydata.org/pandas-docs/stable/indexing.html#indexing-view-versus-copy\n",
      "  self._update_inplace(new_data)\n",
      "C:\\Anaconda3\\lib\\site-packages\\ipykernel_launcher.py:2: SettingWithCopyWarning: \n",
      "A value is trying to be set on a copy of a slice from a DataFrame\n",
      "\n",
      "See the caveats in the documentation: http://pandas.pydata.org/pandas-docs/stable/indexing.html#indexing-view-versus-copy\n",
      "  \n"
     ]
    }
   ],
   "source": [
    "train['reordered'].fillna(0, inplace=True) # NaN 값 0으로 치환\n",
    "train.drop(['eval_set', 'user_id', 'product_id', 'order_id'], axis = 1, inplace = True) # training feature 외 feature 제외"
   ]
  },
  {
   "cell_type": "code",
   "execution_count": 178,
   "metadata": {
    "scrolled": true
   },
   "outputs": [
    {
     "data": {
      "text/plain": [
       "(8455735, 20)"
      ]
     },
     "execution_count": 178,
     "metadata": {},
     "output_type": "execute_result"
    }
   ],
   "source": [
    "train.shape"
   ]
  },
  {
   "cell_type": "code",
   "execution_count": 179,
   "metadata": {},
   "outputs": [
    {
     "data": {
      "text/plain": [
       "Index(['up_orders', 'up_first_order', 'up_last_order',\n",
       "       'up_average_cart_position', 'prod_orders', 'prod_reorder_probability',\n",
       "       'prod_reorder_times', 'prod_reorder_ratio', 'user_orders',\n",
       "       'user_period', 'user_mean_days_since_prior', 'user_total_products',\n",
       "       'user_reorder_ratio', 'user_distinct_products', 'user_average_basket',\n",
       "       'days_since_prior_order', 'up_order_rate', 'up_orders_since_last_order',\n",
       "       'up_order_rate_since_first_order', 'reordered'],\n",
       "      dtype='object')"
      ]
     },
     "execution_count": 179,
     "metadata": {},
     "output_type": "execute_result"
    }
   ],
   "source": [
    "train.columns"
   ]
  },
  {
   "cell_type": "code",
   "execution_count": 180,
   "metadata": {},
   "outputs": [
    {
     "name": "stderr",
     "output_type": "stream",
     "text": [
      "C:\\Anaconda3\\lib\\site-packages\\pandas\\core\\generic.py:3549: SettingWithCopyWarning: \n",
      "A value is trying to be set on a copy of a slice from a DataFrame\n",
      "\n",
      "See the caveats in the documentation: http://pandas.pydata.org/pandas-docs/stable/indexing.html#indexing-view-versus-copy\n",
      "  self._update_inplace(new_data)\n",
      "C:\\Anaconda3\\lib\\site-packages\\ipykernel_launcher.py:4: SettingWithCopyWarning: \n",
      "A value is trying to be set on a copy of a slice from a DataFrame\n",
      "\n",
      "See the caveats in the documentation: http://pandas.pydata.org/pandas-docs/stable/indexing.html#indexing-view-versus-copy\n",
      "  after removing the cwd from sys.path.\n"
     ]
    }
   ],
   "source": [
    "# filter by eval_set = test, replace Nan with zeros (not reordered) \n",
    "test = data[data['eval_set'] == 'test']\n",
    "test['reordered'].fillna(0, inplace=True)\n",
    "test.drop(['eval_set', 'user_id'], axis = 1, inplace = True)"
   ]
  },
  {
   "cell_type": "code",
   "execution_count": 181,
   "metadata": {
    "scrolled": true
   },
   "outputs": [
    {
     "data": {
      "text/plain": [
       "(4822288, 22)"
      ]
     },
     "execution_count": 181,
     "metadata": {},
     "output_type": "execute_result"
    }
   ],
   "source": [
    "test.shape"
   ]
  },
  {
   "cell_type": "code",
   "execution_count": null,
   "metadata": {
    "collapsed": true
   },
   "outputs": [],
   "source": [
    "# Saving train and test sets to files for easier loading to model, without having to re-prepare the data.\n",
    "train.to_csv('my_train3.csv', header = True, index = False)\n",
    "test.to_csv('my_test3.csv', header = True, index = False)"
   ]
  },
  {
   "cell_type": "markdown",
   "metadata": {},
   "source": [
    "### 3. Model Selection & Evaluation & Prediction"
   ]
  },
  {
   "cell_type": "code",
   "execution_count": 2,
   "metadata": {
    "collapsed": true
   },
   "outputs": [],
   "source": [
    "# loading files\n",
    "train = pd.read_csv('my_train4.csv')\n",
    "test = pd.read_csv('my_test4.csv')"
   ]
  },
  {
   "cell_type": "code",
   "execution_count": 3,
   "metadata": {
    "collapsed": true
   },
   "outputs": [],
   "source": [
    "# Splitting the training set to train and validation set. Validation set \n",
    "from sklearn.model_selection import train_test_split\n",
    "X_train, X_eval, y_train, y_eval = train_test_split(train[train.columns.difference(['reordered'])], train['reordered'], test_size=0.33, random_state=7)"
   ]
  },
  {
   "cell_type": "markdown",
   "metadata": {},
   "source": [
    "* LightGBM, XGBoost 는 전처리 과정(null값 처리, scaling 등) 이 불필요하여, 바로 model을 돌려봄"
   ]
  },
  {
   "cell_type": "markdown",
   "metadata": {},
   "source": [
    "#### (1) LightGBM model"
   ]
  },
  {
   "cell_type": "code",
   "execution_count": 182,
   "metadata": {
    "collapsed": true,
    "scrolled": true
   },
   "outputs": [],
   "source": [
    "import lightgbm as lgb\n",
    "from sklearn.model_selection import GridSearchCV"
   ]
  },
  {
   "cell_type": "code",
   "execution_count": 183,
   "metadata": {},
   "outputs": [
    {
     "name": "stdout",
     "output_type": "stream",
     "text": [
      "formatting to LightGBM format ...\n"
     ]
    }
   ],
   "source": [
    "print('formatting to LightGBM format ...')\n",
    "lgb_train = lgb.Dataset(X_train, label=y_train)\n",
    "lgb_eval = lgb.Dataset(X_eval, y_eval, reference = lgb_train)\n",
    "\n",
    "params = {\n",
    "    'task': 'train',\n",
    "    'boosting_type': 'gbdt',              # Gradient boosting tree algorithm\n",
    "    'objective': 'binary',\n",
    "    'metric': {'binary_logloss', 'auc'},\n",
    "    'num_iterations' : 1000,              \n",
    "    'max_bin' : 100,                      # Controls overfit\n",
    "    'num_leaves': 512,                    # higher number of leaves\n",
    "    'feature_fraction': 0.9,              # Controls overfit\n",
    "    'bagging_fraction': 0.95,\n",
    "    'bagging_freq': 5,\n",
    "    'min_data_in_leaf' : 200,             # Controls overfit\n",
    "    'learning_rate' : 0.1,\n",
    "    #'device' : 'gpu',                     # Disable this if not using GPU\n",
    "    #'gpu_use_dp' : True,                  # To make GPU use double precision\n",
    "}"
   ]
  },
  {
   "cell_type": "code",
   "execution_count": 184,
   "metadata": {},
   "outputs": [
    {
     "name": "stdout",
     "output_type": "stream",
     "text": [
      "training LightGBM model ...\n",
      "[1]\tvalid_0's binary_logloss: 0.625196\tvalid_0's auc: 0.826059\n",
      "Train until valid scores didn't improve in 10 rounds.\n",
      "[2]\tvalid_0's binary_logloss: 0.569915\tvalid_0's auc: 0.826801\n",
      "[3]\tvalid_0's binary_logloss: 0.523781\tvalid_0's auc: 0.828213\n",
      "[4]\tvalid_0's binary_logloss: 0.485306\tvalid_0's auc: 0.828208\n",
      "[5]\tvalid_0's binary_logloss: 0.452511\tvalid_0's auc: 0.828977\n",
      "[6]\tvalid_0's binary_logloss: 0.424586\tvalid_0's auc: 0.829361\n",
      "[7]\tvalid_0's binary_logloss: 0.400749\tvalid_0's auc: 0.82959\n",
      "[8]\tvalid_0's binary_logloss: 0.380193\tvalid_0's auc: 0.829828\n",
      "[9]\tvalid_0's binary_logloss: 0.362615\tvalid_0's auc: 0.83002\n",
      "[10]\tvalid_0's binary_logloss: 0.347249\tvalid_0's auc: 0.830254\n",
      "[11]\tvalid_0's binary_logloss: 0.333938\tvalid_0's auc: 0.830493\n",
      "[12]\tvalid_0's binary_logloss: 0.322381\tvalid_0's auc: 0.830618\n",
      "[13]\tvalid_0's binary_logloss: 0.31245\tvalid_0's auc: 0.830648\n",
      "[14]\tvalid_0's binary_logloss: 0.303676\tvalid_0's auc: 0.830909\n",
      "[15]\tvalid_0's binary_logloss: 0.296091\tvalid_0's auc: 0.831037\n",
      "[16]\tvalid_0's binary_logloss: 0.289448\tvalid_0's auc: 0.83118\n",
      "[17]\tvalid_0's binary_logloss: 0.283648\tvalid_0's auc: 0.831372\n",
      "[18]\tvalid_0's binary_logloss: 0.278633\tvalid_0's auc: 0.831485\n",
      "[19]\tvalid_0's binary_logloss: 0.274223\tvalid_0's auc: 0.831647\n",
      "[20]\tvalid_0's binary_logloss: 0.270381\tvalid_0's auc: 0.831774\n",
      "[21]\tvalid_0's binary_logloss: 0.267049\tvalid_0's auc: 0.831902\n",
      "[22]\tvalid_0's binary_logloss: 0.264151\tvalid_0's auc: 0.832009\n",
      "[23]\tvalid_0's binary_logloss: 0.261616\tvalid_0's auc: 0.832138\n",
      "[24]\tvalid_0's binary_logloss: 0.259412\tvalid_0's auc: 0.832294\n",
      "[25]\tvalid_0's binary_logloss: 0.257503\tvalid_0's auc: 0.832376\n",
      "[26]\tvalid_0's binary_logloss: 0.255842\tvalid_0's auc: 0.832478\n",
      "[27]\tvalid_0's binary_logloss: 0.254403\tvalid_0's auc: 0.832578\n",
      "[28]\tvalid_0's binary_logloss: 0.253145\tvalid_0's auc: 0.832696\n",
      "[29]\tvalid_0's binary_logloss: 0.25206\tvalid_0's auc: 0.832792\n",
      "[30]\tvalid_0's binary_logloss: 0.251109\tvalid_0's auc: 0.832903\n",
      "[31]\tvalid_0's binary_logloss: 0.25028\tvalid_0's auc: 0.833029\n",
      "[32]\tvalid_0's binary_logloss: 0.249575\tvalid_0's auc: 0.833133\n",
      "[33]\tvalid_0's binary_logloss: 0.248946\tvalid_0's auc: 0.833244\n",
      "[34]\tvalid_0's binary_logloss: 0.248424\tvalid_0's auc: 0.83331\n",
      "[35]\tvalid_0's binary_logloss: 0.247955\tvalid_0's auc: 0.833392\n",
      "[36]\tvalid_0's binary_logloss: 0.247571\tvalid_0's auc: 0.833445\n",
      "[37]\tvalid_0's binary_logloss: 0.247223\tvalid_0's auc: 0.833532\n",
      "[38]\tvalid_0's binary_logloss: 0.2469\tvalid_0's auc: 0.833641\n",
      "[39]\tvalid_0's binary_logloss: 0.246626\tvalid_0's auc: 0.833731\n",
      "[40]\tvalid_0's binary_logloss: 0.246415\tvalid_0's auc: 0.833775\n",
      "[41]\tvalid_0's binary_logloss: 0.246193\tvalid_0's auc: 0.833871\n",
      "[42]\tvalid_0's binary_logloss: 0.246022\tvalid_0's auc: 0.833941\n",
      "[43]\tvalid_0's binary_logloss: 0.245861\tvalid_0's auc: 0.834023\n",
      "[44]\tvalid_0's binary_logloss: 0.245727\tvalid_0's auc: 0.834094\n",
      "[45]\tvalid_0's binary_logloss: 0.245616\tvalid_0's auc: 0.834157\n",
      "[46]\tvalid_0's binary_logloss: 0.245523\tvalid_0's auc: 0.834203\n",
      "[47]\tvalid_0's binary_logloss: 0.24543\tvalid_0's auc: 0.83427\n",
      "[48]\tvalid_0's binary_logloss: 0.245358\tvalid_0's auc: 0.834312\n",
      "[49]\tvalid_0's binary_logloss: 0.245263\tvalid_0's auc: 0.834398\n",
      "[50]\tvalid_0's binary_logloss: 0.245169\tvalid_0's auc: 0.834486\n",
      "[51]\tvalid_0's binary_logloss: 0.245105\tvalid_0's auc: 0.834544\n",
      "[52]\tvalid_0's binary_logloss: 0.245034\tvalid_0's auc: 0.834621\n",
      "[53]\tvalid_0's binary_logloss: 0.244975\tvalid_0's auc: 0.834682\n",
      "[54]\tvalid_0's binary_logloss: 0.244911\tvalid_0's auc: 0.834761\n",
      "[55]\tvalid_0's binary_logloss: 0.24485\tvalid_0's auc: 0.834838\n",
      "[56]\tvalid_0's binary_logloss: 0.244805\tvalid_0's auc: 0.834889\n",
      "[57]\tvalid_0's binary_logloss: 0.244771\tvalid_0's auc: 0.834936\n",
      "[58]\tvalid_0's binary_logloss: 0.244716\tvalid_0's auc: 0.835008\n",
      "[59]\tvalid_0's binary_logloss: 0.244673\tvalid_0's auc: 0.835064\n",
      "[60]\tvalid_0's binary_logloss: 0.244642\tvalid_0's auc: 0.83511\n",
      "[61]\tvalid_0's binary_logloss: 0.244595\tvalid_0's auc: 0.83518\n",
      "[62]\tvalid_0's binary_logloss: 0.244552\tvalid_0's auc: 0.835255\n",
      "[63]\tvalid_0's binary_logloss: 0.244545\tvalid_0's auc: 0.835263\n",
      "[64]\tvalid_0's binary_logloss: 0.244501\tvalid_0's auc: 0.835327\n",
      "[65]\tvalid_0's binary_logloss: 0.244464\tvalid_0's auc: 0.835386\n",
      "[66]\tvalid_0's binary_logloss: 0.244452\tvalid_0's auc: 0.835405\n",
      "[67]\tvalid_0's binary_logloss: 0.244416\tvalid_0's auc: 0.835459\n",
      "[68]\tvalid_0's binary_logloss: 0.244364\tvalid_0's auc: 0.835534\n",
      "[69]\tvalid_0's binary_logloss: 0.244343\tvalid_0's auc: 0.835579\n",
      "[70]\tvalid_0's binary_logloss: 0.244299\tvalid_0's auc: 0.835649\n",
      "[71]\tvalid_0's binary_logloss: 0.244283\tvalid_0's auc: 0.835675\n",
      "[72]\tvalid_0's binary_logloss: 0.244242\tvalid_0's auc: 0.835737\n",
      "[73]\tvalid_0's binary_logloss: 0.244229\tvalid_0's auc: 0.835756\n",
      "[74]\tvalid_0's binary_logloss: 0.244221\tvalid_0's auc: 0.835772\n",
      "[75]\tvalid_0's binary_logloss: 0.244216\tvalid_0's auc: 0.835782\n",
      "[76]\tvalid_0's binary_logloss: 0.244211\tvalid_0's auc: 0.835792\n",
      "[77]\tvalid_0's binary_logloss: 0.244197\tvalid_0's auc: 0.835818\n",
      "[78]\tvalid_0's binary_logloss: 0.244191\tvalid_0's auc: 0.835829\n",
      "[79]\tvalid_0's binary_logloss: 0.244171\tvalid_0's auc: 0.835861\n",
      "[80]\tvalid_0's binary_logloss: 0.24414\tvalid_0's auc: 0.83592\n",
      "[81]\tvalid_0's binary_logloss: 0.244122\tvalid_0's auc: 0.835954\n",
      "[82]\tvalid_0's binary_logloss: 0.244101\tvalid_0's auc: 0.83599\n",
      "[83]\tvalid_0's binary_logloss: 0.244091\tvalid_0's auc: 0.836009\n",
      "[84]\tvalid_0's binary_logloss: 0.244087\tvalid_0's auc: 0.836017\n",
      "[85]\tvalid_0's binary_logloss: 0.244086\tvalid_0's auc: 0.836019\n",
      "[86]\tvalid_0's binary_logloss: 0.244081\tvalid_0's auc: 0.836031\n",
      "[87]\tvalid_0's binary_logloss: 0.244048\tvalid_0's auc: 0.836089\n",
      "[88]\tvalid_0's binary_logloss: 0.244047\tvalid_0's auc: 0.836093\n",
      "[89]\tvalid_0's binary_logloss: 0.244042\tvalid_0's auc: 0.836099\n",
      "[90]\tvalid_0's binary_logloss: 0.244036\tvalid_0's auc: 0.836105\n",
      "[91]\tvalid_0's binary_logloss: 0.244004\tvalid_0's auc: 0.836154\n",
      "[92]\tvalid_0's binary_logloss: 0.243995\tvalid_0's auc: 0.836173\n",
      "[93]\tvalid_0's binary_logloss: 0.243988\tvalid_0's auc: 0.836186\n",
      "[94]\tvalid_0's binary_logloss: 0.243988\tvalid_0's auc: 0.836187\n",
      "[95]\tvalid_0's binary_logloss: 0.243989\tvalid_0's auc: 0.836185\n",
      "[96]\tvalid_0's binary_logloss: 0.243972\tvalid_0's auc: 0.836217\n",
      "[97]\tvalid_0's binary_logloss: 0.243933\tvalid_0's auc: 0.836288\n",
      "[98]\tvalid_0's binary_logloss: 0.243907\tvalid_0's auc: 0.836331\n",
      "[99]\tvalid_0's binary_logloss: 0.243911\tvalid_0's auc: 0.836322\n",
      "[100]\tvalid_0's binary_logloss: 0.243909\tvalid_0's auc: 0.836327\n",
      "[101]\tvalid_0's binary_logloss: 0.243897\tvalid_0's auc: 0.836346\n",
      "[102]\tvalid_0's binary_logloss: 0.243888\tvalid_0's auc: 0.836365\n",
      "[103]\tvalid_0's binary_logloss: 0.243881\tvalid_0's auc: 0.83638\n",
      "[104]\tvalid_0's binary_logloss: 0.243881\tvalid_0's auc: 0.836381\n",
      "[105]\tvalid_0's binary_logloss: 0.243877\tvalid_0's auc: 0.836384\n",
      "[106]\tvalid_0's binary_logloss: 0.243876\tvalid_0's auc: 0.836385\n",
      "[107]\tvalid_0's binary_logloss: 0.243869\tvalid_0's auc: 0.83639\n",
      "[108]\tvalid_0's binary_logloss: 0.243846\tvalid_0's auc: 0.836427\n",
      "[109]\tvalid_0's binary_logloss: 0.243848\tvalid_0's auc: 0.836422\n",
      "[110]\tvalid_0's binary_logloss: 0.243842\tvalid_0's auc: 0.836433\n",
      "[111]\tvalid_0's binary_logloss: 0.24384\tvalid_0's auc: 0.836435\n",
      "[112]\tvalid_0's binary_logloss: 0.243804\tvalid_0's auc: 0.836494\n",
      "[113]\tvalid_0's binary_logloss: 0.243805\tvalid_0's auc: 0.836493\n",
      "[114]\tvalid_0's binary_logloss: 0.243804\tvalid_0's auc: 0.836495\n",
      "[115]\tvalid_0's binary_logloss: 0.243794\tvalid_0's auc: 0.836513\n",
      "[116]\tvalid_0's binary_logloss: 0.243796\tvalid_0's auc: 0.836514\n",
      "[117]\tvalid_0's binary_logloss: 0.243798\tvalid_0's auc: 0.836509\n",
      "[118]\tvalid_0's binary_logloss: 0.243801\tvalid_0's auc: 0.836507\n",
      "[119]\tvalid_0's binary_logloss: 0.243801\tvalid_0's auc: 0.836507\n",
      "[120]\tvalid_0's binary_logloss: 0.243797\tvalid_0's auc: 0.836517\n",
      "[121]\tvalid_0's binary_logloss: 0.243794\tvalid_0's auc: 0.836519\n",
      "[122]\tvalid_0's binary_logloss: 0.243791\tvalid_0's auc: 0.836525\n",
      "[123]\tvalid_0's binary_logloss: 0.243791\tvalid_0's auc: 0.836523\n",
      "[124]\tvalid_0's binary_logloss: 0.243796\tvalid_0's auc: 0.836514\n",
      "[125]\tvalid_0's binary_logloss: 0.243798\tvalid_0's auc: 0.83651\n",
      "[126]\tvalid_0's binary_logloss: 0.243782\tvalid_0's auc: 0.836537\n",
      "[127]\tvalid_0's binary_logloss: 0.243781\tvalid_0's auc: 0.836542\n"
     ]
    },
    {
     "name": "stdout",
     "output_type": "stream",
     "text": [
      "[128]\tvalid_0's binary_logloss: 0.243768\tvalid_0's auc: 0.836565\n",
      "[129]\tvalid_0's binary_logloss: 0.243763\tvalid_0's auc: 0.836572\n",
      "[130]\tvalid_0's binary_logloss: 0.243753\tvalid_0's auc: 0.83659\n",
      "[131]\tvalid_0's binary_logloss: 0.243745\tvalid_0's auc: 0.836609\n",
      "[132]\tvalid_0's binary_logloss: 0.243744\tvalid_0's auc: 0.836613\n",
      "[133]\tvalid_0's binary_logloss: 0.243745\tvalid_0's auc: 0.836613\n",
      "[134]\tvalid_0's binary_logloss: 0.243747\tvalid_0's auc: 0.836607\n",
      "[135]\tvalid_0's binary_logloss: 0.243746\tvalid_0's auc: 0.836608\n",
      "[136]\tvalid_0's binary_logloss: 0.243742\tvalid_0's auc: 0.836617\n",
      "[137]\tvalid_0's binary_logloss: 0.243745\tvalid_0's auc: 0.836613\n",
      "[138]\tvalid_0's binary_logloss: 0.243745\tvalid_0's auc: 0.836614\n",
      "[139]\tvalid_0's binary_logloss: 0.243747\tvalid_0's auc: 0.836613\n",
      "[140]\tvalid_0's binary_logloss: 0.243749\tvalid_0's auc: 0.836611\n",
      "[141]\tvalid_0's binary_logloss: 0.243736\tvalid_0's auc: 0.836635\n",
      "[142]\tvalid_0's binary_logloss: 0.243738\tvalid_0's auc: 0.836635\n",
      "[143]\tvalid_0's binary_logloss: 0.24373\tvalid_0's auc: 0.836647\n",
      "[144]\tvalid_0's binary_logloss: 0.243731\tvalid_0's auc: 0.836646\n",
      "[145]\tvalid_0's binary_logloss: 0.243735\tvalid_0's auc: 0.836639\n",
      "[146]\tvalid_0's binary_logloss: 0.24373\tvalid_0's auc: 0.83665\n",
      "[147]\tvalid_0's binary_logloss: 0.243727\tvalid_0's auc: 0.836654\n",
      "[148]\tvalid_0's binary_logloss: 0.243729\tvalid_0's auc: 0.83665\n",
      "[149]\tvalid_0's binary_logloss: 0.243722\tvalid_0's auc: 0.836663\n",
      "[150]\tvalid_0's binary_logloss: 0.243727\tvalid_0's auc: 0.836656\n",
      "[151]\tvalid_0's binary_logloss: 0.243732\tvalid_0's auc: 0.836649\n",
      "[152]\tvalid_0's binary_logloss: 0.243712\tvalid_0's auc: 0.836672\n",
      "[153]\tvalid_0's binary_logloss: 0.243716\tvalid_0's auc: 0.836667\n",
      "[154]\tvalid_0's binary_logloss: 0.243717\tvalid_0's auc: 0.836668\n",
      "[155]\tvalid_0's binary_logloss: 0.243717\tvalid_0's auc: 0.83667\n",
      "[156]\tvalid_0's binary_logloss: 0.243675\tvalid_0's auc: 0.836731\n",
      "[157]\tvalid_0's binary_logloss: 0.243676\tvalid_0's auc: 0.836728\n",
      "[158]\tvalid_0's binary_logloss: 0.24368\tvalid_0's auc: 0.836724\n",
      "[159]\tvalid_0's binary_logloss: 0.243681\tvalid_0's auc: 0.836723\n",
      "[160]\tvalid_0's binary_logloss: 0.243683\tvalid_0's auc: 0.836721\n",
      "[161]\tvalid_0's binary_logloss: 0.243684\tvalid_0's auc: 0.83672\n",
      "[162]\tvalid_0's binary_logloss: 0.24368\tvalid_0's auc: 0.836729\n",
      "[163]\tvalid_0's binary_logloss: 0.243662\tvalid_0's auc: 0.836765\n",
      "[164]\tvalid_0's binary_logloss: 0.24365\tvalid_0's auc: 0.836783\n",
      "[165]\tvalid_0's binary_logloss: 0.243645\tvalid_0's auc: 0.836792\n",
      "[166]\tvalid_0's binary_logloss: 0.243626\tvalid_0's auc: 0.83682\n",
      "[167]\tvalid_0's binary_logloss: 0.24361\tvalid_0's auc: 0.836846\n",
      "[168]\tvalid_0's binary_logloss: 0.24361\tvalid_0's auc: 0.836848\n",
      "[169]\tvalid_0's binary_logloss: 0.243609\tvalid_0's auc: 0.836852\n",
      "[170]\tvalid_0's binary_logloss: 0.243609\tvalid_0's auc: 0.83685\n",
      "[171]\tvalid_0's binary_logloss: 0.243608\tvalid_0's auc: 0.836851\n",
      "[172]\tvalid_0's binary_logloss: 0.2436\tvalid_0's auc: 0.836864\n",
      "[173]\tvalid_0's binary_logloss: 0.243593\tvalid_0's auc: 0.83688\n",
      "[174]\tvalid_0's binary_logloss: 0.243592\tvalid_0's auc: 0.836879\n",
      "[175]\tvalid_0's binary_logloss: 0.243592\tvalid_0's auc: 0.83688\n",
      "[176]\tvalid_0's binary_logloss: 0.243594\tvalid_0's auc: 0.836882\n",
      "[177]\tvalid_0's binary_logloss: 0.243597\tvalid_0's auc: 0.836881\n",
      "[178]\tvalid_0's binary_logloss: 0.243599\tvalid_0's auc: 0.83688\n",
      "[179]\tvalid_0's binary_logloss: 0.243601\tvalid_0's auc: 0.83688\n",
      "[180]\tvalid_0's binary_logloss: 0.243603\tvalid_0's auc: 0.836881\n",
      "[181]\tvalid_0's binary_logloss: 0.243597\tvalid_0's auc: 0.836892\n",
      "[182]\tvalid_0's binary_logloss: 0.243576\tvalid_0's auc: 0.836931\n",
      "[183]\tvalid_0's binary_logloss: 0.243569\tvalid_0's auc: 0.836946\n",
      "[184]\tvalid_0's binary_logloss: 0.243571\tvalid_0's auc: 0.836943\n",
      "[185]\tvalid_0's binary_logloss: 0.24357\tvalid_0's auc: 0.836943\n",
      "[186]\tvalid_0's binary_logloss: 0.24356\tvalid_0's auc: 0.836962\n",
      "[187]\tvalid_0's binary_logloss: 0.243548\tvalid_0's auc: 0.836986\n",
      "[188]\tvalid_0's binary_logloss: 0.243551\tvalid_0's auc: 0.836981\n",
      "[189]\tvalid_0's binary_logloss: 0.243551\tvalid_0's auc: 0.836982\n",
      "[190]\tvalid_0's binary_logloss: 0.243552\tvalid_0's auc: 0.836979\n",
      "[191]\tvalid_0's binary_logloss: 0.243556\tvalid_0's auc: 0.836973\n",
      "[192]\tvalid_0's binary_logloss: 0.243556\tvalid_0's auc: 0.836976\n",
      "[193]\tvalid_0's binary_logloss: 0.243559\tvalid_0's auc: 0.836968\n",
      "[194]\tvalid_0's binary_logloss: 0.243561\tvalid_0's auc: 0.836968\n",
      "[195]\tvalid_0's binary_logloss: 0.243564\tvalid_0's auc: 0.836963\n",
      "[196]\tvalid_0's binary_logloss: 0.243566\tvalid_0's auc: 0.83696\n",
      "[197]\tvalid_0's binary_logloss: 0.243562\tvalid_0's auc: 0.836968\n",
      "Early stopping, best iteration is:\n",
      "[187]\tvalid_0's binary_logloss: 0.243548\tvalid_0's auc: 0.836986\n"
     ]
    }
   ],
   "source": [
    "print('training LightGBM model ...')\n",
    "lgb_model = lgb.train(params,\n",
    "                lgb_train,\n",
    "                num_boost_round = 200,     \n",
    "                valid_sets = lgb_eval,     # Validation set used to prevent overfitting\n",
    "                early_stopping_rounds=10)  # will stop the boost rounds if evaluation metricices didn't improve"
   ]
  },
  {
   "cell_type": "code",
   "execution_count": 185,
   "metadata": {},
   "outputs": [
    {
     "name": "stdout",
     "output_type": "stream",
     "text": [
      "applying model to test data ...\n"
     ]
    },
    {
     "name": "stderr",
     "output_type": "stream",
     "text": [
      "C:\\Anaconda3\\lib\\site-packages\\ipykernel_launcher.py:2: SettingWithCopyWarning: \n",
      "A value is trying to be set on a copy of a slice from a DataFrame.\n",
      "Try using .loc[row_indexer,col_indexer] = value instead\n",
      "\n",
      "See the caveats in the documentation: http://pandas.pydata.org/pandas-docs/stable/indexing.html#indexing-view-versus-copy\n",
      "  \n"
     ]
    }
   ],
   "source": [
    "print('applying model to test data ...')\n",
    "test['reordered'] = lgb_model.predict(test[test.columns.difference(['order_id', 'product_id'])], num_iteration = lgb_model.best_iteration)"
   ]
  },
  {
   "cell_type": "code",
   "execution_count": 188,
   "metadata": {},
   "outputs": [
    {
     "name": "stdout",
     "output_type": "stream",
     "text": [
      "formatting and writing to submission file ...\n"
     ]
    }
   ],
   "source": [
    "print('formatting and writing to submission file ...')\n",
    "prd_bag = dict()\n",
    "for row in test.itertuples():\n",
    "    if row.reordered > 0.21:   ## Cutoff for lableing product as positive (can be tweaked with cross validation)\n",
    "        try:\n",
    "            prd_bag[row.order_id] += ' ' + str(row.product_id)\n",
    "        except:\n",
    "            prd_bag[row.order_id] = str(row.product_id)\n",
    "\n",
    "for order in test.order_id:\n",
    "    if order not in prd_bag:\n",
    "        prd_bag[order] = 'None'\n",
    "\n",
    "submit = pd.DataFrame.from_dict(prd_bag, orient='index')\n",
    "\n",
    "submit.reset_index(inplace=True)\n",
    "submit.columns = ['order_id', 'products']\n",
    "submit.to_csv('lightgbm_submit1.csv', index=False)"
   ]
  },
  {
   "cell_type": "markdown",
   "metadata": {},
   "source": [
    "#### (2) XGBoost"
   ]
  },
  {
   "cell_type": "code",
   "execution_count": 189,
   "metadata": {},
   "outputs": [],
   "source": [
    "import xgboost as xgb\n",
    "from xgboost.sklearn import XGBClassifier\n",
    "from sklearn import cross_validation, metrics\n",
    "from sklearn.grid_search import GridSearchCV\n",
    "import graphviz"
   ]
  },
  {
   "cell_type": "code",
   "execution_count": 190,
   "metadata": {
    "collapsed": true
   },
   "outputs": [],
   "source": [
    "xgb_train = xgb.DMatrix(X_train, label=y_train)\n",
    "xgb_eval = xgb.DMatrix(X_eval, y_eval) \n",
    "# parameter 참조 link : https://www.analyticsvidhya.com/blog/2016/03/complete-guide-parameter-tuning-xgboost-with-codes-python/\n",
    "xgb_params = {\n",
    "    \"objective\"         : \"binary:logistic\" # loss function. binary:logistic (logistic regression for binary classification => predicted class) # multi:softmax (multicalss classification using the softmax objective -> predicted class , ) # multi:softprob: softmax와 같으나 class 대신 probability를 return\n",
    "    #,\"num_class\"        : 2                # multi:softmax 쓸 경우, num_class (number of unique classes) 세팅해줘야함\n",
    "    ,\"eval_metric\"      : \"auc\"              # validation에 사용될 metric (종류: rmse, mae, logloss, error, merror, mlogloss, auc)\n",
    "    ,\"eta\"              : 0.1                # learning rate in GBM과 유사한 개념 (통상 0.01 ~ 0.2 사이 값)\n",
    "    ,\"max_depth\"        : 6                  # maximum depth of a tree (overfitting 방지 위해 사용. depth 클수록 구체적 관계 학습. 통상 3 - 10) \n",
    "    ,\"min_child_weight\" : 10                 # minimum sum of weights of all observations (default=1, overfitting 방지를 위해 사용, 너무 높으면 underfitting 우려)\n",
    "    ,\"gamma\"            : 0.70                # 분할에 필요한 최소 손실 함수, 이 이상으로 감소할 때만 분할됨 (default = 0)\n",
    "    ,\"subsample\"        : 0.76                # 각 트리에 대해 임의의 샘플이되는 관측 값의 비율. 낮은 값이 보수적&overfitting을 막음. 너무 낮으면 underfitting 우려 (통상 0.5 - 1)\n",
    "    ,\"colsample_bytree\" : 0.95                # 각 트리에 대해 임의의 샘플이 되는 columns의 비율. (default 1, 통상 0.5 - 1)\n",
    "    ,\"alpha\"            : 2e-05               # L1 regularization term on weights (Lasso Regression) (default=0)\n",
    "    ,\"lambda\"           :1                   # L2 regularization term on weights.(Ridge Regression) (default=1)\n",
    "}\n",
    "\n",
    "watchlist  = [(xgb_eval,'eval'), (xgb_train,'train')]"
   ]
  },
  {
   "cell_type": "code",
   "execution_count": 191,
   "metadata": {
    "scrolled": true
   },
   "outputs": [
    {
     "name": "stdout",
     "output_type": "stream",
     "text": [
      "training XGBoost model ...\n",
      "[0]\teval-auc:0.817311\ttrain-auc:0.818241\n",
      "[10]\teval-auc:0.826174\ttrain-auc:0.826873\n",
      "[20]\teval-auc:0.827926\ttrain-auc:0.828659\n",
      "[30]\teval-auc:0.830044\ttrain-auc:0.83082\n",
      "[40]\teval-auc:0.831313\ttrain-auc:0.832137\n",
      "[50]\teval-auc:0.832234\ttrain-auc:0.833116\n",
      "[60]\teval-auc:0.832815\ttrain-auc:0.833786\n",
      "[70]\teval-auc:0.833234\ttrain-auc:0.834306\n",
      "[80]\teval-auc:0.833498\ttrain-auc:0.834669\n",
      "[90]\teval-auc:0.833704\ttrain-auc:0.834955\n",
      "[100]\teval-auc:0.833865\ttrain-auc:0.835207\n",
      "[110]\teval-auc:0.834069\ttrain-auc:0.83551\n",
      "[120]\teval-auc:0.834192\ttrain-auc:0.83572\n",
      "[130]\teval-auc:0.834299\ttrain-auc:0.835917\n",
      "[140]\teval-auc:0.834366\ttrain-auc:0.836065\n",
      "[150]\teval-auc:0.834444\ttrain-auc:0.836231\n",
      "[160]\teval-auc:0.834529\ttrain-auc:0.836393\n",
      "[170]\teval-auc:0.834613\ttrain-auc:0.836565\n",
      "[180]\teval-auc:0.834704\ttrain-auc:0.836763\n",
      "[190]\teval-auc:0.834763\ttrain-auc:0.836916\n",
      "[200]\teval-auc:0.83483\ttrain-auc:0.837076\n",
      "[210]\teval-auc:0.834889\ttrain-auc:0.837213\n",
      "[220]\teval-auc:0.834957\ttrain-auc:0.837373\n",
      "[230]\teval-auc:0.835023\ttrain-auc:0.837532\n",
      "[240]\teval-auc:0.835073\ttrain-auc:0.837663\n",
      "[250]\teval-auc:0.83512\ttrain-auc:0.837797\n",
      "[260]\teval-auc:0.835166\ttrain-auc:0.837932\n",
      "[270]\teval-auc:0.835219\ttrain-auc:0.838083\n",
      "[280]\teval-auc:0.835256\ttrain-auc:0.83821\n",
      "[290]\teval-auc:0.835303\ttrain-auc:0.838346\n"
     ]
    }
   ],
   "source": [
    "print('training XGBoost model ...')\n",
    "xgb_model = xgb.train(params = xgb_params,\n",
    "                dtrain = xgb_train,\n",
    "                num_boost_round = 300,\n",
    "                evals = (watchlist),\n",
    "                verbose_eval=10)  # will stop the boost rounds if evaluation metricices didn't improve"
   ]
  },
  {
   "cell_type": "code",
   "execution_count": 192,
   "metadata": {
    "scrolled": true
   },
   "outputs": [
    {
     "data": {
      "text/plain": [
       "<matplotlib.axes._subplots.AxesSubplot at 0x1ed1e526a20>"
      ]
     },
     "execution_count": 192,
     "metadata": {},
     "output_type": "execute_result"
    },
    {
     "data": {
      "image/png": "[encoded data removed]",
      "text/plain": [
       "<matplotlib.figure.Figure at 0x1ed1e533908>"
      ]
     },
     "metadata": {},
     "output_type": "display_data"
    }
   ],
   "source": [
    "xgb.plot_importance(xgb_model)"
   ]
  },
  {
   "cell_type": "code",
   "execution_count": null,
   "metadata": {
    "collapsed": true
   },
   "outputs": [],
   "source": [
    "xgb.plot_tree(xgb_model, num_trees=1)"
   ]
  },
  {
   "cell_type": "code",
   "execution_count": 49,
   "metadata": {
    "scrolled": true
   },
   "outputs": [
    {
     "data": {
      "image/svg+xml": [
       "<?xml version=\"1.0\" encoding=\"UTF-8\" standalone=\"no\"?>\r\n",
       "<!DOCTYPE svg PUBLIC \"-//W3C//DTD SVG 1.1//EN\"\r\n",
       " \"http://www.w3.org/Graphics/SVG/1.1/DTD/svg11.dtd\">\r\n",
       "<!-- Generated by graphviz version 2.38.0 (20140413.2041)\r\n",
       " -->\r\n",
       "<!-- Title: %3 Pages: 1 -->\r\n",
       "<svg width=\"6167pt\" height=\"1974pt\"\r\n",
       " viewBox=\"0.00 0.00 6166.63 1973.56\" xmlns=\"http://www.w3.org/2000/svg\" xmlns:xlink=\"http://www.w3.org/1999/xlink\">\r\n",
       "<g id=\"graph0\" class=\"graph\" transform=\"scale(1 1) rotate(0) translate(4 1969.56)\">\r\n",
       "<title>%3</title>\r\n",
       "<polygon fill=\"white\" stroke=\"none\" points=\"-4,4 -4,-1969.56 6162.63,-1969.56 6162.63,4 -4,4\"/>\r\n",
       "<!-- 0 -->\r\n",
       "<g id=\"node1\" class=\"node\"><title>0</title>\r\n",
       "<ellipse fill=\"none\" stroke=\"black\" cx=\"3308.54\" cy=\"-1903.16\" rx=\"62.2891\" ry=\"62.2891\"/>\r\n",
       "<text text-anchor=\"middle\" x=\"3308.54\" y=\"-1899.46\" font-family=\"Times New Roman,serif\" font-size=\"14.00\">up_orders&lt;16</text>\r\n",
       "</g>\r\n",
       "<!-- 1 -->\r\n",
       "<g id=\"node2\" class=\"node\"><title>1</title>\r\n",
       "<ellipse fill=\"none\" stroke=\"black\" cx=\"2393.54\" cy=\"-1682.53\" rx=\"107.482\" ry=\"107.482\"/>\r\n",
       "<text text-anchor=\"middle\" x=\"2393.54\" y=\"-1678.83\" font-family=\"Times New Roman,serif\" font-size=\"14.00\">user_average_basket&lt;16.5</text>\r\n",
       "</g>\r\n",
       "<!-- 0&#45;&gt;1 -->\r\n",
       "<g id=\"edge1\" class=\"edge\"><title>0&#45;&gt;1</title>\r\n",
       "<path fill=\"none\" stroke=\"#0000ff\" d=\"M3247.79,-1887.65C3096.97,-1851.61 2703.47,-1757.58 2507.65,-1710.79\"/>\r\n",
       "<polygon fill=\"#0000ff\" stroke=\"#0000ff\" points=\"2508.44,-1707.38 2497.9,-1708.46 2506.81,-1714.19 2508.44,-1707.38\"/>\r\n",
       "<text text-anchor=\"middle\" x=\"2970.04\" y=\"-1811.57\" font-family=\"Times New Roman,serif\" font-size=\"14.00\">yes</text>\r\n",
       "</g>\r\n",
       "<!-- 2 -->\r\n",
       "<g id=\"node3\" class=\"node\"><title>2</title>\r\n",
       "<ellipse fill=\"none\" stroke=\"black\" cx=\"3866.54\" cy=\"-1682.53\" rx=\"72.5877\" ry=\"72.5877\"/>\r\n",
       "<text text-anchor=\"middle\" x=\"3866.54\" y=\"-1678.83\" font-family=\"Times New Roman,serif\" font-size=\"14.00\">user_period&lt;115</text>\r\n",
       "</g>\r\n",
       "<!-- 0&#45;&gt;2 -->\r\n",
       "<g id=\"edge2\" class=\"edge\"><title>0&#45;&gt;2</title>\r\n",
       "<path fill=\"none\" stroke=\"#ff0000\" d=\"M3366.41,-1879.48C3467.56,-1839.85 3676.48,-1758 3789.65,-1713.65\"/>\r\n",
       "<polygon fill=\"#ff0000\" stroke=\"#ff0000\" points=\"3790.93,-1716.91 3798.96,-1710 3788.37,-1710.39 3790.93,-1716.91\"/>\r\n",
       "<text text-anchor=\"middle\" x=\"3570.54\" y=\"-1811.57\" font-family=\"Times New Roman,serif\" font-size=\"14.00\">no, missing</text>\r\n",
       "</g>\r\n",
       "<!-- 3 -->\r\n",
       "<g id=\"node4\" class=\"node\"><title>3</title>\r\n",
       "<ellipse fill=\"none\" stroke=\"black\" cx=\"1573.54\" cy=\"-1385.2\" rx=\"83.6854\" ry=\"83.6854\"/>\r\n",
       "<text text-anchor=\"middle\" x=\"1573.54\" y=\"-1381.5\" font-family=\"Times New Roman,serif\" font-size=\"14.00\">prod_orders&lt;16988</text>\r\n",
       "</g>\r\n",
       "<!-- 1&#45;&gt;3 -->\r\n",
       "<g id=\"edge3\" class=\"edge\"><title>1&#45;&gt;3</title>\r\n",
       "<path fill=\"none\" stroke=\"#0000ff\" d=\"M2292.58,-1645.17C2130.52,-1586.8 1815,-1473.16 1661.56,-1417.9\"/>\r\n",
       "<polygon fill=\"#0000ff\" stroke=\"#0000ff\" points=\"1662.73,-1414.6 1652.14,-1414.51 1660.36,-1421.19 1662.73,-1414.6\"/>\r\n",
       "<text text-anchor=\"middle\" x=\"2043.04\" y=\"-1546.09\" font-family=\"Times New Roman,serif\" font-size=\"14.00\">yes</text>\r\n",
       "</g>\r\n",
       "<!-- 4 -->\r\n",
       "<g id=\"node5\" class=\"node\"><title>4</title>\r\n",
       "<ellipse fill=\"none\" stroke=\"black\" cx=\"2393.54\" cy=\"-1385.2\" rx=\"108.581\" ry=\"108.581\"/>\r\n",
       "<text text-anchor=\"middle\" x=\"2393.54\" y=\"-1381.5\" font-family=\"Times New Roman,serif\" font-size=\"14.00\">user_distinct_products&lt;29</text>\r\n",
       "</g>\r\n",
       "<!-- 1&#45;&gt;4 -->\r\n",
       "<g id=\"edge4\" class=\"edge\"><title>1&#45;&gt;4</title>\r\n",
       "<path fill=\"none\" stroke=\"#ff0000\" d=\"M2393.54,-1574.91C2393.54,-1552.02 2393.54,-1527.71 2393.54,-1504.42\"/>\r\n",
       "<polygon fill=\"#ff0000\" stroke=\"#ff0000\" points=\"2397.04,-1504.15 2393.54,-1494.15 2390.04,-1504.15 2397.04,-1504.15\"/>\r\n",
       "<text text-anchor=\"middle\" x=\"2425.54\" y=\"-1546.09\" font-family=\"Times New Roman,serif\" font-size=\"14.00\">no, missing</text>\r\n",
       "</g>\r\n",
       "<!-- 5 -->\r\n",
       "<g id=\"node56\" class=\"node\"><title>5</title>\r\n",
       "<ellipse fill=\"none\" stroke=\"black\" cx=\"3866.54\" cy=\"-1385.2\" rx=\"120.479\" ry=\"120.479\"/>\r\n",
       "<text text-anchor=\"middle\" x=\"3866.54\" y=\"-1381.5\" font-family=\"Times New Roman,serif\" font-size=\"14.00\">user_average_basket&lt;19.8333</text>\r\n",
       "</g>\r\n",
       "<!-- 2&#45;&gt;5 -->\r\n",
       "<g id=\"edge55\" class=\"edge\"><title>2&#45;&gt;5</title>\r\n",
       "<path fill=\"none\" stroke=\"#0000ff\" d=\"M3866.54,-1609.66C3866.54,-1581.46 3866.54,-1548.21 3866.54,-1516.1\"/>\r\n",
       "<polygon fill=\"#0000ff\" stroke=\"#0000ff\" points=\"3870.04,-1515.72 3866.54,-1505.72 3863.04,-1515.72 3870.04,-1515.72\"/>\r\n",
       "<text text-anchor=\"middle\" x=\"3876.04\" y=\"-1546.09\" font-family=\"Times New Roman,serif\" font-size=\"14.00\">yes</text>\r\n",
       "</g>\r\n",
       "<!-- 6 -->\r\n",
       "<g id=\"node57\" class=\"node\"><title>6</title>\r\n",
       "<ellipse fill=\"none\" stroke=\"black\" cx=\"4562.54\" cy=\"-1385.2\" rx=\"139.175\" ry=\"139.175\"/>\r\n",
       "<text text-anchor=\"middle\" x=\"4562.54\" y=\"-1381.5\" font-family=\"Times New Roman,serif\" font-size=\"14.00\">up_average_cart_position&lt;6.33333</text>\r\n",
       "</g>\r\n",
       "<!-- 2&#45;&gt;6 -->\r\n",
       "<g id=\"edge56\" class=\"edge\"><title>2&#45;&gt;6</title>\r\n",
       "<path fill=\"none\" stroke=\"#ff0000\" d=\"M3933.27,-1653.21C4046.17,-1605.31 4277.01,-1507.35 4425.52,-1444.34\"/>\r\n",
       "<polygon fill=\"#ff0000\" stroke=\"#ff0000\" points=\"4426.9,-1447.56 4434.74,-1440.43 4424.16,-1441.11 4426.9,-1447.56\"/>\r\n",
       "<text text-anchor=\"middle\" x=\"4226.54\" y=\"-1546.09\" font-family=\"Times New Roman,serif\" font-size=\"14.00\">no, missing</text>\r\n",
       "</g>\r\n",
       "<!-- 7 -->\r\n",
       "<g id=\"node6\" class=\"node\"><title>7</title>\r\n",
       "<ellipse fill=\"none\" stroke=\"black\" cx=\"847.537\" cy=\"-1027.43\" rx=\"167.87\" ry=\"167.87\"/>\r\n",
       "<text text-anchor=\"middle\" x=\"847.537\" y=\"-1023.73\" font-family=\"Times New Roman,serif\" font-size=\"14.00\">up_order_rate_since_first_order&lt;0.999999</text>\r\n",
       "</g>\r\n",
       "<!-- 3&#45;&gt;7 -->\r\n",
       "<g id=\"edge5\" class=\"edge\"><title>3&#45;&gt;7</title>\r\n",
       "<path fill=\"none\" stroke=\"#0000ff\" d=\"M1498.58,-1347.46C1383.22,-1290.94 1159.56,-1181.33 1006.91,-1106.52\"/>\r\n",
       "<polygon fill=\"#0000ff\" stroke=\"#0000ff\" points=\"1008.39,-1103.35 997.87,-1102.1 1005.31,-1109.64 1008.39,-1103.35\"/>\r\n",
       "<text text-anchor=\"middle\" x=\"1264.04\" y=\"-1216.91\" font-family=\"Times New Roman,serif\" font-size=\"14.00\">yes</text>\r\n",
       "</g>\r\n",
       "<!-- 8 -->\r\n",
       "<g id=\"node7\" class=\"node\"><title>8</title>\r\n",
       "<ellipse fill=\"none\" stroke=\"black\" cx=\"1573.54\" cy=\"-1027.43\" rx=\"122.678\" ry=\"122.678\"/>\r\n",
       "<text text-anchor=\"middle\" x=\"1573.54\" y=\"-1023.73\" font-family=\"Times New Roman,serif\" font-size=\"14.00\">up_orders_since_last_order&lt;2</text>\r\n",
       "</g>\r\n",
       "<!-- 3&#45;&gt;8 -->\r\n",
       "<g id=\"edge6\" class=\"edge\"><title>3&#45;&gt;8</title>\r\n",
       "<path fill=\"none\" stroke=\"#ff0000\" d=\"M1573.54,-1301.23C1573.54,-1259.44 1573.54,-1207.75 1573.54,-1160.65\"/>\r\n",
       "<polygon fill=\"#ff0000\" stroke=\"#ff0000\" points=\"1577.04,-1160.36 1573.54,-1150.36 1570.04,-1160.36 1577.04,-1160.36\"/>\r\n",
       "<text text-anchor=\"middle\" x=\"1605.54\" y=\"-1216.91\" font-family=\"Times New Roman,serif\" font-size=\"14.00\">no, missing</text>\r\n",
       "</g>\r\n",
       "<!-- 9 -->\r\n",
       "<g id=\"node36\" class=\"node\"><title>9</title>\r\n",
       "<ellipse fill=\"none\" stroke=\"black\" cx=\"2316.54\" cy=\"-1027.43\" rx=\"57.6901\" ry=\"57.6901\"/>\r\n",
       "<text text-anchor=\"middle\" x=\"2316.54\" y=\"-1023.73\" font-family=\"Times New Roman,serif\" font-size=\"14.00\">up_orders&lt;2</text>\r\n",
       "</g>\r\n",
       "<!-- 4&#45;&gt;9 -->\r\n",
       "<g id=\"edge35\" class=\"edge\"><title>4&#45;&gt;9</title>\r\n",
       "<path fill=\"none\" stroke=\"#0000ff\" d=\"M2370.75,-1278.9C2357.8,-1219.06 2341.98,-1146 2330.79,-1094.26\"/>\r\n",
       "<polygon fill=\"#0000ff\" stroke=\"#0000ff\" points=\"2334.15,-1093.24 2328.61,-1084.21 2327.31,-1094.72 2334.15,-1093.24\"/>\r\n",
       "<text text-anchor=\"middle\" x=\"2370.04\" y=\"-1216.91\" font-family=\"Times New Roman,serif\" font-size=\"14.00\">yes</text>\r\n",
       "</g>\r\n",
       "<!-- 10 -->\r\n",
       "<g id=\"node37\" class=\"node\"><title>10</title>\r\n",
       "<ellipse fill=\"none\" stroke=\"black\" cx=\"2624.54\" cy=\"-1027.43\" rx=\"108.581\" ry=\"108.581\"/>\r\n",
       "<text text-anchor=\"middle\" x=\"2624.54\" y=\"-1023.73\" font-family=\"Times New Roman,serif\" font-size=\"14.00\">user_distinct_products&lt;31</text>\r\n",
       "</g>\r\n",
       "<!-- 4&#45;&gt;10 -->\r\n",
       "<g id=\"edge36\" class=\"edge\"><title>4&#45;&gt;10</title>\r\n",
       "<path fill=\"none\" stroke=\"#ff0000\" d=\"M2452.43,-1293.5C2485.35,-1242.8 2526.42,-1179.54 2560.19,-1127.53\"/>\r\n",
       "<polygon fill=\"#ff0000\" stroke=\"#ff0000\" points=\"2563.25,-1129.25 2565.76,-1118.96 2557.37,-1125.44 2563.25,-1129.25\"/>\r\n",
       "<text text-anchor=\"middle\" x=\"2534.54\" y=\"-1216.91\" font-family=\"Times New Roman,serif\" font-size=\"14.00\">no, missing</text>\r\n",
       "</g>\r\n",
       "<!-- 15 -->\r\n",
       "<g id=\"node8\" class=\"node\"><title>15</title>\r\n",
       "<ellipse fill=\"none\" stroke=\"black\" cx=\"480.537\" cy=\"-641.055\" rx=\"116.18\" ry=\"116.18\"/>\r\n",
       "<text text-anchor=\"middle\" x=\"480.537\" y=\"-637.355\" font-family=\"Times New Roman,serif\" font-size=\"14.00\">user_average_basket&lt;14.625</text>\r\n",
       "</g>\r\n",
       "<!-- 7&#45;&gt;15 -->\r\n",
       "<g id=\"edge7\" class=\"edge\"><title>7&#45;&gt;15</title>\r\n",
       "<path fill=\"none\" stroke=\"#0000ff\" d=\"M732.171,-905.6C678.989,-849.9 616.908,-784.881 567.716,-733.36\"/>\r\n",
       "<polygon fill=\"#0000ff\" stroke=\"#0000ff\" points=\"569.991,-730.675 560.554,-725.86 564.928,-735.509 569.991,-730.675\"/>\r\n",
       "<text text-anchor=\"middle\" x=\"674.037\" y=\"-830.54\" font-family=\"Times New Roman,serif\" font-size=\"14.00\">yes</text>\r\n",
       "</g>\r\n",
       "<!-- 16 -->\r\n",
       "<g id=\"node9\" class=\"node\"><title>16</title>\r\n",
       "<ellipse fill=\"none\" stroke=\"black\" cx=\"847.537\" cy=\"-641.055\" rx=\"142.975\" ry=\"142.975\"/>\r\n",
       "<text text-anchor=\"middle\" x=\"847.537\" y=\"-637.355\" font-family=\"Times New Roman,serif\" font-size=\"14.00\">prod_average_cart_position&lt;7.6784</text>\r\n",
       "</g>\r\n",
       "<!-- 7&#45;&gt;16 -->\r\n",
       "<g id=\"edge8\" class=\"edge\"><title>7&#45;&gt;16</title>\r\n",
       "<path fill=\"none\" stroke=\"#ff0000\" d=\"M847.537,-859.512C847.537,-837.825 847.537,-815.7 847.537,-794.269\"/>\r\n",
       "<polygon fill=\"#ff0000\" stroke=\"#ff0000\" points=\"851.037,-794.144 847.537,-784.144 844.037,-794.144 851.037,-794.144\"/>\r\n",
       "<text text-anchor=\"middle\" x=\"879.537\" y=\"-830.54\" font-family=\"Times New Roman,serif\" font-size=\"14.00\">no, missing</text>\r\n",
       "</g>\r\n",
       "<!-- 17 -->\r\n",
       "<g id=\"node22\" class=\"node\"><title>17</title>\r\n",
       "<ellipse fill=\"none\" stroke=\"black\" cx=\"1476.54\" cy=\"-641.055\" rx=\"108.581\" ry=\"108.581\"/>\r\n",
       "<text text-anchor=\"middle\" x=\"1476.54\" y=\"-637.355\" font-family=\"Times New Roman,serif\" font-size=\"14.00\">user_distinct_products&lt;77</text>\r\n",
       "</g>\r\n",
       "<!-- 8&#45;&gt;17 -->\r\n",
       "<g id=\"edge21\" class=\"edge\"><title>8&#45;&gt;17</title>\r\n",
       "<path fill=\"none\" stroke=\"#0000ff\" d=\"M1543.71,-908.228C1531.52,-859.928 1517.47,-804.27 1505.39,-756.377\"/>\r\n",
       "<polygon fill=\"#0000ff\" stroke=\"#0000ff\" points=\"1508.76,-755.433 1502.92,-746.593 1501.97,-757.146 1508.76,-755.433\"/>\r\n",
       "<text text-anchor=\"middle\" x=\"1535.04\" y=\"-830.54\" font-family=\"Times New Roman,serif\" font-size=\"14.00\">yes</text>\r\n",
       "</g>\r\n",
       "<!-- 18 -->\r\n",
       "<g id=\"node23\" class=\"node\"><title>18</title>\r\n",
       "<ellipse fill=\"none\" stroke=\"black\" cx=\"1719.54\" cy=\"-641.055\" rx=\"116.18\" ry=\"116.18\"/>\r\n",
       "<text text-anchor=\"middle\" x=\"1719.54\" y=\"-637.355\" font-family=\"Times New Roman,serif\" font-size=\"14.00\">user_reorder_ratio&lt;0.828046</text>\r\n",
       "</g>\r\n",
       "<!-- 8&#45;&gt;18 -->\r\n",
       "<g id=\"edge22\" class=\"edge\"><title>8&#45;&gt;18</title>\r\n",
       "<path fill=\"none\" stroke=\"#ff0000\" d=\"M1616.85,-912.402C1635.13,-864.263 1656.41,-808.236 1674.85,-759.711\"/>\r\n",
       "<polygon fill=\"#ff0000\" stroke=\"#ff0000\" points=\"1678.21,-760.702 1678.49,-750.111 1671.67,-758.216 1678.21,-760.702\"/>\r\n",
       "<text text-anchor=\"middle\" x=\"1678.54\" y=\"-830.54\" font-family=\"Times New Roman,serif\" font-size=\"14.00\">no, missing</text>\r\n",
       "</g>\r\n",
       "<!-- 29 -->\r\n",
       "<g id=\"node10\" class=\"node\"><title>29</title>\r\n",
       "<ellipse fill=\"none\" stroke=\"black\" cx=\"147.537\" cy=\"-254.685\" rx=\"147.574\" ry=\"147.574\"/>\r\n",
       "<text text-anchor=\"middle\" x=\"147.537\" y=\"-250.985\" font-family=\"Times New Roman,serif\" font-size=\"14.00\">prod_average_cart_position&lt;8.69518</text>\r\n",
       "</g>\r\n",
       "<!-- 15&#45;&gt;29 -->\r\n",
       "<g id=\"edge9\" class=\"edge\"><title>15&#45;&gt;29</title>\r\n",
       "<path fill=\"none\" stroke=\"#0000ff\" d=\"M404.557,-552.355C358.906,-499.661 300.21,-431.911 250.438,-374.46\"/>\r\n",
       "<polygon fill=\"#0000ff\" stroke=\"#0000ff\" points=\"252.983,-372.053 243.79,-366.787 247.693,-376.637 252.983,-372.053\"/>\r\n",
       "<text text-anchor=\"middle\" x=\"324.037\" y=\"-444.17\" font-family=\"Times New Roman,serif\" font-size=\"14.00\">yes</text>\r\n",
       "</g>\r\n",
       "<!-- 30 -->\r\n",
       "<g id=\"node11\" class=\"node\"><title>30</title>\r\n",
       "<ellipse fill=\"none\" stroke=\"black\" cx=\"480.537\" cy=\"-254.685\" rx=\"167.87\" ry=\"167.87\"/>\r\n",
       "<text text-anchor=\"middle\" x=\"480.537\" y=\"-250.985\" font-family=\"Times New Roman,serif\" font-size=\"14.00\">up_order_rate_since_first_order&lt;0.690475</text>\r\n",
       "</g>\r\n",
       "<!-- 15&#45;&gt;30 -->\r\n",
       "<g id=\"edge10\" class=\"edge\"><title>15&#45;&gt;30</title>\r\n",
       "<path fill=\"none\" stroke=\"#ff0000\" d=\"M480.537,-524.471C480.537,-495.544 480.537,-463.848 480.537,-432.689\"/>\r\n",
       "<polygon fill=\"#ff0000\" stroke=\"#ff0000\" points=\"484.037,-432.595 480.537,-422.595 477.037,-432.595 484.037,-432.595\"/>\r\n",
       "<text text-anchor=\"middle\" x=\"512.537\" y=\"-444.17\" font-family=\"Times New Roman,serif\" font-size=\"14.00\">no, missing</text>\r\n",
       "</g>\r\n",
       "<!-- 31 -->\r\n",
       "<g id=\"node16\" class=\"node\"><title>31</title>\r\n",
       "<ellipse fill=\"none\" stroke=\"black\" cx=\"785.537\" cy=\"-254.685\" rx=\"118.879\" ry=\"118.879\"/>\r\n",
       "<text text-anchor=\"middle\" x=\"785.537\" y=\"-250.985\" font-family=\"Times New Roman,serif\" font-size=\"14.00\">prod_reorder_ratio&lt;0.733135</text>\r\n",
       "</g>\r\n",
       "<!-- 16&#45;&gt;31 -->\r\n",
       "<g id=\"edge15\" class=\"edge\"><title>16&#45;&gt;31</title>\r\n",
       "<path fill=\"none\" stroke=\"#0000ff\" d=\"M824.89,-499.657C818.698,-461.269 812.026,-419.902 805.965,-382.331\"/>\r\n",
       "<polygon fill=\"#0000ff\" stroke=\"#0000ff\" points=\"809.404,-381.67 804.356,-372.355 802.493,-382.785 809.404,-381.67\"/>\r\n",
       "<text text-anchor=\"middle\" x=\"826.037\" y=\"-444.17\" font-family=\"Times New Roman,serif\" font-size=\"14.00\">yes</text>\r\n",
       "</g>\r\n",
       "<!-- 32 -->\r\n",
       "<g id=\"node17\" class=\"node\"><title>32</title>\r\n",
       "<ellipse fill=\"none\" stroke=\"black\" cx=\"1030.54\" cy=\"-254.685\" rx=\"107.781\" ry=\"107.781\"/>\r\n",
       "<text text-anchor=\"middle\" x=\"1030.54\" y=\"-250.985\" font-family=\"Times New Roman,serif\" font-size=\"14.00\">days_since_prior_order&lt;9</text>\r\n",
       "</g>\r\n",
       "<!-- 16&#45;&gt;32 -->\r\n",
       "<g id=\"edge16\" class=\"edge\"><title>16&#45;&gt;32</title>\r\n",
       "<path fill=\"none\" stroke=\"#ff0000\" d=\"M908.728,-511.531C931.912,-462.836 958.022,-407.994 980.105,-361.611\"/>\r\n",
       "<polygon fill=\"#ff0000\" stroke=\"#ff0000\" points=\"983.328,-362.985 984.466,-352.451 977.007,-359.975 983.328,-362.985\"/>\r\n",
       "<text text-anchor=\"middle\" x=\"971.537\" y=\"-444.17\" font-family=\"Times New Roman,serif\" font-size=\"14.00\">no, missing</text>\r\n",
       "</g>\r\n",
       "<!-- 55 -->\r\n",
       "<g id=\"node12\" class=\"node\"><title>55</title>\r\n",
       "<polygon fill=\"none\" stroke=\"black\" points=\"133.537,-36 17.5369,-36 17.5369,-0 133.537,-0 133.537,-36\"/>\r\n",
       "<text text-anchor=\"middle\" x=\"75.5369\" y=\"-14.3\" font-family=\"Times New Roman,serif\" font-size=\"14.00\">leaf=0.000763362</text>\r\n",
       "</g>\r\n",
       "<!-- 29&#45;&gt;55 -->\r\n",
       "<g id=\"edge11\" class=\"edge\"><title>29&#45;&gt;55</title>\r\n",
       "<path fill=\"none\" stroke=\"#0000ff\" d=\"M104.511,-113.441C96.6517,-87.824 89.2574,-63.7222 83.9058,-46.2786\"/>\r\n",
       "<polygon fill=\"#0000ff\" stroke=\"#0000ff\" points=\"87.1309,-44.8576 80.8518,-36.3239 80.4388,-46.9107 87.1309,-44.8576\"/>\r\n",
       "<text text-anchor=\"middle\" x=\"99.0369\" y=\"-57.8\" font-family=\"Times New Roman,serif\" font-size=\"14.00\">yes</text>\r\n",
       "</g>\r\n",
       "<!-- 56 -->\r\n",
       "<g id=\"node13\" class=\"node\"><title>56</title>\r\n",
       "<polygon fill=\"none\" stroke=\"black\" points=\"265.037,-36 152.037,-36 152.037,-0 265.037,-0 265.037,-36\"/>\r\n",
       "<text text-anchor=\"middle\" x=\"208.537\" y=\"-14.3\" font-family=\"Times New Roman,serif\" font-size=\"14.00\">leaf=&#45;0.00101306</text>\r\n",
       "</g>\r\n",
       "<!-- 29&#45;&gt;56 -->\r\n",
       "<g id=\"edge12\" class=\"edge\"><title>29&#45;&gt;56</title>\r\n",
       "<path fill=\"none\" stroke=\"#ff0000\" d=\"M184.428,-111.754C190.952,-86.6529 197.068,-63.1236 201.508,-46.0441\"/>\r\n",
       "<polygon fill=\"#ff0000\" stroke=\"#ff0000\" points=\"204.915,-46.8456 204.044,-36.2867 198.141,-45.0846 204.915,-46.8456\"/>\r\n",
       "<text text-anchor=\"middle\" x=\"230.537\" y=\"-57.8\" font-family=\"Times New Roman,serif\" font-size=\"14.00\">no, missing</text>\r\n",
       "</g>\r\n",
       "<!-- 57 -->\r\n",
       "<g id=\"node14\" class=\"node\"><title>57</title>\r\n",
       "<polygon fill=\"none\" stroke=\"black\" points=\"433.037,-36 320.037,-36 320.037,-0 433.037,-0 433.037,-36\"/>\r\n",
       "<text text-anchor=\"middle\" x=\"376.537\" y=\"-14.3\" font-family=\"Times New Roman,serif\" font-size=\"14.00\">leaf=&#45;0.00171981</text>\r\n",
       "</g>\r\n",
       "<!-- 30&#45;&gt;57 -->\r\n",
       "<g id=\"edge13\" class=\"edge\"><title>30&#45;&gt;57</title>\r\n",
       "<path fill=\"none\" stroke=\"#0000ff\" d=\"M412.911,-101.081C403.454,-79.7416 394.758,-60.117 388.241,-45.411\"/>\r\n",
       "<polygon fill=\"#0000ff\" stroke=\"#0000ff\" points=\"391.346,-43.7797 384.095,-36.0552 384.947,-46.6157 391.346,-43.7797\"/>\r\n",
       "<text text-anchor=\"middle\" x=\"406.037\" y=\"-57.8\" font-family=\"Times New Roman,serif\" font-size=\"14.00\">yes</text>\r\n",
       "</g>\r\n",
       "<!-- 58 -->\r\n",
       "<g id=\"node15\" class=\"node\"><title>58</title>\r\n",
       "<polygon fill=\"none\" stroke=\"black\" points=\"558.037,-36 451.037,-36 451.037,-0 558.037,-0 558.037,-36\"/>\r\n",
       "<text text-anchor=\"middle\" x=\"504.537\" y=\"-14.3\" font-family=\"Times New Roman,serif\" font-size=\"14.00\">leaf=&#45;0.0109006</text>\r\n",
       "</g>\r\n",
       "<!-- 30&#45;&gt;58 -->\r\n",
       "<g id=\"edge14\" class=\"edge\"><title>30&#45;&gt;58</title>\r\n",
       "<path fill=\"none\" stroke=\"#ff0000\" d=\"M497.498,-87.8276C499.114,-72.0255 500.585,-57.6481 501.759,-46.1684\"/>\r\n",
       "<polygon fill=\"#ff0000\" stroke=\"#ff0000\" points=\"505.253,-46.4023 502.788,-36.0981 498.289,-45.6901 505.253,-46.4023\"/>\r\n",
       "<text text-anchor=\"middle\" x=\"532.537\" y=\"-57.8\" font-family=\"Times New Roman,serif\" font-size=\"14.00\">no, missing</text>\r\n",
       "</g>\r\n",
       "<!-- 59 -->\r\n",
       "<g id=\"node18\" class=\"node\"><title>59</title>\r\n",
       "<polygon fill=\"none\" stroke=\"black\" points=\"713.037,-36 600.037,-36 600.037,-0 713.037,-0 713.037,-36\"/>\r\n",
       "<text text-anchor=\"middle\" x=\"656.537\" y=\"-14.3\" font-family=\"Times New Roman,serif\" font-size=\"14.00\">leaf=&#45;0.00460251</text>\r\n",
       "</g>\r\n",
       "<!-- 31&#45;&gt;59 -->\r\n",
       "<g id=\"edge17\" class=\"edge\"><title>31&#45;&gt;59</title>\r\n",
       "<path fill=\"none\" stroke=\"#0000ff\" d=\"M728.58,-150.066C707.394,-111.522 685.106,-70.9754 671.031,-45.3694\"/>\r\n",
       "<polygon fill=\"#0000ff\" stroke=\"#0000ff\" points=\"673.943,-43.3999 666.059,-36.3225 667.808,-46.7718 673.943,-43.3999\"/>\r\n",
       "<text text-anchor=\"middle\" x=\"691.037\" y=\"-57.8\" font-family=\"Times New Roman,serif\" font-size=\"14.00\">yes</text>\r\n",
       "</g>\r\n",
       "<!-- 60 -->\r\n",
       "<g id=\"node19\" class=\"node\"><title>60</title>\r\n",
       "<polygon fill=\"none\" stroke=\"black\" points=\"840.037,-36 731.037,-36 731.037,-0 840.037,-0 840.037,-36\"/>\r\n",
       "<text text-anchor=\"middle\" x=\"785.537\" y=\"-14.3\" font-family=\"Times New Roman,serif\" font-size=\"14.00\">leaf=0.00763228</text>\r\n",
       "</g>\r\n",
       "<!-- 31&#45;&gt;60 -->\r\n",
       "<g id=\"edge18\" class=\"edge\"><title>31&#45;&gt;60</title>\r\n",
       "<path fill=\"none\" stroke=\"#ff0000\" d=\"M785.537,-135.655C785.537,-102.108 785.537,-68.6353 785.537,-46.2062\"/>\r\n",
       "<polygon fill=\"#ff0000\" stroke=\"#ff0000\" points=\"789.037,-46.1307 785.537,-36.1307 782.037,-46.1308 789.037,-46.1307\"/>\r\n",
       "<text text-anchor=\"middle\" x=\"817.537\" y=\"-57.8\" font-family=\"Times New Roman,serif\" font-size=\"14.00\">no, missing</text>\r\n",
       "</g>\r\n",
       "<!-- 61 -->\r\n",
       "<g id=\"node20\" class=\"node\"><title>61</title>\r\n",
       "<polygon fill=\"none\" stroke=\"black\" points=\"968.037,-36 859.037,-36 859.037,-0 968.037,-0 968.037,-36\"/>\r\n",
       "<text text-anchor=\"middle\" x=\"913.537\" y=\"-14.3\" font-family=\"Times New Roman,serif\" font-size=\"14.00\">leaf=0.00840819</text>\r\n",
       "</g>\r\n",
       "<!-- 32&#45;&gt;61 -->\r\n",
       "<g id=\"edge19\" class=\"edge\"><title>32&#45;&gt;61</title>\r\n",
       "<path fill=\"none\" stroke=\"#0000ff\" d=\"M982.78,-157.891C962.52,-117.254 940.481,-73.0459 926.836,-45.6753\"/>\r\n",
       "<polygon fill=\"#0000ff\" stroke=\"#0000ff\" points=\"929.801,-43.7789 922.207,-36.391 923.536,-46.9022 929.801,-43.7789\"/>\r\n",
       "<text text-anchor=\"middle\" x=\"946.037\" y=\"-57.8\" font-family=\"Times New Roman,serif\" font-size=\"14.00\">yes</text>\r\n",
       "</g>\r\n",
       "<!-- 62 -->\r\n",
       "<g id=\"node21\" class=\"node\"><title>62</title>\r\n",
       "<polygon fill=\"none\" stroke=\"black\" points=\"1095.04,-36 986.037,-36 986.037,-0 1095.04,-0 1095.04,-36\"/>\r\n",
       "<text text-anchor=\"middle\" x=\"1040.54\" y=\"-14.3\" font-family=\"Times New Roman,serif\" font-size=\"14.00\">leaf=0.00117477</text>\r\n",
       "</g>\r\n",
       "<!-- 32&#45;&gt;62 -->\r\n",
       "<g id=\"edge20\" class=\"edge\"><title>32&#45;&gt;62</title>\r\n",
       "<path fill=\"none\" stroke=\"#ff0000\" d=\"M1035.1,-146.644C1036.68,-109.576 1038.32,-71.1264 1039.38,-46.2446\"/>\r\n",
       "<polygon fill=\"#ff0000\" stroke=\"#ff0000\" points=\"1042.88,-46.2781 1039.81,-36.1381 1035.88,-45.98 1042.88,-46.2781\"/>\r\n",
       "<text text-anchor=\"middle\" x=\"1071.54\" y=\"-57.8\" font-family=\"Times New Roman,serif\" font-size=\"14.00\">no, missing</text>\r\n",
       "</g>\r\n",
       "<!-- 33 -->\r\n",
       "<g id=\"node24\" class=\"node\"><title>33</title>\r\n",
       "<ellipse fill=\"none\" stroke=\"black\" cx=\"1259.54\" cy=\"-254.685\" rx=\"102.882\" ry=\"102.882\"/>\r\n",
       "<text text-anchor=\"middle\" x=\"1259.54\" y=\"-250.985\" font-family=\"Times New Roman,serif\" font-size=\"14.00\">user_total_products&lt;346</text>\r\n",
       "</g>\r\n",
       "<!-- 17&#45;&gt;33 -->\r\n",
       "<g id=\"edge23\" class=\"edge\"><title>17&#45;&gt;33</title>\r\n",
       "<path fill=\"none\" stroke=\"#0000ff\" d=\"M1423.45,-546.028C1390.45,-487.576 1348.11,-412.565 1314.72,-353.43\"/>\r\n",
       "<polygon fill=\"#0000ff\" stroke=\"#0000ff\" points=\"1317.62,-351.44 1309.65,-344.453 1311.52,-354.882 1317.62,-351.44\"/>\r\n",
       "<text text-anchor=\"middle\" x=\"1378.04\" y=\"-444.17\" font-family=\"Times New Roman,serif\" font-size=\"14.00\">yes</text>\r\n",
       "</g>\r\n",
       "<!-- 34 -->\r\n",
       "<g id=\"node25\" class=\"node\"><title>34</title>\r\n",
       "<ellipse fill=\"none\" stroke=\"black\" cx=\"1487.54\" cy=\"-254.685\" rx=\"107.482\" ry=\"107.482\"/>\r\n",
       "<text text-anchor=\"middle\" x=\"1487.54\" y=\"-250.985\" font-family=\"Times New Roman,serif\" font-size=\"14.00\">user_average_basket&lt;11.5</text>\r\n",
       "</g>\r\n",
       "<!-- 17&#45;&gt;34 -->\r\n",
       "<g id=\"edge24\" class=\"edge\"><title>17&#45;&gt;34</title>\r\n",
       "<path fill=\"none\" stroke=\"#ff0000\" d=\"M1479.62,-532.476C1481.05,-482.505 1482.75,-423.001 1484.21,-371.992\"/>\r\n",
       "<polygon fill=\"#ff0000\" stroke=\"#ff0000\" points=\"1487.71,-372.005 1484.5,-361.909 1480.71,-371.804 1487.71,-372.005\"/>\r\n",
       "<text text-anchor=\"middle\" x=\"1514.54\" y=\"-444.17\" font-family=\"Times New Roman,serif\" font-size=\"14.00\">no, missing</text>\r\n",
       "</g>\r\n",
       "<!-- 35 -->\r\n",
       "<g id=\"node30\" class=\"node\"><title>35</title>\r\n",
       "<ellipse fill=\"none\" stroke=\"black\" cx=\"1715.54\" cy=\"-254.685\" rx=\"102.882\" ry=\"102.882\"/>\r\n",
       "<text text-anchor=\"middle\" x=\"1715.54\" y=\"-250.985\" font-family=\"Times New Roman,serif\" font-size=\"14.00\">user_average_basket&lt;3.8</text>\r\n",
       "</g>\r\n",
       "<!-- 18&#45;&gt;35 -->\r\n",
       "<g id=\"edge29\" class=\"edge\"><title>18&#45;&gt;35</title>\r\n",
       "<path fill=\"none\" stroke=\"#0000ff\" d=\"M1718.33,-524.471C1717.82,-474.727 1717.21,-416.795 1716.7,-367.479\"/>\r\n",
       "<polygon fill=\"#0000ff\" stroke=\"#0000ff\" points=\"1720.2,-367.378 1716.6,-357.415 1713.2,-367.451 1720.2,-367.378\"/>\r\n",
       "<text text-anchor=\"middle\" x=\"1752.04\" y=\"-444.17\" font-family=\"Times New Roman,serif\" font-size=\"14.00\">yes, missing</text>\r\n",
       "</g>\r\n",
       "<!-- 36 -->\r\n",
       "<g id=\"node31\" class=\"node\"><title>36</title>\r\n",
       "<ellipse fill=\"none\" stroke=\"black\" cx=\"1948.54\" cy=\"-254.685\" rx=\"112.38\" ry=\"112.38\"/>\r\n",
       "<text text-anchor=\"middle\" x=\"1948.54\" y=\"-250.985\" font-family=\"Times New Roman,serif\" font-size=\"14.00\">days_since_prior_order&lt;28</text>\r\n",
       "</g>\r\n",
       "<!-- 18&#45;&gt;36 -->\r\n",
       "<g id=\"edge30\" class=\"edge\"><title>18&#45;&gt;36</title>\r\n",
       "<path fill=\"none\" stroke=\"#ff0000\" d=\"M1778.66,-540.821C1811.62,-485.502 1852.64,-416.65 1886.11,-360.463\"/>\r\n",
       "<polygon fill=\"#ff0000\" stroke=\"#ff0000\" points=\"1889.31,-361.94 1891.42,-351.558 1883.29,-358.357 1889.31,-361.94\"/>\r\n",
       "<text text-anchor=\"middle\" x=\"1842.04\" y=\"-444.17\" font-family=\"Times New Roman,serif\" font-size=\"14.00\">no</text>\r\n",
       "</g>\r\n",
       "<!-- 63 -->\r\n",
       "<g id=\"node26\" class=\"node\"><title>63</title>\r\n",
       "<polygon fill=\"none\" stroke=\"black\" points=\"1227.04,-36 1114.04,-36 1114.04,-0 1227.04,-0 1227.04,-36\"/>\r\n",
       "<text text-anchor=\"middle\" x=\"1170.54\" y=\"-14.3\" font-family=\"Times New Roman,serif\" font-size=\"14.00\">leaf=&#45;0.00103607</text>\r\n",
       "</g>\r\n",
       "<!-- 33&#45;&gt;63 -->\r\n",
       "<g id=\"edge25\" class=\"edge\"><title>33&#45;&gt;63</title>\r\n",
       "<path fill=\"none\" stroke=\"#0000ff\" d=\"M1223.34,-158.23C1207.89,-117.495 1191.06,-73.1123 1180.65,-45.6664\"/>\r\n",
       "<polygon fill=\"#0000ff\" stroke=\"#0000ff\" points=\"1183.81,-44.1288 1176.99,-36.0197 1177.26,-46.611 1183.81,-44.1288\"/>\r\n",
       "<text text-anchor=\"middle\" x=\"1198.04\" y=\"-57.8\" font-family=\"Times New Roman,serif\" font-size=\"14.00\">yes</text>\r\n",
       "</g>\r\n",
       "<!-- 64 -->\r\n",
       "<g id=\"node27\" class=\"node\"><title>64</title>\r\n",
       "<polygon fill=\"none\" stroke=\"black\" points=\"1347.54,-36 1245.54,-36 1245.54,-0 1347.54,-0 1347.54,-36\"/>\r\n",
       "<text text-anchor=\"middle\" x=\"1296.54\" y=\"-14.3\" font-family=\"Times New Roman,serif\" font-size=\"14.00\">leaf=0.0295925</text>\r\n",
       "</g>\r\n",
       "<!-- 33&#45;&gt;64 -->\r\n",
       "<g id=\"edge26\" class=\"edge\"><title>33&#45;&gt;64</title>\r\n",
       "<path fill=\"none\" stroke=\"#ff0000\" d=\"M1275.39,-153.136C1281.56,-113.991 1288.13,-72.3 1292.28,-45.976\"/>\r\n",
       "<polygon fill=\"#ff0000\" stroke=\"#ff0000\" points=\"1295.75,-46.4405 1293.85,-36.0175 1288.84,-45.3503 1295.75,-46.4405\"/>\r\n",
       "<text text-anchor=\"middle\" x=\"1322.54\" y=\"-57.8\" font-family=\"Times New Roman,serif\" font-size=\"14.00\">no, missing</text>\r\n",
       "</g>\r\n",
       "<!-- 65 -->\r\n",
       "<g id=\"node28\" class=\"node\"><title>65</title>\r\n",
       "<polygon fill=\"none\" stroke=\"black\" points=\"1479.04,-36 1366.04,-36 1366.04,-0 1479.04,-0 1479.04,-36\"/>\r\n",
       "<text text-anchor=\"middle\" x=\"1422.54\" y=\"-14.3\" font-family=\"Times New Roman,serif\" font-size=\"14.00\">leaf=&#45;0.00812024</text>\r\n",
       "</g>\r\n",
       "<!-- 34&#45;&gt;65 -->\r\n",
       "<g id=\"edge27\" class=\"edge\"><title>34&#45;&gt;65</title>\r\n",
       "<path fill=\"none\" stroke=\"#0000ff\" d=\"M1459.12,-151.09C1448.43,-112.498 1437.15,-71.744 1429.98,-45.8828\"/>\r\n",
       "<polygon fill=\"#0000ff\" stroke=\"#0000ff\" points=\"1433.31,-44.7892 1427.27,-36.0863 1426.57,-46.6577 1433.31,-44.7892\"/>\r\n",
       "<text text-anchor=\"middle\" x=\"1445.04\" y=\"-57.8\" font-family=\"Times New Roman,serif\" font-size=\"14.00\">yes</text>\r\n",
       "</g>\r\n",
       "<!-- 66 -->\r\n",
       "<g id=\"node29\" class=\"node\"><title>66</title>\r\n",
       "<polygon fill=\"none\" stroke=\"black\" points=\"1610.04,-36 1497.04,-36 1497.04,-0 1610.04,-0 1610.04,-36\"/>\r\n",
       "<text text-anchor=\"middle\" x=\"1553.54\" y=\"-14.3\" font-family=\"Times New Roman,serif\" font-size=\"14.00\">leaf=&#45;0.00243408</text>\r\n",
       "</g>\r\n",
       "<!-- 34&#45;&gt;66 -->\r\n",
       "<g id=\"edge28\" class=\"edge\"><title>34&#45;&gt;66</title>\r\n",
       "<path fill=\"none\" stroke=\"#ff0000\" d=\"M1516.39,-151.09C1527.24,-112.498 1538.7,-71.744 1545.98,-45.8828\"/>\r\n",
       "<polygon fill=\"#ff0000\" stroke=\"#ff0000\" points=\"1549.39,-46.6604 1548.73,-36.0863 1542.66,-44.7653 1549.39,-46.6604\"/>\r\n",
       "<text text-anchor=\"middle\" x=\"1574.54\" y=\"-57.8\" font-family=\"Times New Roman,serif\" font-size=\"14.00\">no, missing</text>\r\n",
       "</g>\r\n",
       "<!-- 67 -->\r\n",
       "<g id=\"node32\" class=\"node\"><title>67</title>\r\n",
       "<polygon fill=\"none\" stroke=\"black\" points=\"1741.04,-36 1628.04,-36 1628.04,-0 1741.04,-0 1741.04,-36\"/>\r\n",
       "<text text-anchor=\"middle\" x=\"1684.54\" y=\"-14.3\" font-family=\"Times New Roman,serif\" font-size=\"14.00\">leaf=&#45;0.00953207</text>\r\n",
       "</g>\r\n",
       "<!-- 35&#45;&gt;67 -->\r\n",
       "<g id=\"edge31\" class=\"edge\"><title>35&#45;&gt;67</title>\r\n",
       "<path fill=\"none\" stroke=\"#0000ff\" d=\"M1702.21,-152.796C1697.08,-113.924 1691.62,-72.5949 1688.15,-46.329\"/>\r\n",
       "<polygon fill=\"#0000ff\" stroke=\"#0000ff\" points=\"1691.61,-45.8316 1686.83,-36.3761 1684.67,-46.7484 1691.61,-45.8316\"/>\r\n",
       "<text text-anchor=\"middle\" x=\"1700.04\" y=\"-57.8\" font-family=\"Times New Roman,serif\" font-size=\"14.00\">yes</text>\r\n",
       "</g>\r\n",
       "<!-- 68 -->\r\n",
       "<g id=\"node33\" class=\"node\"><title>68</title>\r\n",
       "<polygon fill=\"none\" stroke=\"black\" points=\"1875.54,-36 1759.54,-36 1759.54,-0 1875.54,-0 1875.54,-36\"/>\r\n",
       "<text text-anchor=\"middle\" x=\"1817.54\" y=\"-14.3\" font-family=\"Times New Roman,serif\" font-size=\"14.00\">leaf=0.000843473</text>\r\n",
       "</g>\r\n",
       "<!-- 35&#45;&gt;68 -->\r\n",
       "<g id=\"edge32\" class=\"edge\"><title>35&#45;&gt;68</title>\r\n",
       "<path fill=\"none\" stroke=\"#ff0000\" d=\"M1756.14,-160.257C1774.05,-119.046 1793.75,-73.7244 1805.88,-45.8104\"/>\r\n",
       "<polygon fill=\"#ff0000\" stroke=\"#ff0000\" points=\"1809.22,-46.9201 1809.99,-36.3538 1802.8,-44.1299 1809.22,-46.9201\"/>\r\n",
       "<text text-anchor=\"middle\" x=\"1832.54\" y=\"-57.8\" font-family=\"Times New Roman,serif\" font-size=\"14.00\">no, missing</text>\r\n",
       "</g>\r\n",
       "<!-- 69 -->\r\n",
       "<g id=\"node34\" class=\"node\"><title>69</title>\r\n",
       "<polygon fill=\"none\" stroke=\"black\" points=\"2001.04,-36 1894.04,-36 1894.04,-0 2001.04,-0 2001.04,-36\"/>\r\n",
       "<text text-anchor=\"middle\" x=\"1947.54\" y=\"-14.3\" font-family=\"Times New Roman,serif\" font-size=\"14.00\">leaf=&#45;0.0149459</text>\r\n",
       "</g>\r\n",
       "<!-- 36&#45;&gt;69 -->\r\n",
       "<g id=\"edge33\" class=\"edge\"><title>36&#45;&gt;69</title>\r\n",
       "<path fill=\"none\" stroke=\"#0000ff\" d=\"M1948.06,-142.185C1947.91,-106.494 1947.75,-70.0808 1947.65,-46.1963\"/>\r\n",
       "<polygon fill=\"#0000ff\" stroke=\"#0000ff\" points=\"1951.15,-46.1364 1947.61,-36.1515 1944.15,-46.1663 1951.15,-46.1364\"/>\r\n",
       "<text text-anchor=\"middle\" x=\"1958.04\" y=\"-57.8\" font-family=\"Times New Roman,serif\" font-size=\"14.00\">yes</text>\r\n",
       "</g>\r\n",
       "<!-- 70 -->\r\n",
       "<g id=\"node35\" class=\"node\"><title>70</title>\r\n",
       "<polygon fill=\"none\" stroke=\"black\" points=\"2121.54,-36 2019.54,-36 2019.54,-0 2121.54,-0 2121.54,-36\"/>\r\n",
       "<text text-anchor=\"middle\" x=\"2070.54\" y=\"-14.3\" font-family=\"Times New Roman,serif\" font-size=\"14.00\">leaf=0.0216844</text>\r\n",
       "</g>\r\n",
       "<!-- 36&#45;&gt;70 -->\r\n",
       "<g id=\"edge34\" class=\"edge\"><title>36&#45;&gt;70</title>\r\n",
       "<path fill=\"none\" stroke=\"#ff0000\" d=\"M2000.1,-154.498C2020.83,-114.61 2043.06,-71.8552 2056.88,-45.2724\"/>\r\n",
       "<polygon fill=\"#ff0000\" stroke=\"#ff0000\" points=\"2060.06,-46.7329 2061.57,-36.2458 2053.85,-43.5042 2060.06,-46.7329\"/>\r\n",
       "<text text-anchor=\"middle\" x=\"2082.54\" y=\"-57.8\" font-family=\"Times New Roman,serif\" font-size=\"14.00\">no, missing</text>\r\n",
       "</g>\r\n",
       "<!-- 19 -->\r\n",
       "<g id=\"node38\" class=\"node\"><title>19</title>\r\n",
       "<polygon fill=\"none\" stroke=\"black\" points=\"2130.54,-659.055 2028.54,-659.055 2028.54,-623.055 2130.54,-623.055 2130.54,-659.055\"/>\r\n",
       "<text text-anchor=\"middle\" x=\"2079.54\" y=\"-637.355\" font-family=\"Times New Roman,serif\" font-size=\"14.00\">leaf=0.0348157</text>\r\n",
       "</g>\r\n",
       "<!-- 9&#45;&gt;19 -->\r\n",
       "<g id=\"edge37\" class=\"edge\"><title>9&#45;&gt;19</title>\r\n",
       "<path fill=\"none\" stroke=\"#0000ff\" d=\"M2276.33,-985.787C2237.05,-944.243 2177.74,-876.389 2139.54,-808.74 2113.49,-762.628 2095.34,-703.138 2086.25,-669.128\"/>\r\n",
       "<polygon fill=\"#0000ff\" stroke=\"#0000ff\" points=\"2089.63,-668.226 2083.71,-659.434 2082.85,-669.994 2089.63,-668.226\"/>\r\n",
       "<text text-anchor=\"middle\" x=\"2169.04\" y=\"-830.54\" font-family=\"Times New Roman,serif\" font-size=\"14.00\">yes</text>\r\n",
       "</g>\r\n",
       "<!-- 20 -->\r\n",
       "<g id=\"node39\" class=\"node\"><title>20</title>\r\n",
       "<ellipse fill=\"none\" stroke=\"black\" cx=\"2316.54\" cy=\"-641.055\" rx=\"167.87\" ry=\"167.87\"/>\r\n",
       "<text text-anchor=\"middle\" x=\"2316.54\" y=\"-637.355\" font-family=\"Times New Roman,serif\" font-size=\"14.00\">up_order_rate_since_first_order&lt;0.999999</text>\r\n",
       "</g>\r\n",
       "<!-- 9&#45;&gt;20 -->\r\n",
       "<g id=\"edge38\" class=\"edge\"><title>9&#45;&gt;20</title>\r\n",
       "<path fill=\"none\" stroke=\"#ff0000\" d=\"M2316.54,-969.297C2316.54,-929.233 2316.54,-873.335 2316.54,-819.062\"/>\r\n",
       "<polygon fill=\"#ff0000\" stroke=\"#ff0000\" points=\"2320.04,-818.951 2316.54,-808.951 2313.04,-818.951 2320.04,-818.951\"/>\r\n",
       "<text text-anchor=\"middle\" x=\"2348.54\" y=\"-830.54\" font-family=\"Times New Roman,serif\" font-size=\"14.00\">no, missing</text>\r\n",
       "</g>\r\n",
       "<!-- 21 -->\r\n",
       "<g id=\"node44\" class=\"node\"><title>21</title>\r\n",
       "<ellipse fill=\"none\" stroke=\"black\" cx=\"2624.54\" cy=\"-641.055\" rx=\"68.4888\" ry=\"68.4888\"/>\r\n",
       "<text text-anchor=\"middle\" x=\"2624.54\" y=\"-637.355\" font-family=\"Times New Roman,serif\" font-size=\"14.00\">user_period&lt;67</text>\r\n",
       "</g>\r\n",
       "<!-- 10&#45;&gt;21 -->\r\n",
       "<g id=\"edge43\" class=\"edge\"><title>10&#45;&gt;21</title>\r\n",
       "<path fill=\"none\" stroke=\"#0000ff\" d=\"M2624.54,-918.846C2624.54,-855.469 2624.54,-776.755 2624.54,-719.489\"/>\r\n",
       "<polygon fill=\"#0000ff\" stroke=\"#0000ff\" points=\"2628.04,-719.413 2624.54,-709.413 2621.04,-719.413 2628.04,-719.413\"/>\r\n",
       "<text text-anchor=\"middle\" x=\"2634.04\" y=\"-830.54\" font-family=\"Times New Roman,serif\" font-size=\"14.00\">yes</text>\r\n",
       "</g>\r\n",
       "<!-- 22 -->\r\n",
       "<g id=\"node45\" class=\"node\"><title>22</title>\r\n",
       "<ellipse fill=\"none\" stroke=\"black\" cx=\"2867.54\" cy=\"-641.055\" rx=\"77.1866\" ry=\"77.1866\"/>\r\n",
       "<text text-anchor=\"middle\" x=\"2867.54\" y=\"-637.355\" font-family=\"Times New Roman,serif\" font-size=\"14.00\">up_first_order&lt;23</text>\r\n",
       "</g>\r\n",
       "<!-- 10&#45;&gt;22 -->\r\n",
       "<g id=\"edge44\" class=\"edge\"><title>10&#45;&gt;22</title>\r\n",
       "<path fill=\"none\" stroke=\"#ff0000\" d=\"M2682.12,-935.335C2724.55,-868.229 2781.51,-778.134 2821.05,-715.585\"/>\r\n",
       "<polygon fill=\"#ff0000\" stroke=\"#ff0000\" points=\"2824.13,-717.271 2826.51,-706.948 2818.21,-713.53 2824.13,-717.271\"/>\r\n",
       "<text text-anchor=\"middle\" x=\"2778.54\" y=\"-830.54\" font-family=\"Times New Roman,serif\" font-size=\"14.00\">no, missing</text>\r\n",
       "</g>\r\n",
       "<!-- 37 -->\r\n",
       "<g id=\"node40\" class=\"node\"><title>37</title>\r\n",
       "<polygon fill=\"none\" stroke=\"black\" points=\"2186.04,-272.685 2079.04,-272.685 2079.04,-236.685 2186.04,-236.685 2186.04,-272.685\"/>\r\n",
       "<text text-anchor=\"middle\" x=\"2132.54\" y=\"-250.985\" font-family=\"Times New Roman,serif\" font-size=\"14.00\">leaf=&#45;0.0941668</text>\r\n",
       "</g>\r\n",
       "<!-- 20&#45;&gt;37 -->\r\n",
       "<g id=\"edge39\" class=\"edge\"><title>20&#45;&gt;37</title>\r\n",
       "<path fill=\"none\" stroke=\"#0000ff\" d=\"M2232.51,-495.797C2219.52,-471.588 2206.73,-446.493 2195.54,-422.37 2173.24,-374.302 2152.58,-315.939 2141.34,-282.574\"/>\r\n",
       "<polygon fill=\"#0000ff\" stroke=\"#0000ff\" points=\"2144.65,-281.439 2138.17,-273.062 2138.01,-283.655 2144.65,-281.439\"/>\r\n",
       "<text text-anchor=\"middle\" x=\"2220.04\" y=\"-444.17\" font-family=\"Times New Roman,serif\" font-size=\"14.00\">yes</text>\r\n",
       "</g>\r\n",
       "<!-- 38 -->\r\n",
       "<g id=\"node41\" class=\"node\"><title>38</title>\r\n",
       "<ellipse fill=\"none\" stroke=\"black\" cx=\"2316.54\" cy=\"-254.685\" rx=\"112.38\" ry=\"112.38\"/>\r\n",
       "<text text-anchor=\"middle\" x=\"2316.54\" y=\"-250.985\" font-family=\"Times New Roman,serif\" font-size=\"14.00\">days_since_prior_order&lt;23</text>\r\n",
       "</g>\r\n",
       "<!-- 20&#45;&gt;38 -->\r\n",
       "<g id=\"edge40\" class=\"edge\"><title>20&#45;&gt;38</title>\r\n",
       "<path fill=\"none\" stroke=\"#ff0000\" d=\"M2316.54,-473.142C2316.54,-441.015 2316.54,-407.929 2316.54,-377.56\"/>\r\n",
       "<polygon fill=\"#ff0000\" stroke=\"#ff0000\" points=\"2320.04,-377.371 2316.54,-367.371 2313.04,-377.371 2320.04,-377.371\"/>\r\n",
       "<text text-anchor=\"middle\" x=\"2348.54\" y=\"-444.17\" font-family=\"Times New Roman,serif\" font-size=\"14.00\">no, missing</text>\r\n",
       "</g>\r\n",
       "<!-- 71 -->\r\n",
       "<g id=\"node42\" class=\"node\"><title>71</title>\r\n",
       "<polygon fill=\"none\" stroke=\"black\" points=\"2258.04,-36 2149.04,-36 2149.04,-0 2258.04,-0 2258.04,-36\"/>\r\n",
       "<text text-anchor=\"middle\" x=\"2203.54\" y=\"-14.3\" font-family=\"Times New Roman,serif\" font-size=\"14.00\">leaf=0.00810353</text>\r\n",
       "</g>\r\n",
       "<!-- 38&#45;&gt;71 -->\r\n",
       "<g id=\"edge41\" class=\"edge\"><title>38&#45;&gt;71</title>\r\n",
       "<path fill=\"none\" stroke=\"#0000ff\" d=\"M2268.12,-153.136C2249.11,-113.643 2228.84,-71.5586 2216.19,-45.2777\"/>\r\n",
       "<polygon fill=\"#0000ff\" stroke=\"#0000ff\" points=\"2219.22,-43.509 2211.73,-36.0175 2212.92,-46.5458 2219.22,-43.509\"/>\r\n",
       "<text text-anchor=\"middle\" x=\"2235.04\" y=\"-57.8\" font-family=\"Times New Roman,serif\" font-size=\"14.00\">yes</text>\r\n",
       "</g>\r\n",
       "<!-- 72 -->\r\n",
       "<g id=\"node43\" class=\"node\"><title>72</title>\r\n",
       "<polygon fill=\"none\" stroke=\"black\" points=\"2383.04,-36 2276.04,-36 2276.04,-0 2383.04,-0 2383.04,-36\"/>\r\n",
       "<text text-anchor=\"middle\" x=\"2329.54\" y=\"-14.3\" font-family=\"Times New Roman,serif\" font-size=\"14.00\">leaf=&#45;0.0645062</text>\r\n",
       "</g>\r\n",
       "<!-- 38&#45;&gt;72 -->\r\n",
       "<g id=\"edge42\" class=\"edge\"><title>38&#45;&gt;72</title>\r\n",
       "<path fill=\"none\" stroke=\"#ff0000\" d=\"M2322.71,-142.185C2324.69,-106.494 2326.71,-70.0808 2328.03,-46.1963\"/>\r\n",
       "<polygon fill=\"#ff0000\" stroke=\"#ff0000\" points=\"2331.53,-46.3298 2328.59,-36.1515 2324.54,-45.9426 2331.53,-46.3298\"/>\r\n",
       "<text text-anchor=\"middle\" x=\"2359.54\" y=\"-57.8\" font-family=\"Times New Roman,serif\" font-size=\"14.00\">no, missing</text>\r\n",
       "</g>\r\n",
       "<!-- 39 -->\r\n",
       "<g id=\"node46\" class=\"node\"><title>39</title>\r\n",
       "<ellipse fill=\"none\" stroke=\"black\" cx=\"2526.54\" cy=\"-254.685\" rx=\"79.0865\" ry=\"79.0865\"/>\r\n",
       "<text text-anchor=\"middle\" x=\"2526.54\" y=\"-250.985\" font-family=\"Times New Roman,serif\" font-size=\"14.00\">prod_orders&lt;1451</text>\r\n",
       "</g>\r\n",
       "<!-- 21&#45;&gt;39 -->\r\n",
       "<g id=\"edge45\" class=\"edge\"><title>21&#45;&gt;39</title>\r\n",
       "<path fill=\"none\" stroke=\"#0000ff\" d=\"M2607.91,-574.852C2591.54,-510.619 2566.43,-412.133 2548.43,-341.556\"/>\r\n",
       "<polygon fill=\"#0000ff\" stroke=\"#0000ff\" points=\"2551.8,-340.615 2545.94,-331.789 2545.02,-342.344 2551.8,-340.615\"/>\r\n",
       "<text text-anchor=\"middle\" x=\"2585.04\" y=\"-444.17\" font-family=\"Times New Roman,serif\" font-size=\"14.00\">yes</text>\r\n",
       "</g>\r\n",
       "<!-- 40 -->\r\n",
       "<g id=\"node47\" class=\"node\"><title>40</title>\r\n",
       "<polygon fill=\"none\" stroke=\"black\" points=\"2731.04,-272.685 2624.04,-272.685 2624.04,-236.685 2731.04,-236.685 2731.04,-272.685\"/>\r\n",
       "<text text-anchor=\"middle\" x=\"2677.54\" y=\"-250.985\" font-family=\"Times New Roman,serif\" font-size=\"14.00\">leaf=&#45;0.0492783</text>\r\n",
       "</g>\r\n",
       "<!-- 21&#45;&gt;40 -->\r\n",
       "<g id=\"edge46\" class=\"edge\"><title>21&#45;&gt;40</title>\r\n",
       "<path fill=\"none\" stroke=\"#ff0000\" d=\"M2633.77,-573.103C2645.58,-487.452 2665.49,-343.022 2673.76,-283.057\"/>\r\n",
       "<polygon fill=\"#ff0000\" stroke=\"#ff0000\" points=\"2677.27,-283.261 2675.17,-272.877 2670.33,-282.305 2677.27,-283.261\"/>\r\n",
       "<text text-anchor=\"middle\" x=\"2683.54\" y=\"-444.17\" font-family=\"Times New Roman,serif\" font-size=\"14.00\">no, missing</text>\r\n",
       "</g>\r\n",
       "<!-- 41 -->\r\n",
       "<g id=\"node50\" class=\"node\"><title>41</title>\r\n",
       "<ellipse fill=\"none\" stroke=\"black\" cx=\"2867.54\" cy=\"-254.685\" rx=\"118.879\" ry=\"118.879\"/>\r\n",
       "<text text-anchor=\"middle\" x=\"2867.54\" y=\"-250.985\" font-family=\"Times New Roman,serif\" font-size=\"14.00\">prod_reorder_ratio&lt;0.370015</text>\r\n",
       "</g>\r\n",
       "<!-- 22&#45;&gt;41 -->\r\n",
       "<g id=\"edge49\" class=\"edge\"><title>22&#45;&gt;41</title>\r\n",
       "<path fill=\"none\" stroke=\"#0000ff\" d=\"M2867.54,-563.657C2867.54,-512.434 2867.54,-443.716 2867.54,-384.188\"/>\r\n",
       "<polygon fill=\"#0000ff\" stroke=\"#0000ff\" points=\"2871.04,-383.954 2867.54,-373.954 2864.04,-383.954 2871.04,-383.954\"/>\r\n",
       "<text text-anchor=\"middle\" x=\"2877.04\" y=\"-444.17\" font-family=\"Times New Roman,serif\" font-size=\"14.00\">yes</text>\r\n",
       "</g>\r\n",
       "<!-- 42 -->\r\n",
       "<g id=\"node51\" class=\"node\"><title>42</title>\r\n",
       "<ellipse fill=\"none\" stroke=\"black\" cx=\"3146.54\" cy=\"-254.685\" rx=\"141.875\" ry=\"141.875\"/>\r\n",
       "<text text-anchor=\"middle\" x=\"3146.54\" y=\"-250.985\" font-family=\"Times New Roman,serif\" font-size=\"14.00\">prod_reorder_probability&lt;0.496054</text>\r\n",
       "</g>\r\n",
       "<!-- 22&#45;&gt;42 -->\r\n",
       "<g id=\"edge50\" class=\"edge\"><title>22&#45;&gt;42</title>\r\n",
       "<path fill=\"none\" stroke=\"#ff0000\" d=\"M2912.67,-577.872C2951.72,-524.081 3009.33,-444.71 3057.6,-378.208\"/>\r\n",
       "<polygon fill=\"#ff0000\" stroke=\"#ff0000\" points=\"3060.7,-379.898 3063.74,-369.749 3055.04,-375.786 3060.7,-379.898\"/>\r\n",
       "<text text-anchor=\"middle\" x=\"3039.54\" y=\"-444.17\" font-family=\"Times New Roman,serif\" font-size=\"14.00\">no, missing</text>\r\n",
       "</g>\r\n",
       "<!-- 73 -->\r\n",
       "<g id=\"node48\" class=\"node\"><title>73</title>\r\n",
       "<polygon fill=\"none\" stroke=\"black\" points=\"2533.04,-36 2420.04,-36 2420.04,-0 2533.04,-0 2533.04,-36\"/>\r\n",
       "<text text-anchor=\"middle\" x=\"2476.54\" y=\"-14.3\" font-family=\"Times New Roman,serif\" font-size=\"14.00\">leaf=&#45;0.00884357</text>\r\n",
       "</g>\r\n",
       "<!-- 39&#45;&gt;73 -->\r\n",
       "<g id=\"edge47\" class=\"edge\"><title>39&#45;&gt;73</title>\r\n",
       "<path fill=\"none\" stroke=\"#0000ff\" d=\"M2510.17,-176.84C2500.6,-131.922 2489.1,-77.9792 2482.33,-46.2036\"/>\r\n",
       "<polygon fill=\"#0000ff\" stroke=\"#0000ff\" points=\"2485.73,-45.3736 2480.23,-36.3225 2478.89,-46.8323 2485.73,-45.3736\"/>\r\n",
       "<text text-anchor=\"middle\" x=\"2496.04\" y=\"-57.8\" font-family=\"Times New Roman,serif\" font-size=\"14.00\">yes</text>\r\n",
       "</g>\r\n",
       "<!-- 74 -->\r\n",
       "<g id=\"node49\" class=\"node\"><title>74</title>\r\n",
       "<polygon fill=\"none\" stroke=\"black\" points=\"2653.54,-36 2551.54,-36 2551.54,-0 2653.54,-0 2653.54,-36\"/>\r\n",
       "<text text-anchor=\"middle\" x=\"2602.54\" y=\"-14.3\" font-family=\"Times New Roman,serif\" font-size=\"14.00\">leaf=0.0644235</text>\r\n",
       "</g>\r\n",
       "<!-- 39&#45;&gt;74 -->\r\n",
       "<g id=\"edge48\" class=\"edge\"><title>39&#45;&gt;74</title>\r\n",
       "<path fill=\"none\" stroke=\"#ff0000\" d=\"M2550.69,-179.107C2565.43,-133.569 2583.41,-78.078 2593.85,-45.821\"/>\r\n",
       "<polygon fill=\"#ff0000\" stroke=\"#ff0000\" points=\"2597.21,-46.7983 2596.96,-36.2064 2590.55,-44.6417 2597.21,-46.7983\"/>\r\n",
       "<text text-anchor=\"middle\" x=\"2622.54\" y=\"-57.8\" font-family=\"Times New Roman,serif\" font-size=\"14.00\">no, missing</text>\r\n",
       "</g>\r\n",
       "<!-- 75 -->\r\n",
       "<g id=\"node52\" class=\"node\"><title>75</title>\r\n",
       "<polygon fill=\"none\" stroke=\"black\" points=\"2799.04,-36 2690.04,-36 2690.04,-0 2799.04,-0 2799.04,-36\"/>\r\n",
       "<text text-anchor=\"middle\" x=\"2744.54\" y=\"-14.3\" font-family=\"Times New Roman,serif\" font-size=\"14.00\">leaf=0.00420664</text>\r\n",
       "</g>\r\n",
       "<!-- 41&#45;&gt;75 -->\r\n",
       "<g id=\"edge51\" class=\"edge\"><title>41&#45;&gt;75</title>\r\n",
       "<path fill=\"none\" stroke=\"#0000ff\" d=\"M2812.69,-149.04C2792.58,-110.672 2771.51,-70.4711 2758.22,-45.1064\"/>\r\n",
       "<polygon fill=\"#0000ff\" stroke=\"#0000ff\" points=\"2761.27,-43.3788 2753.52,-36.1463 2755.07,-46.6283 2761.27,-43.3788\"/>\r\n",
       "<text text-anchor=\"middle\" x=\"2778.04\" y=\"-57.8\" font-family=\"Times New Roman,serif\" font-size=\"14.00\">yes</text>\r\n",
       "</g>\r\n",
       "<!-- 76 -->\r\n",
       "<g id=\"node53\" class=\"node\"><title>76</title>\r\n",
       "<polygon fill=\"none\" stroke=\"black\" points=\"2933.54,-36 2817.54,-36 2817.54,-0 2933.54,-0 2933.54,-36\"/>\r\n",
       "<text text-anchor=\"middle\" x=\"2875.54\" y=\"-14.3\" font-family=\"Times New Roman,serif\" font-size=\"14.00\">leaf=0.000528259</text>\r\n",
       "</g>\r\n",
       "<!-- 41&#45;&gt;76 -->\r\n",
       "<g id=\"edge52\" class=\"edge\"><title>41&#45;&gt;76</title>\r\n",
       "<path fill=\"none\" stroke=\"#ff0000\" d=\"M2871.56,-135.655C2872.7,-102.108 2873.84,-68.6353 2874.61,-46.2062\"/>\r\n",
       "<polygon fill=\"#ff0000\" stroke=\"#ff0000\" points=\"2878.11,-46.2442 2874.95,-36.1307 2871.11,-46.0056 2878.11,-46.2442\"/>\r\n",
       "<text text-anchor=\"middle\" x=\"2906.54\" y=\"-57.8\" font-family=\"Times New Roman,serif\" font-size=\"14.00\">no, missing</text>\r\n",
       "</g>\r\n",
       "<!-- 77 -->\r\n",
       "<g id=\"node54\" class=\"node\"><title>77</title>\r\n",
       "<polygon fill=\"none\" stroke=\"black\" points=\"3090.04,-36 2977.04,-36 2977.04,-0 3090.04,-0 3090.04,-36\"/>\r\n",
       "<text text-anchor=\"middle\" x=\"3033.54\" y=\"-14.3\" font-family=\"Times New Roman,serif\" font-size=\"14.00\">leaf=&#45;0.00546832</text>\r\n",
       "</g>\r\n",
       "<!-- 42&#45;&gt;77 -->\r\n",
       "<g id=\"edge53\" class=\"edge\"><title>42&#45;&gt;77</title>\r\n",
       "<path fill=\"none\" stroke=\"#0000ff\" d=\"M3085.41,-126.726C3070.57,-95.9122 3056.16,-65.9883 3046.31,-45.5312\"/>\r\n",
       "<polygon fill=\"#0000ff\" stroke=\"#0000ff\" points=\"3049.35,-43.7783 3041.86,-36.2867 3043.05,-46.8151 3049.35,-43.7783\"/>\r\n",
       "<text text-anchor=\"middle\" x=\"3065.04\" y=\"-57.8\" font-family=\"Times New Roman,serif\" font-size=\"14.00\">yes</text>\r\n",
       "</g>\r\n",
       "<!-- 78 -->\r\n",
       "<g id=\"node55\" class=\"node\"><title>78</title>\r\n",
       "<polygon fill=\"none\" stroke=\"black\" points=\"3217.04,-36 3108.04,-36 3108.04,-0 3217.04,-0 3217.04,-36\"/>\r\n",
       "<text text-anchor=\"middle\" x=\"3162.54\" y=\"-14.3\" font-family=\"Times New Roman,serif\" font-size=\"14.00\">leaf=0.00539491</text>\r\n",
       "</g>\r\n",
       "<!-- 42&#45;&gt;78 -->\r\n",
       "<g id=\"edge54\" class=\"edge\"><title>42&#45;&gt;78</title>\r\n",
       "<path fill=\"none\" stroke=\"#ff0000\" d=\"M3156.12,-113.103C3157.85,-87.7982 3159.47,-63.9953 3160.65,-46.6598\"/>\r\n",
       "<polygon fill=\"#ff0000\" stroke=\"#ff0000\" points=\"3164.17,-46.4659 3161.36,-36.251 3157.19,-45.9898 3164.17,-46.4659\"/>\r\n",
       "<text text-anchor=\"middle\" x=\"3192.54\" y=\"-57.8\" font-family=\"Times New Roman,serif\" font-size=\"14.00\">no, missing</text>\r\n",
       "</g>\r\n",
       "<!-- 11 -->\r\n",
       "<g id=\"node58\" class=\"node\"><title>11</title>\r\n",
       "<ellipse fill=\"none\" stroke=\"black\" cx=\"3725.54\" cy=\"-1027.43\" rx=\"116.18\" ry=\"116.18\"/>\r\n",
       "<text text-anchor=\"middle\" x=\"3725.54\" y=\"-1023.73\" font-family=\"Times New Roman,serif\" font-size=\"14.00\">user_reorder_ratio&lt;0.786542</text>\r\n",
       "</g>\r\n",
       "<!-- 5&#45;&gt;11 -->\r\n",
       "<g id=\"edge57\" class=\"edge\"><title>5&#45;&gt;11</title>\r\n",
       "<path fill=\"none\" stroke=\"#0000ff\" d=\"M3822.5,-1273.09C3806.42,-1232.52 3788.2,-1186.53 3771.92,-1145.45\"/>\r\n",
       "<polygon fill=\"#0000ff\" stroke=\"#0000ff\" points=\"3775.09,-1143.96 3768.15,-1135.95 3768.58,-1146.54 3775.09,-1143.96\"/>\r\n",
       "<text text-anchor=\"middle\" x=\"3814.04\" y=\"-1216.91\" font-family=\"Times New Roman,serif\" font-size=\"14.00\">yes</text>\r\n",
       "</g>\r\n",
       "<!-- 12 -->\r\n",
       "<g id=\"node59\" class=\"node\"><title>12</title>\r\n",
       "<polygon fill=\"none\" stroke=\"black\" points=\"3967.04,-1045.43 3860.04,-1045.43 3860.04,-1009.43 3967.04,-1009.43 3967.04,-1045.43\"/>\r\n",
       "<text text-anchor=\"middle\" x=\"3913.54\" y=\"-1023.73\" font-family=\"Times New Roman,serif\" font-size=\"14.00\">leaf=&#45;0.0474743</text>\r\n",
       "</g>\r\n",
       "<!-- 5&#45;&gt;12 -->\r\n",
       "<g id=\"edge58\" class=\"edge\"><title>5&#45;&gt;12</title>\r\n",
       "<path fill=\"none\" stroke=\"#ff0000\" d=\"M3882.19,-1265.73C3892.08,-1190.85 3904.07,-1100.09 3909.94,-1055.64\"/>\r\n",
       "<polygon fill=\"#ff0000\" stroke=\"#ff0000\" points=\"3913.43,-1055.99 3911.27,-1045.62 3906.49,-1055.08 3913.43,-1055.99\"/>\r\n",
       "<text text-anchor=\"middle\" x=\"3921.54\" y=\"-1216.91\" font-family=\"Times New Roman,serif\" font-size=\"14.00\">no, missing</text>\r\n",
       "</g>\r\n",
       "<!-- 13 -->\r\n",
       "<g id=\"node72\" class=\"node\"><title>13</title>\r\n",
       "<ellipse fill=\"none\" stroke=\"black\" cx=\"4562.54\" cy=\"-1027.43\" rx=\"73.387\" ry=\"73.387\"/>\r\n",
       "<text text-anchor=\"middle\" x=\"4562.54\" y=\"-1023.73\" font-family=\"Times New Roman,serif\" font-size=\"14.00\">up_first_order&lt;5</text>\r\n",
       "</g>\r\n",
       "<!-- 6&#45;&gt;13 -->\r\n",
       "<g id=\"edge71\" class=\"edge\"><title>6&#45;&gt;13</title>\r\n",
       "<path fill=\"none\" stroke=\"#0000ff\" d=\"M4562.54,-1245.88C4562.54,-1200.45 4562.54,-1151.39 4562.54,-1111.38\"/>\r\n",
       "<polygon fill=\"#0000ff\" stroke=\"#0000ff\" points=\"4566.04,-1111.15 4562.54,-1101.15 4559.04,-1111.15 4566.04,-1111.15\"/>\r\n",
       "<text text-anchor=\"middle\" x=\"4572.04\" y=\"-1216.91\" font-family=\"Times New Roman,serif\" font-size=\"14.00\">yes</text>\r\n",
       "</g>\r\n",
       "<!-- 14 -->\r\n",
       "<g id=\"node73\" class=\"node\"><title>14</title>\r\n",
       "<ellipse fill=\"none\" stroke=\"black\" cx=\"5433.54\" cy=\"-1027.43\" rx=\"102.882\" ry=\"102.882\"/>\r\n",
       "<text text-anchor=\"middle\" x=\"5433.54\" y=\"-1023.73\" font-family=\"Times New Roman,serif\" font-size=\"14.00\">user_total_products&lt;685</text>\r\n",
       "</g>\r\n",
       "<!-- 6&#45;&gt;14 -->\r\n",
       "<g id=\"edge72\" class=\"edge\"><title>6&#45;&gt;14</title>\r\n",
       "<path fill=\"none\" stroke=\"#ff0000\" d=\"M4691.06,-1331.7C4864.35,-1260.92 5169.58,-1136.24 5329.36,-1070.98\"/>\r\n",
       "<polygon fill=\"#ff0000\" stroke=\"#ff0000\" points=\"5330.8,-1074.17 5338.74,-1067.15 5328.16,-1067.69 5330.8,-1074.17\"/>\r\n",
       "<text text-anchor=\"middle\" x=\"5004.54\" y=\"-1216.91\" font-family=\"Times New Roman,serif\" font-size=\"14.00\">no, missing</text>\r\n",
       "</g>\r\n",
       "<!-- 23 -->\r\n",
       "<g id=\"node60\" class=\"node\"><title>23</title>\r\n",
       "<ellipse fill=\"none\" stroke=\"black\" cx=\"3635.54\" cy=\"-641.055\" rx=\"79.0865\" ry=\"79.0865\"/>\r\n",
       "<text text-anchor=\"middle\" x=\"3635.54\" y=\"-637.355\" font-family=\"Times New Roman,serif\" font-size=\"14.00\">prod_orders&lt;8083</text>\r\n",
       "</g>\r\n",
       "<!-- 11&#45;&gt;23 -->\r\n",
       "<g id=\"edge59\" class=\"edge\"><title>11&#45;&gt;23</title>\r\n",
       "<path fill=\"none\" stroke=\"#0000ff\" d=\"M3699.2,-913.958C3685.33,-854.724 3668.59,-783.21 3655.75,-728.393\"/>\r\n",
       "<polygon fill=\"#0000ff\" stroke=\"#0000ff\" points=\"3659.09,-727.298 3653.4,-718.359 3652.28,-728.894 3659.09,-727.298\"/>\r\n",
       "<text text-anchor=\"middle\" x=\"3690.04\" y=\"-830.54\" font-family=\"Times New Roman,serif\" font-size=\"14.00\">yes</text>\r\n",
       "</g>\r\n",
       "<!-- 24 -->\r\n",
       "<g id=\"node61\" class=\"node\"><title>24</title>\r\n",
       "<ellipse fill=\"none\" stroke=\"black\" cx=\"3834.54\" cy=\"-641.055\" rx=\"100.983\" ry=\"100.983\"/>\r\n",
       "<text text-anchor=\"middle\" x=\"3834.54\" y=\"-637.355\" font-family=\"Times New Roman,serif\" font-size=\"14.00\">user_average_basket&lt;17</text>\r\n",
       "</g>\r\n",
       "<!-- 11&#45;&gt;24 -->\r\n",
       "<g id=\"edge60\" class=\"edge\"><title>11&#45;&gt;24</title>\r\n",
       "<path fill=\"none\" stroke=\"#ff0000\" d=\"M3757.06,-915.25C3771.98,-862.656 3789.7,-800.154 3804.43,-748.215\"/>\r\n",
       "<polygon fill=\"#ff0000\" stroke=\"#ff0000\" points=\"3807.88,-748.886 3807.24,-738.31 3801.15,-746.976 3807.88,-748.886\"/>\r\n",
       "<text text-anchor=\"middle\" x=\"3812.54\" y=\"-830.54\" font-family=\"Times New Roman,serif\" font-size=\"14.00\">no, missing</text>\r\n",
       "</g>\r\n",
       "<!-- 43 -->\r\n",
       "<g id=\"node62\" class=\"node\"><title>43</title>\r\n",
       "<ellipse fill=\"none\" stroke=\"black\" cx=\"3425.54\" cy=\"-254.685\" rx=\"118.879\" ry=\"118.879\"/>\r\n",
       "<text text-anchor=\"middle\" x=\"3425.54\" y=\"-250.985\" font-family=\"Times New Roman,serif\" font-size=\"14.00\">prod_reorder_ratio&lt;0.655509</text>\r\n",
       "</g>\r\n",
       "<!-- 23&#45;&gt;43 -->\r\n",
       "<g id=\"edge61\" class=\"edge\"><title>23&#45;&gt;43</title>\r\n",
       "<path fill=\"none\" stroke=\"#0000ff\" d=\"M3597.75,-570.894C3567.02,-514.642 3523.03,-434.132 3487.21,-368.56\"/>\r\n",
       "<polygon fill=\"#0000ff\" stroke=\"#0000ff\" points=\"3490.07,-366.508 3482.21,-359.411 3483.93,-369.865 3490.07,-366.508\"/>\r\n",
       "<text text-anchor=\"middle\" x=\"3540.04\" y=\"-444.17\" font-family=\"Times New Roman,serif\" font-size=\"14.00\">yes</text>\r\n",
       "</g>\r\n",
       "<!-- 44 -->\r\n",
       "<g id=\"node63\" class=\"node\"><title>44</title>\r\n",
       "<ellipse fill=\"none\" stroke=\"black\" cx=\"3635.54\" cy=\"-254.685\" rx=\"73.387\" ry=\"73.387\"/>\r\n",
       "<text text-anchor=\"middle\" x=\"3635.54\" y=\"-250.985\" font-family=\"Times New Roman,serif\" font-size=\"14.00\">up_first_order&lt;2</text>\r\n",
       "</g>\r\n",
       "<!-- 23&#45;&gt;44 -->\r\n",
       "<g id=\"edge62\" class=\"edge\"><title>23&#45;&gt;44</title>\r\n",
       "<path fill=\"none\" stroke=\"#ff0000\" d=\"M3635.54,-561.345C3635.54,-496.507 3635.54,-404.824 3635.54,-338.806\"/>\r\n",
       "<polygon fill=\"#ff0000\" stroke=\"#ff0000\" points=\"3639.04,-338.439 3635.54,-328.439 3632.04,-338.439 3639.04,-338.439\"/>\r\n",
       "<text text-anchor=\"middle\" x=\"3667.54\" y=\"-444.17\" font-family=\"Times New Roman,serif\" font-size=\"14.00\">no, missing</text>\r\n",
       "</g>\r\n",
       "<!-- 45 -->\r\n",
       "<g id=\"node68\" class=\"node\"><title>45</title>\r\n",
       "<ellipse fill=\"none\" stroke=\"black\" cx=\"3834.54\" cy=\"-254.685\" rx=\"107.482\" ry=\"107.482\"/>\r\n",
       "<text text-anchor=\"middle\" x=\"3834.54\" y=\"-250.985\" font-family=\"Times New Roman,serif\" font-size=\"14.00\">user_average_basket&lt;9.75</text>\r\n",
       "</g>\r\n",
       "<!-- 24&#45;&gt;45 -->\r\n",
       "<g id=\"edge67\" class=\"edge\"><title>24&#45;&gt;45</title>\r\n",
       "<path fill=\"none\" stroke=\"#0000ff\" d=\"M3834.54,-540.07C3834.54,-488.768 3834.54,-425.98 3834.54,-372.463\"/>\r\n",
       "<polygon fill=\"#0000ff\" stroke=\"#0000ff\" points=\"3838.04,-372.236 3834.54,-362.236 3831.04,-372.236 3838.04,-372.236\"/>\r\n",
       "<text text-anchor=\"middle\" x=\"3844.04\" y=\"-444.17\" font-family=\"Times New Roman,serif\" font-size=\"14.00\">yes</text>\r\n",
       "</g>\r\n",
       "<!-- 46 -->\r\n",
       "<g id=\"node69\" class=\"node\"><title>46</title>\r\n",
       "<polygon fill=\"none\" stroke=\"black\" points=\"4061.54,-272.685 3959.54,-272.685 3959.54,-236.685 4061.54,-236.685 4061.54,-272.685\"/>\r\n",
       "<text text-anchor=\"middle\" x=\"4010.54\" y=\"-250.985\" font-family=\"Times New Roman,serif\" font-size=\"14.00\">leaf=0.0243948</text>\r\n",
       "</g>\r\n",
       "<!-- 24&#45;&gt;46 -->\r\n",
       "<g id=\"edge68\" class=\"edge\"><title>24&#45;&gt;46</title>\r\n",
       "<path fill=\"none\" stroke=\"#ff0000\" d=\"M3884.46,-553.312C3906.12,-513.99 3930.96,-466.505 3950.54,-422.37 3971.81,-374.425 3991.37,-316.385 4002.05,-282.979\"/>\r\n",
       "<polygon fill=\"#ff0000\" stroke=\"#ff0000\" points=\"4005.52,-283.632 4005.2,-273.042 3998.85,-281.518 4005.52,-283.632\"/>\r\n",
       "<text text-anchor=\"middle\" x=\"3974.54\" y=\"-444.17\" font-family=\"Times New Roman,serif\" font-size=\"14.00\">no, missing</text>\r\n",
       "</g>\r\n",
       "<!-- 79 -->\r\n",
       "<g id=\"node64\" class=\"node\"><title>79</title>\r\n",
       "<polygon fill=\"none\" stroke=\"black\" points=\"3359.54,-36 3257.54,-36 3257.54,-0 3359.54,-0 3359.54,-36\"/>\r\n",
       "<text text-anchor=\"middle\" x=\"3308.54\" y=\"-14.3\" font-family=\"Times New Roman,serif\" font-size=\"14.00\">leaf=0.0424141</text>\r\n",
       "</g>\r\n",
       "<!-- 43&#45;&gt;79 -->\r\n",
       "<g id=\"edge63\" class=\"edge\"><title>43&#45;&gt;79</title>\r\n",
       "<path fill=\"none\" stroke=\"#0000ff\" d=\"M3372.86,-148.014C3354.01,-110.207 3334.35,-70.768 3321.8,-45.6049\"/>\r\n",
       "<polygon fill=\"#0000ff\" stroke=\"#0000ff\" points=\"3324.79,-43.764 3317.2,-36.3761 3318.53,-46.8872 3324.79,-43.764\"/>\r\n",
       "<text text-anchor=\"middle\" x=\"3341.04\" y=\"-57.8\" font-family=\"Times New Roman,serif\" font-size=\"14.00\">yes</text>\r\n",
       "</g>\r\n",
       "<!-- 80 -->\r\n",
       "<g id=\"node65\" class=\"node\"><title>80</title>\r\n",
       "<polygon fill=\"none\" stroke=\"black\" points=\"3485.04,-36 3378.04,-36 3378.04,-0 3485.04,-0 3485.04,-36\"/>\r\n",
       "<text text-anchor=\"middle\" x=\"3431.54\" y=\"-14.3\" font-family=\"Times New Roman,serif\" font-size=\"14.00\">leaf=&#45;0.0597929</text>\r\n",
       "</g>\r\n",
       "<!-- 43&#45;&gt;80 -->\r\n",
       "<g id=\"edge64\" class=\"edge\"><title>43&#45;&gt;80</title>\r\n",
       "<path fill=\"none\" stroke=\"#ff0000\" d=\"M3428.55,-135.655C3429.41,-102.108 3430.27,-68.6353 3430.84,-46.2062\"/>\r\n",
       "<polygon fill=\"#ff0000\" stroke=\"#ff0000\" points=\"3434.34,-46.2169 3431.1,-36.1307 3427.34,-46.038 3434.34,-46.2169\"/>\r\n",
       "<text text-anchor=\"middle\" x=\"3462.54\" y=\"-57.8\" font-family=\"Times New Roman,serif\" font-size=\"14.00\">no, missing</text>\r\n",
       "</g>\r\n",
       "<!-- 81 -->\r\n",
       "<g id=\"node66\" class=\"node\"><title>81</title>\r\n",
       "<polygon fill=\"none\" stroke=\"black\" points=\"3628.54,-36 3526.54,-36 3526.54,-0 3628.54,-0 3628.54,-36\"/>\r\n",
       "<text text-anchor=\"middle\" x=\"3577.54\" y=\"-14.3\" font-family=\"Times New Roman,serif\" font-size=\"14.00\">leaf=0.0210901</text>\r\n",
       "</g>\r\n",
       "<!-- 44&#45;&gt;81 -->\r\n",
       "<g id=\"edge65\" class=\"edge\"><title>44&#45;&gt;81</title>\r\n",
       "<path fill=\"none\" stroke=\"#0000ff\" d=\"M3618.13,-183.272C3606.75,-137.22 3592.52,-79.6222 3584.28,-46.2997\"/>\r\n",
       "<polygon fill=\"#0000ff\" stroke=\"#0000ff\" points=\"3587.63,-45.2473 3581.83,-36.3791 3580.83,-46.9268 3587.63,-45.2473\"/>\r\n",
       "<text text-anchor=\"middle\" x=\"3599.04\" y=\"-57.8\" font-family=\"Times New Roman,serif\" font-size=\"14.00\">yes</text>\r\n",
       "</g>\r\n",
       "<!-- 82 -->\r\n",
       "<g id=\"node67\" class=\"node\"><title>82</title>\r\n",
       "<polygon fill=\"none\" stroke=\"black\" points=\"3748.54,-36 3646.54,-36 3646.54,-0 3748.54,-0 3748.54,-36\"/>\r\n",
       "<text text-anchor=\"middle\" x=\"3697.54\" y=\"-14.3\" font-family=\"Times New Roman,serif\" font-size=\"14.00\">leaf=0.0840394</text>\r\n",
       "</g>\r\n",
       "<!-- 44&#45;&gt;82 -->\r\n",
       "<g id=\"edge66\" class=\"edge\"><title>44&#45;&gt;82</title>\r\n",
       "<path fill=\"none\" stroke=\"#ff0000\" d=\"M3654.05,-183.59C3666.23,-137.521 3681.48,-79.7875 3690.3,-46.3766\"/>\r\n",
       "<polygon fill=\"#ff0000\" stroke=\"#ff0000\" points=\"3693.76,-46.9914 3692.93,-36.4291 3686.99,-45.2034 3693.76,-46.9914\"/>\r\n",
       "<text text-anchor=\"middle\" x=\"3719.54\" y=\"-57.8\" font-family=\"Times New Roman,serif\" font-size=\"14.00\">no, missing</text>\r\n",
       "</g>\r\n",
       "<!-- 83 -->\r\n",
       "<g id=\"node70\" class=\"node\"><title>83</title>\r\n",
       "<polygon fill=\"none\" stroke=\"black\" points=\"3874.54,-36 3772.54,-36 3772.54,-0 3874.54,-0 3874.54,-36\"/>\r\n",
       "<text text-anchor=\"middle\" x=\"3823.54\" y=\"-14.3\" font-family=\"Times New Roman,serif\" font-size=\"14.00\">leaf=0.0525642</text>\r\n",
       "</g>\r\n",
       "<!-- 45&#45;&gt;83 -->\r\n",
       "<g id=\"edge69\" class=\"edge\"><title>45&#45;&gt;83</title>\r\n",
       "<path fill=\"none\" stroke=\"#0000ff\" d=\"M3829.55,-147.329C3827.81,-110.142 3826,-71.4702 3824.82,-46.4293\"/>\r\n",
       "<polygon fill=\"#0000ff\" stroke=\"#0000ff\" points=\"3828.31,-46.0821 3824.35,-36.257 3821.32,-46.4099 3828.31,-46.0821\"/>\r\n",
       "<text text-anchor=\"middle\" x=\"3836.04\" y=\"-57.8\" font-family=\"Times New Roman,serif\" font-size=\"14.00\">yes</text>\r\n",
       "</g>\r\n",
       "<!-- 84 -->\r\n",
       "<g id=\"node71\" class=\"node\"><title>84</title>\r\n",
       "<polygon fill=\"none\" stroke=\"black\" points=\"3982.04,-36 3893.04,-36 3893.04,-0 3982.04,-0 3982.04,-36\"/>\r\n",
       "<text text-anchor=\"middle\" x=\"3937.54\" y=\"-14.3\" font-family=\"Times New Roman,serif\" font-size=\"14.00\">leaf=0.11503</text>\r\n",
       "</g>\r\n",
       "<!-- 45&#45;&gt;84 -->\r\n",
       "<g id=\"edge70\" class=\"edge\"><title>45&#45;&gt;84</title>\r\n",
       "<path fill=\"none\" stroke=\"#ff0000\" d=\"M3877.32,-156.196C3894.97,-115.995 3914.02,-72.5917 3925.86,-45.6062\"/>\r\n",
       "<polygon fill=\"#ff0000\" stroke=\"#ff0000\" points=\"3929.21,-46.672 3930.03,-36.1085 3922.8,-43.8588 3929.21,-46.672\"/>\r\n",
       "<text text-anchor=\"middle\" x=\"3952.54\" y=\"-57.8\" font-family=\"Times New Roman,serif\" font-size=\"14.00\">no, missing</text>\r\n",
       "</g>\r\n",
       "<!-- 25 -->\r\n",
       "<g id=\"node74\" class=\"node\"><title>25</title>\r\n",
       "<ellipse fill=\"none\" stroke=\"black\" cx=\"4402.54\" cy=\"-641.055\" rx=\"79.0865\" ry=\"79.0865\"/>\r\n",
       "<text text-anchor=\"middle\" x=\"4402.54\" y=\"-637.355\" font-family=\"Times New Roman,serif\" font-size=\"14.00\">prod_orders&lt;8678</text>\r\n",
       "</g>\r\n",
       "<!-- 13&#45;&gt;25 -->\r\n",
       "<g id=\"edge73\" class=\"edge\"><title>13&#45;&gt;25</title>\r\n",
       "<path fill=\"none\" stroke=\"#0000ff\" d=\"M4534.67,-959.473C4507.38,-893.912 4465.75,-793.91 4436.53,-723.713\"/>\r\n",
       "<polygon fill=\"#0000ff\" stroke=\"#0000ff\" points=\"4439.74,-722.331 4432.67,-714.444 4433.28,-725.021 4439.74,-722.331\"/>\r\n",
       "<text text-anchor=\"middle\" x=\"4492.04\" y=\"-830.54\" font-family=\"Times New Roman,serif\" font-size=\"14.00\">yes</text>\r\n",
       "</g>\r\n",
       "<!-- 26 -->\r\n",
       "<g id=\"node75\" class=\"node\"><title>26</title>\r\n",
       "<ellipse fill=\"none\" stroke=\"black\" cx=\"4616.54\" cy=\"-641.055\" rx=\"112.38\" ry=\"112.38\"/>\r\n",
       "<text text-anchor=\"middle\" x=\"4616.54\" y=\"-637.355\" font-family=\"Times New Roman,serif\" font-size=\"14.00\">days_since_prior_order&lt;16</text>\r\n",
       "</g>\r\n",
       "<!-- 13&#45;&gt;26 -->\r\n",
       "<g id=\"edge74\" class=\"edge\"><title>13&#45;&gt;26</title>\r\n",
       "<path fill=\"none\" stroke=\"#ff0000\" d=\"M4572.63,-954.579C4580.21,-900.644 4590.76,-825.551 4599.62,-762.491\"/>\r\n",
       "<polygon fill=\"#ff0000\" stroke=\"#ff0000\" points=\"4603.1,-762.868 4601.02,-752.479 4596.17,-761.894 4603.1,-762.868\"/>\r\n",
       "<text text-anchor=\"middle\" x=\"4621.54\" y=\"-830.54\" font-family=\"Times New Roman,serif\" font-size=\"14.00\">no, missing</text>\r\n",
       "</g>\r\n",
       "<!-- 27 -->\r\n",
       "<g id=\"node88\" class=\"node\"><title>27</title>\r\n",
       "<ellipse fill=\"none\" stroke=\"black\" cx=\"5433.54\" cy=\"-641.055\" rx=\"102.882\" ry=\"102.882\"/>\r\n",
       "<text text-anchor=\"middle\" x=\"5433.54\" y=\"-637.355\" font-family=\"Times New Roman,serif\" font-size=\"14.00\">user_total_products&lt;439</text>\r\n",
       "</g>\r\n",
       "<!-- 14&#45;&gt;27 -->\r\n",
       "<g id=\"edge87\" class=\"edge\"><title>14&#45;&gt;27</title>\r\n",
       "<path fill=\"none\" stroke=\"#0000ff\" d=\"M5433.54,-924.682C5433.54,-872.237 5433.54,-808.152 5433.54,-754.272\"/>\r\n",
       "<polygon fill=\"#0000ff\" stroke=\"#0000ff\" points=\"5437.04,-753.988 5433.54,-743.988 5430.04,-753.988 5437.04,-753.988\"/>\r\n",
       "<text text-anchor=\"middle\" x=\"5443.04\" y=\"-830.54\" font-family=\"Times New Roman,serif\" font-size=\"14.00\">yes</text>\r\n",
       "</g>\r\n",
       "<!-- 28 -->\r\n",
       "<g id=\"node89\" class=\"node\"><title>28</title>\r\n",
       "<ellipse fill=\"none\" stroke=\"black\" cx=\"5746.54\" cy=\"-641.055\" rx=\"108.581\" ry=\"108.581\"/>\r\n",
       "<text text-anchor=\"middle\" x=\"5746.54\" y=\"-637.355\" font-family=\"Times New Roman,serif\" font-size=\"14.00\">user_distinct_products&lt;89</text>\r\n",
       "</g>\r\n",
       "<!-- 14&#45;&gt;28 -->\r\n",
       "<g id=\"edge88\" class=\"edge\"><title>14&#45;&gt;28</title>\r\n",
       "<path fill=\"none\" stroke=\"#ff0000\" d=\"M5498.01,-947.25C5548.57,-885.163 5619,-798.671 5671.98,-733.611\"/>\r\n",
       "<polygon fill=\"#ff0000\" stroke=\"#ff0000\" points=\"5674.75,-735.75 5678.35,-725.786 5669.33,-731.33 5674.75,-735.75\"/>\r\n",
       "<text text-anchor=\"middle\" x=\"5622.54\" y=\"-830.54\" font-family=\"Times New Roman,serif\" font-size=\"14.00\">no, missing</text>\r\n",
       "</g>\r\n",
       "<!-- 47 -->\r\n",
       "<g id=\"node76\" class=\"node\"><title>47</title>\r\n",
       "<ellipse fill=\"none\" stroke=\"black\" cx=\"4195.54\" cy=\"-254.685\" rx=\"116.18\" ry=\"116.18\"/>\r\n",
       "<text text-anchor=\"middle\" x=\"4195.54\" y=\"-250.985\" font-family=\"Times New Roman,serif\" font-size=\"14.00\">user_reorder_ratio&lt;0.812499</text>\r\n",
       "</g>\r\n",
       "<!-- 25&#45;&gt;47 -->\r\n",
       "<g id=\"edge75\" class=\"edge\"><title>25&#45;&gt;47</title>\r\n",
       "<path fill=\"none\" stroke=\"#0000ff\" d=\"M4365.29,-570.894C4334.72,-514.126 4290.84,-432.653 4255.36,-366.759\"/>\r\n",
       "<polygon fill=\"#0000ff\" stroke=\"#0000ff\" points=\"4258.23,-364.714 4250.41,-357.569 4252.07,-368.033 4258.23,-364.714\"/>\r\n",
       "<text text-anchor=\"middle\" x=\"4309.04\" y=\"-444.17\" font-family=\"Times New Roman,serif\" font-size=\"14.00\">yes</text>\r\n",
       "</g>\r\n",
       "<!-- 48 -->\r\n",
       "<g id=\"node77\" class=\"node\"><title>48</title>\r\n",
       "<ellipse fill=\"none\" stroke=\"black\" cx=\"4402.54\" cy=\"-254.685\" rx=\"72.5877\" ry=\"72.5877\"/>\r\n",
       "<text text-anchor=\"middle\" x=\"4402.54\" y=\"-250.985\" font-family=\"Times New Roman,serif\" font-size=\"14.00\">user_period&lt;183</text>\r\n",
       "</g>\r\n",
       "<!-- 25&#45;&gt;48 -->\r\n",
       "<g id=\"edge76\" class=\"edge\"><title>25&#45;&gt;48</title>\r\n",
       "<path fill=\"none\" stroke=\"#ff0000\" d=\"M4402.54,-561.345C4402.54,-496.195 4402.54,-403.939 4402.54,-337.853\"/>\r\n",
       "<polygon fill=\"#ff0000\" stroke=\"#ff0000\" points=\"4406.04,-337.479 4402.54,-327.479 4399.04,-337.479 4406.04,-337.479\"/>\r\n",
       "<text text-anchor=\"middle\" x=\"4434.54\" y=\"-444.17\" font-family=\"Times New Roman,serif\" font-size=\"14.00\">no, missing</text>\r\n",
       "</g>\r\n",
       "<!-- 49 -->\r\n",
       "<g id=\"node82\" class=\"node\"><title>49</title>\r\n",
       "<ellipse fill=\"none\" stroke=\"black\" cx=\"4616.54\" cy=\"-254.685\" rx=\"122.678\" ry=\"122.678\"/>\r\n",
       "<text text-anchor=\"middle\" x=\"4616.54\" y=\"-250.985\" font-family=\"Times New Roman,serif\" font-size=\"14.00\">up_orders_since_last_order&lt;5</text>\r\n",
       "</g>\r\n",
       "<!-- 26&#45;&gt;49 -->\r\n",
       "<g id=\"edge81\" class=\"edge\"><title>26&#45;&gt;49</title>\r\n",
       "<path fill=\"none\" stroke=\"#0000ff\" d=\"M4616.54,-528.363C4616.54,-484.471 4616.54,-433.741 4616.54,-388.029\"/>\r\n",
       "<polygon fill=\"#0000ff\" stroke=\"#0000ff\" points=\"4620.04,-387.749 4616.54,-377.749 4613.04,-387.749 4620.04,-387.749\"/>\r\n",
       "<text text-anchor=\"middle\" x=\"4626.04\" y=\"-444.17\" font-family=\"Times New Roman,serif\" font-size=\"14.00\">yes</text>\r\n",
       "</g>\r\n",
       "<!-- 50 -->\r\n",
       "<g id=\"node83\" class=\"node\"><title>50</title>\r\n",
       "<ellipse fill=\"none\" stroke=\"black\" cx=\"4925.54\" cy=\"-254.685\" rx=\"167.87\" ry=\"167.87\"/>\r\n",
       "<text text-anchor=\"middle\" x=\"4925.54\" y=\"-250.985\" font-family=\"Times New Roman,serif\" font-size=\"14.00\">up_order_rate_since_first_order&lt;0.666666</text>\r\n",
       "</g>\r\n",
       "<!-- 26&#45;&gt;50 -->\r\n",
       "<g id=\"edge82\" class=\"edge\"><title>26&#45;&gt;50</title>\r\n",
       "<path fill=\"none\" stroke=\"#ff0000\" d=\"M4686.65,-552.836C4724.34,-505.96 4771.68,-447.065 4814.27,-394.097\"/>\r\n",
       "<polygon fill=\"#ff0000\" stroke=\"#ff0000\" points=\"4817.25,-395.976 4820.78,-385.989 4811.79,-391.59 4817.25,-395.976\"/>\r\n",
       "<text text-anchor=\"middle\" x=\"4803.54\" y=\"-444.17\" font-family=\"Times New Roman,serif\" font-size=\"14.00\">no, missing</text>\r\n",
       "</g>\r\n",
       "<!-- 85 -->\r\n",
       "<g id=\"node78\" class=\"node\"><title>85</title>\r\n",
       "<polygon fill=\"none\" stroke=\"black\" points=\"4129.04,-36 4016.04,-36 4016.04,-0 4129.04,-0 4129.04,-36\"/>\r\n",
       "<text text-anchor=\"middle\" x=\"4072.54\" y=\"-14.3\" font-family=\"Times New Roman,serif\" font-size=\"14.00\">leaf=&#45;0.00226167</text>\r\n",
       "</g>\r\n",
       "<!-- 47&#45;&gt;85 -->\r\n",
       "<g id=\"edge77\" class=\"edge\"><title>47&#45;&gt;85</title>\r\n",
       "<path fill=\"none\" stroke=\"#0000ff\" d=\"M4141.77,-151.09C4121.36,-112.155 4099.8,-71.0193 4086.27,-45.1967\"/>\r\n",
       "<polygon fill=\"#0000ff\" stroke=\"#0000ff\" points=\"4089.23,-43.3187 4081.49,-36.0863 4083.03,-46.5683 4089.23,-43.3187\"/>\r\n",
       "<text text-anchor=\"middle\" x=\"4106.04\" y=\"-57.8\" font-family=\"Times New Roman,serif\" font-size=\"14.00\">yes</text>\r\n",
       "</g>\r\n",
       "<!-- 86 -->\r\n",
       "<g id=\"node79\" class=\"node\"><title>86</title>\r\n",
       "<polygon fill=\"none\" stroke=\"black\" points=\"4254.04,-36 4147.04,-36 4147.04,-0 4254.04,-0 4254.04,-36\"/>\r\n",
       "<text text-anchor=\"middle\" x=\"4200.54\" y=\"-14.3\" font-family=\"Times New Roman,serif\" font-size=\"14.00\">leaf=&#45;0.0160563</text>\r\n",
       "</g>\r\n",
       "<!-- 47&#45;&gt;86 -->\r\n",
       "<g id=\"edge78\" class=\"edge\"><title>47&#45;&gt;86</title>\r\n",
       "<path fill=\"none\" stroke=\"#ff0000\" d=\"M4198,-138.061C4198.73,-103.857 4199.46,-69.4588 4199.95,-46.4932\"/>\r\n",
       "<polygon fill=\"#ff0000\" stroke=\"#ff0000\" points=\"4203.46,-46.2609 4200.17,-36.1886 4196.46,-46.1117 4203.46,-46.2609\"/>\r\n",
       "<text text-anchor=\"middle\" x=\"4232.54\" y=\"-57.8\" font-family=\"Times New Roman,serif\" font-size=\"14.00\">no, missing</text>\r\n",
       "</g>\r\n",
       "<!-- 87 -->\r\n",
       "<g id=\"node80\" class=\"node\"><title>87</title>\r\n",
       "<polygon fill=\"none\" stroke=\"black\" points=\"4394.54,-36 4292.54,-36 4292.54,-0 4394.54,-0 4394.54,-36\"/>\r\n",
       "<text text-anchor=\"middle\" x=\"4343.54\" y=\"-14.3\" font-family=\"Times New Roman,serif\" font-size=\"14.00\">leaf=0.0236944</text>\r\n",
       "</g>\r\n",
       "<!-- 48&#45;&gt;87 -->\r\n",
       "<g id=\"edge79\" class=\"edge\"><title>48&#45;&gt;87</title>\r\n",
       "<path fill=\"none\" stroke=\"#0000ff\" d=\"M4384.99,-183.907C4373.41,-137.821 4358.86,-79.953 4350.44,-46.4535\"/>\r\n",
       "<polygon fill=\"#0000ff\" stroke=\"#0000ff\" points=\"4353.76,-45.324 4347.93,-36.4792 4346.98,-47.0308 4353.76,-45.324\"/>\r\n",
       "<text text-anchor=\"middle\" x=\"4365.04\" y=\"-57.8\" font-family=\"Times New Roman,serif\" font-size=\"14.00\">yes</text>\r\n",
       "</g>\r\n",
       "<!-- 88 -->\r\n",
       "<g id=\"node81\" class=\"node\"><title>88</title>\r\n",
       "<polygon fill=\"none\" stroke=\"black\" points=\"4532.54,-36 4412.54,-36 4412.54,-0 4532.54,-0 4532.54,-36\"/>\r\n",
       "<text text-anchor=\"middle\" x=\"4472.54\" y=\"-14.3\" font-family=\"Times New Roman,serif\" font-size=\"14.00\">leaf=&#45;0.000615203</text>\r\n",
       "</g>\r\n",
       "<!-- 48&#45;&gt;88 -->\r\n",
       "<g id=\"edge80\" class=\"edge\"><title>48&#45;&gt;88</title>\r\n",
       "<path fill=\"none\" stroke=\"#ff0000\" d=\"M4423.16,-184.541C4436.99,-138.18 4454.44,-79.6688 4464.46,-46.0752\"/>\r\n",
       "<polygon fill=\"#ff0000\" stroke=\"#ff0000\" points=\"4467.93,-46.6739 4467.44,-36.0907 4461.23,-44.6731 4467.93,-46.6739\"/>\r\n",
       "<text text-anchor=\"middle\" x=\"4493.54\" y=\"-57.8\" font-family=\"Times New Roman,serif\" font-size=\"14.00\">no, missing</text>\r\n",
       "</g>\r\n",
       "<!-- 89 -->\r\n",
       "<g id=\"node84\" class=\"node\"><title>89</title>\r\n",
       "<polygon fill=\"none\" stroke=\"black\" points=\"4662.54,-36 4560.54,-36 4560.54,-0 4662.54,-0 4662.54,-36\"/>\r\n",
       "<text text-anchor=\"middle\" x=\"4611.54\" y=\"-14.3\" font-family=\"Times New Roman,serif\" font-size=\"14.00\">leaf=0.0120584</text>\r\n",
       "</g>\r\n",
       "<!-- 49&#45;&gt;89 -->\r\n",
       "<g id=\"edge83\" class=\"edge\"><title>49&#45;&gt;89</title>\r\n",
       "<path fill=\"none\" stroke=\"#0000ff\" d=\"M4613.93,-131.531C4613.25,-99.4738 4612.58,-67.8965 4612.12,-46.3904\"/>\r\n",
       "<polygon fill=\"#0000ff\" stroke=\"#0000ff\" points=\"4615.61,-46.0361 4611.9,-36.1129 4608.62,-46.1853 4615.61,-46.0361\"/>\r\n",
       "<text text-anchor=\"middle\" x=\"4622.04\" y=\"-57.8\" font-family=\"Times New Roman,serif\" font-size=\"14.00\">yes</text>\r\n",
       "</g>\r\n",
       "<!-- 90 -->\r\n",
       "<g id=\"node85\" class=\"node\"><title>90</title>\r\n",
       "<polygon fill=\"none\" stroke=\"black\" points=\"4788.04,-36 4681.04,-36 4681.04,-0 4788.04,-0 4788.04,-36\"/>\r\n",
       "<text text-anchor=\"middle\" x=\"4734.54\" y=\"-14.3\" font-family=\"Times New Roman,serif\" font-size=\"14.00\">leaf=&#45;0.0248605</text>\r\n",
       "</g>\r\n",
       "<!-- 49&#45;&gt;90 -->\r\n",
       "<g id=\"edge84\" class=\"edge\"><title>49&#45;&gt;90</title>\r\n",
       "<path fill=\"none\" stroke=\"#ff0000\" d=\"M4671.39,-144.587C4689.99,-107.602 4709.14,-69.5184 4721.4,-45.1323\"/>\r\n",
       "<polygon fill=\"#ff0000\" stroke=\"#ff0000\" points=\"4724.53,-46.6862 4725.9,-36.1797 4718.28,-43.5417 4724.53,-46.6862\"/>\r\n",
       "<text text-anchor=\"middle\" x=\"4747.54\" y=\"-57.8\" font-family=\"Times New Roman,serif\" font-size=\"14.00\">no, missing</text>\r\n",
       "</g>\r\n",
       "<!-- 91 -->\r\n",
       "<g id=\"node86\" class=\"node\"><title>91</title>\r\n",
       "<polygon fill=\"none\" stroke=\"black\" points=\"4931.04,-36 4824.04,-36 4824.04,-0 4931.04,-0 4931.04,-36\"/>\r\n",
       "<text text-anchor=\"middle\" x=\"4877.54\" y=\"-14.3\" font-family=\"Times New Roman,serif\" font-size=\"14.00\">leaf=&#45;0.0100554</text>\r\n",
       "</g>\r\n",
       "<!-- 50&#45;&gt;91 -->\r\n",
       "<g id=\"edge85\" class=\"edge\"><title>50&#45;&gt;91</title>\r\n",
       "<path fill=\"none\" stroke=\"#0000ff\" d=\"M4892.07,-90.0502C4888.67,-73.4093 4885.56,-58.2476 4883.11,-46.2439\"/>\r\n",
       "<polygon fill=\"#0000ff\" stroke=\"#0000ff\" points=\"4886.48,-45.2518 4881.05,-36.1559 4879.62,-46.6545 4886.48,-45.2518\"/>\r\n",
       "<text text-anchor=\"middle\" x=\"4897.04\" y=\"-57.8\" font-family=\"Times New Roman,serif\" font-size=\"14.00\">yes</text>\r\n",
       "</g>\r\n",
       "<!-- 92 -->\r\n",
       "<g id=\"node87\" class=\"node\"><title>92</title>\r\n",
       "<polygon fill=\"none\" stroke=\"black\" points=\"5056.04,-36 4949.04,-36 4949.04,-0 5056.04,-0 5056.04,-36\"/>\r\n",
       "<text text-anchor=\"middle\" x=\"5002.54\" y=\"-14.3\" font-family=\"Times New Roman,serif\" font-size=\"14.00\">leaf=&#45;0.0516239</text>\r\n",
       "</g>\r\n",
       "<!-- 50&#45;&gt;92 -->\r\n",
       "<g id=\"edge86\" class=\"edge\"><title>50&#45;&gt;92</title>\r\n",
       "<path fill=\"none\" stroke=\"#ff0000\" d=\"M4977.54,-95.1955C4983.72,-76.3559 4989.37,-59.1364 4993.73,-45.8521\"/>\r\n",
       "<polygon fill=\"#ff0000\" stroke=\"#ff0000\" points=\"4997.14,-46.6791 4996.93,-36.0863 4990.49,-44.4968 4997.14,-46.6791\"/>\r\n",
       "<text text-anchor=\"middle\" x=\"5022.54\" y=\"-57.8\" font-family=\"Times New Roman,serif\" font-size=\"14.00\">no, missing</text>\r\n",
       "</g>\r\n",
       "<!-- 51 -->\r\n",
       "<g id=\"node90\" class=\"node\"><title>51</title>\r\n",
       "<ellipse fill=\"none\" stroke=\"black\" cx=\"5258.54\" cy=\"-254.685\" rx=\"147.574\" ry=\"147.574\"/>\r\n",
       "<text text-anchor=\"middle\" x=\"5258.54\" y=\"-250.985\" font-family=\"Times New Roman,serif\" font-size=\"14.00\">prod_average_cart_position&lt;4.99192</text>\r\n",
       "</g>\r\n",
       "<!-- 27&#45;&gt;51 -->\r\n",
       "<g id=\"edge89\" class=\"edge\"><title>27&#45;&gt;51</title>\r\n",
       "<path fill=\"none\" stroke=\"#0000ff\" d=\"M5391.17,-547.01C5370.89,-502.459 5346.15,-448.12 5323.56,-398.493\"/>\r\n",
       "<polygon fill=\"#0000ff\" stroke=\"#0000ff\" points=\"5326.69,-396.936 5319.36,-389.285 5320.32,-399.836 5326.69,-396.936\"/>\r\n",
       "<text text-anchor=\"middle\" x=\"5356.04\" y=\"-444.17\" font-family=\"Times New Roman,serif\" font-size=\"14.00\">yes</text>\r\n",
       "</g>\r\n",
       "<!-- 52 -->\r\n",
       "<g id=\"node91\" class=\"node\"><title>52</title>\r\n",
       "<ellipse fill=\"none\" stroke=\"black\" cx=\"5492.54\" cy=\"-254.685\" rx=\"68.4888\" ry=\"68.4888\"/>\r\n",
       "<text text-anchor=\"middle\" x=\"5492.54\" y=\"-250.985\" font-family=\"Times New Roman,serif\" font-size=\"14.00\">user_orders&lt;67</text>\r\n",
       "</g>\r\n",
       "<!-- 27&#45;&gt;52 -->\r\n",
       "<g id=\"edge90\" class=\"edge\"><title>27&#45;&gt;52</title>\r\n",
       "<path fill=\"none\" stroke=\"#ff0000\" d=\"M5449,-539.318C5458.94,-474.556 5471.65,-391.729 5480.77,-332.325\"/>\r\n",
       "<polygon fill=\"#ff0000\" stroke=\"#ff0000\" points=\"5484.26,-332.674 5482.32,-322.258 5477.34,-331.612 5484.26,-332.674\"/>\r\n",
       "<text text-anchor=\"middle\" x=\"5495.54\" y=\"-444.17\" font-family=\"Times New Roman,serif\" font-size=\"14.00\">no, missing</text>\r\n",
       "</g>\r\n",
       "<!-- 53 -->\r\n",
       "<g id=\"node96\" class=\"node\"><title>53</title>\r\n",
       "<ellipse fill=\"none\" stroke=\"black\" cx=\"5746.54\" cy=\"-254.685\" rx=\"167.87\" ry=\"167.87\"/>\r\n",
       "<text text-anchor=\"middle\" x=\"5746.54\" y=\"-250.985\" font-family=\"Times New Roman,serif\" font-size=\"14.00\">up_order_rate_since_first_order&lt;0.342104</text>\r\n",
       "</g>\r\n",
       "<!-- 28&#45;&gt;53 -->\r\n",
       "<g id=\"edge95\" class=\"edge\"><title>28&#45;&gt;53</title>\r\n",
       "<path fill=\"none\" stroke=\"#0000ff\" d=\"M5746.54,-532.476C5746.54,-501.448 5746.54,-466.744 5746.54,-432.68\"/>\r\n",
       "<polygon fill=\"#0000ff\" stroke=\"#0000ff\" points=\"5750.04,-432.615 5746.54,-422.615 5743.04,-432.616 5750.04,-432.615\"/>\r\n",
       "<text text-anchor=\"middle\" x=\"5756.04\" y=\"-444.17\" font-family=\"Times New Roman,serif\" font-size=\"14.00\">yes</text>\r\n",
       "</g>\r\n",
       "<!-- 54 -->\r\n",
       "<g id=\"node97\" class=\"node\"><title>54</title>\r\n",
       "<ellipse fill=\"none\" stroke=\"black\" cx=\"6045.54\" cy=\"-254.685\" rx=\"113.18\" ry=\"113.18\"/>\r\n",
       "<text text-anchor=\"middle\" x=\"6045.54\" y=\"-250.985\" font-family=\"Times New Roman,serif\" font-size=\"14.00\">user_distinct_products&lt;117</text>\r\n",
       "</g>\r\n",
       "<!-- 28&#45;&gt;54 -->\r\n",
       "<g id=\"edge96\" class=\"edge\"><title>28&#45;&gt;54</title>\r\n",
       "<path fill=\"none\" stroke=\"#ff0000\" d=\"M5815.62,-557.12C5848.76,-516.834 5888.72,-467.487 5923.54,-422.37 5940.12,-400.878 5957.57,-377.52 5973.91,-355.28\"/>\r\n",
       "<polygon fill=\"#ff0000\" stroke=\"#ff0000\" points=\"5976.79,-357.276 5979.88,-347.143 5971.15,-353.136 5976.79,-357.276\"/>\r\n",
       "<text text-anchor=\"middle\" x=\"5942.54\" y=\"-444.17\" font-family=\"Times New Roman,serif\" font-size=\"14.00\">no, missing</text>\r\n",
       "</g>\r\n",
       "<!-- 93 -->\r\n",
       "<g id=\"node92\" class=\"node\"><title>93</title>\r\n",
       "<polygon fill=\"none\" stroke=\"black\" points=\"5192.54,-36 5090.54,-36 5090.54,-0 5192.54,-0 5192.54,-36\"/>\r\n",
       "<text text-anchor=\"middle\" x=\"5141.54\" y=\"-14.3\" font-family=\"Times New Roman,serif\" font-size=\"14.00\">leaf=0.0542452</text>\r\n",
       "</g>\r\n",
       "<!-- 51&#45;&gt;93 -->\r\n",
       "<g id=\"edge91\" class=\"edge\"><title>51&#45;&gt;93</title>\r\n",
       "<path fill=\"none\" stroke=\"#0000ff\" d=\"M5193.03,-122.278C5178.37,-92.8884 5164.32,-64.6932 5154.6,-45.2101\"/>\r\n",
       "<polygon fill=\"#0000ff\" stroke=\"#0000ff\" points=\"5157.66,-43.5053 5150.07,-36.1174 5151.4,-46.6285 5157.66,-43.5053\"/>\r\n",
       "<text text-anchor=\"middle\" x=\"5174.04\" y=\"-57.8\" font-family=\"Times New Roman,serif\" font-size=\"14.00\">yes</text>\r\n",
       "</g>\r\n",
       "<!-- 94 -->\r\n",
       "<g id=\"node93\" class=\"node\"><title>94</title>\r\n",
       "<polygon fill=\"none\" stroke=\"black\" points=\"5318.04,-36 5211.04,-36 5211.04,-0 5318.04,-0 5318.04,-36\"/>\r\n",
       "<text text-anchor=\"middle\" x=\"5264.54\" y=\"-14.3\" font-family=\"Times New Roman,serif\" font-size=\"14.00\">leaf=&#45;0.0113051</text>\r\n",
       "</g>\r\n",
       "<!-- 51&#45;&gt;94 -->\r\n",
       "<g id=\"edge92\" class=\"edge\"><title>51&#45;&gt;94</title>\r\n",
       "<path fill=\"none\" stroke=\"#ff0000\" d=\"M5262.29,-107.056C5262.88,-83.869 5263.43,-62.3121 5263.84,-46.331\"/>\r\n",
       "<polygon fill=\"#ff0000\" stroke=\"#ff0000\" points=\"5267.34,-46.2926 5264.1,-36.2064 5260.34,-46.1137 5267.34,-46.2926\"/>\r\n",
       "<text text-anchor=\"middle\" x=\"5295.54\" y=\"-57.8\" font-family=\"Times New Roman,serif\" font-size=\"14.00\">no, missing</text>\r\n",
       "</g>\r\n",
       "<!-- 95 -->\r\n",
       "<g id=\"node94\" class=\"node\"><title>95</title>\r\n",
       "<polygon fill=\"none\" stroke=\"black\" points=\"5485.54,-36 5383.54,-36 5383.54,-0 5485.54,-0 5485.54,-36\"/>\r\n",
       "<text text-anchor=\"middle\" x=\"5434.54\" y=\"-14.3\" font-family=\"Times New Roman,serif\" font-size=\"14.00\">leaf=0.0156163</text>\r\n",
       "</g>\r\n",
       "<!-- 52&#45;&gt;95 -->\r\n",
       "<g id=\"edge93\" class=\"edge\"><title>52&#45;&gt;95</title>\r\n",
       "<path fill=\"none\" stroke=\"#0000ff\" d=\"M5476.38,-188.312C5464.78,-141.36 5449.73,-80.4954 5441.21,-45.9977\"/>\r\n",
       "<polygon fill=\"#0000ff\" stroke=\"#0000ff\" points=\"5444.58,-45.0508 5438.78,-36.1827 5437.78,-46.7303 5444.58,-45.0508\"/>\r\n",
       "<text text-anchor=\"middle\" x=\"5456.04\" y=\"-57.8\" font-family=\"Times New Roman,serif\" font-size=\"14.00\">yes</text>\r\n",
       "</g>\r\n",
       "<!-- 96 -->\r\n",
       "<g id=\"node95\" class=\"node\"><title>96</title>\r\n",
       "<polygon fill=\"none\" stroke=\"black\" points=\"5611.04,-36 5504.04,-36 5504.04,-0 5611.04,-0 5611.04,-36\"/>\r\n",
       "<text text-anchor=\"middle\" x=\"5557.54\" y=\"-14.3\" font-family=\"Times New Roman,serif\" font-size=\"14.00\">leaf=&#45;0.0366028</text>\r\n",
       "</g>\r\n",
       "<!-- 52&#45;&gt;96 -->\r\n",
       "<g id=\"edge94\" class=\"edge\"><title>52&#45;&gt;96</title>\r\n",
       "<path fill=\"none\" stroke=\"#ff0000\" d=\"M5510.56,-188.624C5523.56,-141.663 5540.46,-80.6591 5550.04,-46.072\"/>\r\n",
       "<polygon fill=\"#ff0000\" stroke=\"#ff0000\" points=\"5553.47,-46.8024 5552.76,-36.2309 5546.72,-44.9339 5553.47,-46.8024\"/>\r\n",
       "<text text-anchor=\"middle\" x=\"5579.54\" y=\"-57.8\" font-family=\"Times New Roman,serif\" font-size=\"14.00\">no, missing</text>\r\n",
       "</g>\r\n",
       "<!-- 97 -->\r\n",
       "<g id=\"node98\" class=\"node\"><title>97</title>\r\n",
       "<polygon fill=\"none\" stroke=\"black\" points=\"5755.54,-36 5653.54,-36 5653.54,-0 5755.54,-0 5755.54,-36\"/>\r\n",
       "<text text-anchor=\"middle\" x=\"5704.54\" y=\"-14.3\" font-family=\"Times New Roman,serif\" font-size=\"14.00\">leaf=0.0536688</text>\r\n",
       "</g>\r\n",
       "<!-- 53&#45;&gt;97 -->\r\n",
       "<g id=\"edge97\" class=\"edge\"><title>53&#45;&gt;97</title>\r\n",
       "<path fill=\"none\" stroke=\"#0000ff\" d=\"M5717.14,-89.4133C5714.2,-73.0172 5711.53,-58.0847 5709.41,-46.2324\"/>\r\n",
       "<polygon fill=\"#0000ff\" stroke=\"#0000ff\" points=\"5712.83,-45.4869 5707.63,-36.2599 5705.94,-46.7201 5712.83,-45.4869\"/>\r\n",
       "<text text-anchor=\"middle\" x=\"5723.04\" y=\"-57.8\" font-family=\"Times New Roman,serif\" font-size=\"14.00\">yes</text>\r\n",
       "</g>\r\n",
       "<!-- 98 -->\r\n",
       "<g id=\"node99\" class=\"node\"><title>98</title>\r\n",
       "<polygon fill=\"none\" stroke=\"black\" points=\"5881.04,-36 5774.04,-36 5774.04,-0 5881.04,-0 5881.04,-36\"/>\r\n",
       "<text text-anchor=\"middle\" x=\"5827.54\" y=\"-14.3\" font-family=\"Times New Roman,serif\" font-size=\"14.00\">leaf=&#45;0.0444372</text>\r\n",
       "</g>\r\n",
       "<!-- 53&#45;&gt;98 -->\r\n",
       "<g id=\"edge98\" class=\"edge\"><title>53&#45;&gt;98</title>\r\n",
       "<path fill=\"none\" stroke=\"#ff0000\" d=\"M5801.01,-95.8447C5807.63,-76.6835 5813.67,-59.1644 5818.32,-45.7086\"/>\r\n",
       "<polygon fill=\"#ff0000\" stroke=\"#ff0000\" points=\"5821.63,-46.8457 5821.58,-36.251 5815.01,-44.5619 5821.63,-46.8457\"/>\r\n",
       "<text text-anchor=\"middle\" x=\"5846.54\" y=\"-57.8\" font-family=\"Times New Roman,serif\" font-size=\"14.00\">no, missing</text>\r\n",
       "</g>\r\n",
       "<!-- 99 -->\r\n",
       "<g id=\"node100\" class=\"node\"><title>99</title>\r\n",
       "<polygon fill=\"none\" stroke=\"black\" points=\"6013.54,-36 5911.54,-36 5911.54,-0 6013.54,-0 6013.54,-36\"/>\r\n",
       "<text text-anchor=\"middle\" x=\"5962.54\" y=\"-14.3\" font-family=\"Times New Roman,serif\" font-size=\"14.00\">leaf=0.0261355</text>\r\n",
       "</g>\r\n",
       "<!-- 54&#45;&gt;99 -->\r\n",
       "<g id=\"edge99\" class=\"edge\"><title>54&#45;&gt;99</title>\r\n",
       "<path fill=\"none\" stroke=\"#0000ff\" d=\"M6008.04,-147.671C5994.75,-110.091 5980.91,-70.9466 5972.03,-45.8493\"/>\r\n",
       "<polygon fill=\"#0000ff\" stroke=\"#0000ff\" points=\"5975.3,-44.5772 5968.66,-36.3165 5968.7,-46.9113 5975.3,-44.5772\"/>\r\n",
       "<text text-anchor=\"middle\" x=\"5988.04\" y=\"-57.8\" font-family=\"Times New Roman,serif\" font-size=\"14.00\">yes</text>\r\n",
       "</g>\r\n",
       "<!-- 100 -->\r\n",
       "<g id=\"node101\" class=\"node\"><title>100</title>\r\n",
       "<polygon fill=\"none\" stroke=\"black\" points=\"6141.04,-36 6032.04,-36 6032.04,-0 6141.04,-0 6141.04,-36\"/>\r\n",
       "<text text-anchor=\"middle\" x=\"6086.54\" y=\"-14.3\" font-family=\"Times New Roman,serif\" font-size=\"14.00\">leaf=0.00207321</text>\r\n",
       "</g>\r\n",
       "<!-- 54&#45;&gt;100 -->\r\n",
       "<g id=\"edge100\" class=\"edge\"><title>54&#45;&gt;100</title>\r\n",
       "<path fill=\"none\" stroke=\"#ff0000\" d=\"M6064.84,-143.215C6071.1,-107.337 6077.52,-70.5993 6081.74,-46.4799\"/>\r\n",
       "<polygon fill=\"#ff0000\" stroke=\"#ff0000\" points=\"6085.24,-46.7875 6083.51,-36.3344 6078.34,-45.5828 6085.24,-46.7875\"/>\r\n",
       "<text text-anchor=\"middle\" x=\"6112.54\" y=\"-57.8\" font-family=\"Times New Roman,serif\" font-size=\"14.00\">no, missing</text>\r\n",
       "</g>\r\n",
       "</g>\r\n",
       "</svg>\r\n"
      ],
      "text/plain": [
       "<graphviz.dot.Digraph at 0x1ecd3859208>"
      ]
     },
     "execution_count": 49,
     "metadata": {},
     "output_type": "execute_result"
    }
   ],
   "source": [
    "xgb.to_graphviz(xgb_model, num_trees=199)"
   ]
  },
  {
   "cell_type": "code",
   "execution_count": 200,
   "metadata": {
    "collapsed": true
   },
   "outputs": [],
   "source": [
    "X_test = test[test.columns.difference(['order_id', 'product_id'])]"
   ]
  },
  {
   "cell_type": "code",
   "execution_count": 201,
   "metadata": {
    "collapsed": true
   },
   "outputs": [],
   "source": [
    "X_test = X_test.drop(['reordered'], axis=1)"
   ]
  },
  {
   "cell_type": "code",
   "execution_count": 202,
   "metadata": {},
   "outputs": [
    {
     "data": {
      "text/html": [
       "<div>\n",
       "<style>\n",
       "    .dataframe thead tr:only-child th {\n",
       "        text-align: right;\n",
       "    }\n",
       "\n",
       "    .dataframe thead th {\n",
       "        text-align: left;\n",
       "    }\n",
       "\n",
       "    .dataframe tbody tr th {\n",
       "        vertical-align: top;\n",
       "    }\n",
       "</style>\n",
       "<table border=\"1\" class=\"dataframe\">\n",
       "  <thead>\n",
       "    <tr style=\"text-align: right;\">\n",
       "      <th></th>\n",
       "      <th>days_since_prior_order</th>\n",
       "      <th>prod_average_cart_position</th>\n",
       "      <th>prod_orders</th>\n",
       "      <th>prod_reorder_probability</th>\n",
       "      <th>prod_reorder_ratio</th>\n",
       "      <th>prod_reorder_times</th>\n",
       "      <th>up_average_cart_position</th>\n",
       "      <th>up_first_order</th>\n",
       "      <th>up_last_order</th>\n",
       "      <th>up_order_rate</th>\n",
       "      <th>up_order_rate_since_first_order</th>\n",
       "      <th>up_orders</th>\n",
       "      <th>up_orders_since_last_order</th>\n",
       "      <th>user_average_basket</th>\n",
       "      <th>user_distinct_products</th>\n",
       "      <th>user_mean_days_since_prior</th>\n",
       "      <th>user_orders</th>\n",
       "      <th>user_period</th>\n",
       "      <th>user_reorder_ratio</th>\n",
       "      <th>user_total_products</th>\n",
       "    </tr>\n",
       "  </thead>\n",
       "  <tbody>\n",
       "    <tr>\n",
       "      <th>4822283</th>\n",
       "      <td>30.0</td>\n",
       "      <td>4.195122</td>\n",
       "      <td>123</td>\n",
       "      <td>0.520000</td>\n",
       "      <td>0.593496</td>\n",
       "      <td>2.460000</td>\n",
       "      <td>1.0</td>\n",
       "      <td>1</td>\n",
       "      <td>3</td>\n",
       "      <td>1.0</td>\n",
       "      <td>1.0</td>\n",
       "      <td>3</td>\n",
       "      <td>0</td>\n",
       "      <td>1.0</td>\n",
       "      <td>1</td>\n",
       "      <td>30.000000</td>\n",
       "      <td>3</td>\n",
       "      <td>60.0</td>\n",
       "      <td>1.0</td>\n",
       "      <td>3</td>\n",
       "    </tr>\n",
       "    <tr>\n",
       "      <th>4822284</th>\n",
       "      <td>13.0</td>\n",
       "      <td>5.040179</td>\n",
       "      <td>224</td>\n",
       "      <td>0.277778</td>\n",
       "      <td>0.517857</td>\n",
       "      <td>2.074074</td>\n",
       "      <td>1.0</td>\n",
       "      <td>1</td>\n",
       "      <td>6</td>\n",
       "      <td>1.0</td>\n",
       "      <td>1.0</td>\n",
       "      <td>6</td>\n",
       "      <td>0</td>\n",
       "      <td>1.0</td>\n",
       "      <td>1</td>\n",
       "      <td>9.200000</td>\n",
       "      <td>6</td>\n",
       "      <td>46.0</td>\n",
       "      <td>1.0</td>\n",
       "      <td>6</td>\n",
       "    </tr>\n",
       "    <tr>\n",
       "      <th>4822285</th>\n",
       "      <td>27.0</td>\n",
       "      <td>4.234890</td>\n",
       "      <td>728</td>\n",
       "      <td>0.669421</td>\n",
       "      <td>0.833791</td>\n",
       "      <td>6.016529</td>\n",
       "      <td>1.0</td>\n",
       "      <td>1</td>\n",
       "      <td>3</td>\n",
       "      <td>1.0</td>\n",
       "      <td>1.0</td>\n",
       "      <td>3</td>\n",
       "      <td>0</td>\n",
       "      <td>1.0</td>\n",
       "      <td>1</td>\n",
       "      <td>7.000000</td>\n",
       "      <td>3</td>\n",
       "      <td>14.0</td>\n",
       "      <td>1.0</td>\n",
       "      <td>3</td>\n",
       "    </tr>\n",
       "    <tr>\n",
       "      <th>4822286</th>\n",
       "      <td>9.0</td>\n",
       "      <td>4.000000</td>\n",
       "      <td>39</td>\n",
       "      <td>0.833333</td>\n",
       "      <td>0.846154</td>\n",
       "      <td>6.500000</td>\n",
       "      <td>1.0</td>\n",
       "      <td>1</td>\n",
       "      <td>26</td>\n",
       "      <td>1.0</td>\n",
       "      <td>1.0</td>\n",
       "      <td>26</td>\n",
       "      <td>0</td>\n",
       "      <td>1.0</td>\n",
       "      <td>1</td>\n",
       "      <td>7.640000</td>\n",
       "      <td>26</td>\n",
       "      <td>191.0</td>\n",
       "      <td>1.0</td>\n",
       "      <td>26</td>\n",
       "    </tr>\n",
       "    <tr>\n",
       "      <th>4822287</th>\n",
       "      <td>30.0</td>\n",
       "      <td>6.090909</td>\n",
       "      <td>11</td>\n",
       "      <td>0.285714</td>\n",
       "      <td>0.363636</td>\n",
       "      <td>1.571429</td>\n",
       "      <td>1.0</td>\n",
       "      <td>1</td>\n",
       "      <td>4</td>\n",
       "      <td>1.0</td>\n",
       "      <td>1.0</td>\n",
       "      <td>4</td>\n",
       "      <td>0</td>\n",
       "      <td>1.0</td>\n",
       "      <td>1</td>\n",
       "      <td>26.333334</td>\n",
       "      <td>4</td>\n",
       "      <td>79.0</td>\n",
       "      <td>1.0</td>\n",
       "      <td>4</td>\n",
       "    </tr>\n",
       "  </tbody>\n",
       "</table>\n",
       "</div>"
      ],
      "text/plain": [
       "         days_since_prior_order  prod_average_cart_position  prod_orders  \\\n",
       "4822283                    30.0                    4.195122          123   \n",
       "4822284                    13.0                    5.040179          224   \n",
       "4822285                    27.0                    4.234890          728   \n",
       "4822286                     9.0                    4.000000           39   \n",
       "4822287                    30.0                    6.090909           11   \n",
       "\n",
       "         prod_reorder_probability  prod_reorder_ratio  prod_reorder_times  \\\n",
       "4822283                  0.520000            0.593496            2.460000   \n",
       "4822284                  0.277778            0.517857            2.074074   \n",
       "4822285                  0.669421            0.833791            6.016529   \n",
       "4822286                  0.833333            0.846154            6.500000   \n",
       "4822287                  0.285714            0.363636            1.571429   \n",
       "\n",
       "         up_average_cart_position  up_first_order  up_last_order  \\\n",
       "4822283                       1.0               1              3   \n",
       "4822284                       1.0               1              6   \n",
       "4822285                       1.0               1              3   \n",
       "4822286                       1.0               1             26   \n",
       "4822287                       1.0               1              4   \n",
       "\n",
       "         up_order_rate  up_order_rate_since_first_order  up_orders  \\\n",
       "4822283            1.0                              1.0          3   \n",
       "4822284            1.0                              1.0          6   \n",
       "4822285            1.0                              1.0          3   \n",
       "4822286            1.0                              1.0         26   \n",
       "4822287            1.0                              1.0          4   \n",
       "\n",
       "         up_orders_since_last_order  user_average_basket  \\\n",
       "4822283                           0                  1.0   \n",
       "4822284                           0                  1.0   \n",
       "4822285                           0                  1.0   \n",
       "4822286                           0                  1.0   \n",
       "4822287                           0                  1.0   \n",
       "\n",
       "         user_distinct_products  user_mean_days_since_prior  user_orders  \\\n",
       "4822283                       1                   30.000000            3   \n",
       "4822284                       1                    9.200000            6   \n",
       "4822285                       1                    7.000000            3   \n",
       "4822286                       1                    7.640000           26   \n",
       "4822287                       1                   26.333334            4   \n",
       "\n",
       "         user_period  user_reorder_ratio  user_total_products  \n",
       "4822283         60.0                 1.0                    3  \n",
       "4822284         46.0                 1.0                    6  \n",
       "4822285         14.0                 1.0                    3  \n",
       "4822286        191.0                 1.0                   26  \n",
       "4822287         79.0                 1.0                    4  "
      ]
     },
     "execution_count": 202,
     "metadata": {},
     "output_type": "execute_result"
    }
   ],
   "source": [
    "X_test.tail()"
   ]
  },
  {
   "cell_type": "code",
   "execution_count": 203,
   "metadata": {
    "collapsed": true
   },
   "outputs": [],
   "source": [
    "d_test = xgb.DMatrix(X_test)"
   ]
  },
  {
   "cell_type": "code",
   "execution_count": 204,
   "metadata": {},
   "outputs": [],
   "source": [
    "test['reordered'] = xgb_model.predict(d_test)"
   ]
  },
  {
   "cell_type": "code",
   "execution_count": 205,
   "metadata": {},
   "outputs": [
    {
     "data": {
      "text/plain": [
       "4822283    0.697897\n",
       "4822284    0.833119\n",
       "4822285    0.705970\n",
       "4822286    0.912575\n",
       "4822287    0.706005\n",
       "Name: reordered, dtype: float32"
      ]
     },
     "execution_count": 205,
     "metadata": {},
     "output_type": "execute_result"
    }
   ],
   "source": [
    "test['reordered'].tail()"
   ]
  },
  {
   "cell_type": "code",
   "execution_count": 206,
   "metadata": {},
   "outputs": [
    {
     "name": "stdout",
     "output_type": "stream",
     "text": [
      "formatting and writing to submission file ...\n"
     ]
    }
   ],
   "source": [
    "print('formatting and writing to submission file ...')\n",
    "prd_bag = dict()\n",
    "for row in test.itertuples():\n",
    "    if row.reordered > 0.21:   ## Cutoff for lableing product as positive (can be tweaked with cross validation)\n",
    "#    if row.reordered > 0.25: \n",
    "        try:\n",
    "            prd_bag[row.order_id] += ' ' + str(row.product_id)\n",
    "        except:\n",
    "            prd_bag[row.order_id] = str(row.product_id)\n",
    "\n",
    "for order in test.order_id:\n",
    "    if order not in prd_bag:\n",
    "        prd_bag[order] = 'None'\n",
    "\n",
    "submit = pd.DataFrame.from_dict(prd_bag, orient='index')\n",
    "\n",
    "submit.reset_index(inplace=True)\n",
    "submit.columns = ['order_id', 'products']\n",
    "submit.to_csv('xgboost_submit21.csv', index=False)"
   ]
  },
  {
   "cell_type": "markdown",
   "metadata": {},
   "source": [
    "#### (3) Preprocessing for other algorithm (Random Forest, SVM, KNN)"
   ]
  },
  {
   "cell_type": "code",
   "execution_count": 53,
   "metadata": {
    "collapsed": true
   },
   "outputs": [],
   "source": [
    "from sklearn import svm\n",
    "from sklearn import preprocessing\n",
    "from sklearn.preprocessing import Imputer\n",
    "from sklearn.metrics import auc\n",
    "import matplotlib.pyplot as plt"
   ]
  },
  {
   "cell_type": "markdown",
   "metadata": {},
   "source": [
    "a. Null 값 처리"
   ]
  },
  {
   "cell_type": "code",
   "execution_count": 54,
   "metadata": {},
   "outputs": [
    {
     "name": "stdout",
     "output_type": "stream",
     "text": [
      "<class 'pandas.core.frame.DataFrame'>\n",
      "Int64Index: 5665342 entries, 2143521 to 3335364\n",
      "Data columns (total 20 columns):\n",
      "days_since_prior_order             float64\n",
      "prod_average_cart_position         float64\n",
      "prod_orders                        int64\n",
      "prod_reorder_probability           float64\n",
      "prod_reorder_ratio                 float64\n",
      "prod_reorder_times                 float64\n",
      "up_average_cart_position           float64\n",
      "up_first_order                     int64\n",
      "up_last_order                      int64\n",
      "up_order_rate                      float64\n",
      "up_order_rate_since_first_order    float64\n",
      "up_orders                          int64\n",
      "up_orders_since_last_order         int64\n",
      "user_average_basket                float64\n",
      "user_distinct_products             int64\n",
      "user_mean_days_since_prior         float64\n",
      "user_orders                        int64\n",
      "user_period                        float64\n",
      "user_reorder_ratio                 float64\n",
      "user_total_products                int64\n",
      "dtypes: float64(12), int64(8)\n",
      "memory usage: 907.7 MB\n"
     ]
    }
   ],
   "source": [
    "X_train.info()"
   ]
  },
  {
   "cell_type": "code",
   "execution_count": 55,
   "metadata": {},
   "outputs": [
    {
     "data": {
      "text/plain": [
       "array([[<matplotlib.axes._subplots.AxesSubplot object at 0x000001ED18DA5908>,\n",
       "        <matplotlib.axes._subplots.AxesSubplot object at 0x000001ED189F4550>,\n",
       "        <matplotlib.axes._subplots.AxesSubplot object at 0x000001ED18659CF8>,\n",
       "        <matplotlib.axes._subplots.AxesSubplot object at 0x000001ED1879C240>],\n",
       "       [<matplotlib.axes._subplots.AxesSubplot object at 0x000001ED186F4B38>,\n",
       "        <matplotlib.axes._subplots.AxesSubplot object at 0x000001ED186F4BE0>,\n",
       "        <matplotlib.axes._subplots.AxesSubplot object at 0x000001ECD392EEF0>,\n",
       "        <matplotlib.axes._subplots.AxesSubplot object at 0x000001ED1868C4A8>],\n",
       "       [<matplotlib.axes._subplots.AxesSubplot object at 0x000001ED1897DBE0>,\n",
       "        <matplotlib.axes._subplots.AxesSubplot object at 0x000001ECD3BDB390>,\n",
       "        <matplotlib.axes._subplots.AxesSubplot object at 0x000001ED18816320>,\n",
       "        <matplotlib.axes._subplots.AxesSubplot object at 0x000001ECD3B095F8>],\n",
       "       [<matplotlib.axes._subplots.AxesSubplot object at 0x000001ECD3964C50>,\n",
       "        <matplotlib.axes._subplots.AxesSubplot object at 0x000001ECD39C5BE0>,\n",
       "        <matplotlib.axes._subplots.AxesSubplot object at 0x000001ED18749A90>,\n",
       "        <matplotlib.axes._subplots.AxesSubplot object at 0x000001ECD3B34198>],\n",
       "       [<matplotlib.axes._subplots.AxesSubplot object at 0x000001ED198FB7F0>,\n",
       "        <matplotlib.axes._subplots.AxesSubplot object at 0x000001ED1995AB70>,\n",
       "        <matplotlib.axes._subplots.AxesSubplot object at 0x000001ED19D05828>,\n",
       "        <matplotlib.axes._subplots.AxesSubplot object at 0x000001ED19D45C50>]], dtype=object)"
      ]
     },
     "execution_count": 55,
     "metadata": {},
     "output_type": "execute_result"
    },
    {
     "data": {
      "image/png": "[encoded data removed]",
      "text/plain": [
       "<matplotlib.figure.Figure at 0x1ed18da5438>"
      ]
     },
     "metadata": {},
     "output_type": "display_data"
    }
   ],
   "source": [
    "X_train[X_train.dtypes[(X_train.dtypes==\"float64\")|(X_train.dtypes==\"int64\")]\n",
    "                        .index.values].hist(figsize=[11,11])"
   ]
  },
  {
   "cell_type": "code",
   "execution_count": 56,
   "metadata": {},
   "outputs": [
    {
     "data": {
      "text/plain": [
       "days_since_prior_order             False\n",
       "prod_average_cart_position         False\n",
       "prod_orders                        False\n",
       "prod_reorder_probability           False\n",
       "prod_reorder_ratio                 False\n",
       "prod_reorder_times                 False\n",
       "up_average_cart_position           False\n",
       "up_first_order                     False\n",
       "up_last_order                      False\n",
       "up_order_rate                      False\n",
       "up_order_rate_since_first_order    False\n",
       "up_orders                          False\n",
       "up_orders_since_last_order         False\n",
       "user_average_basket                False\n",
       "user_distinct_products             False\n",
       "user_mean_days_since_prior         False\n",
       "user_orders                        False\n",
       "user_period                        False\n",
       "user_reorder_ratio                  True\n",
       "user_total_products                False\n",
       "dtype: bool"
      ]
     },
     "execution_count": 56,
     "metadata": {},
     "output_type": "execute_result"
    }
   ],
   "source": [
    "X_train.isnull().any()"
   ]
  },
  {
   "cell_type": "code",
   "execution_count": 57,
   "metadata": {},
   "outputs": [
    {
     "data": {
      "text/plain": [
       "20565"
      ]
     },
     "execution_count": 57,
     "metadata": {},
     "output_type": "execute_result"
    }
   ],
   "source": [
    "len(X_train[lambda x: x.user_reorder_ratio.isnull()])"
   ]
  },
  {
   "cell_type": "code",
   "execution_count": 58,
   "metadata": {
    "collapsed": true
   },
   "outputs": [],
   "source": [
    "X_train['user_reorder_ratio'].fillna(0, inplace=True) "
   ]
  },
  {
   "cell_type": "code",
   "execution_count": 59,
   "metadata": {},
   "outputs": [
    {
     "data": {
      "text/plain": [
       "days_since_prior_order             False\n",
       "prod_average_cart_position         False\n",
       "prod_orders                        False\n",
       "prod_reorder_probability           False\n",
       "prod_reorder_ratio                 False\n",
       "prod_reorder_times                 False\n",
       "up_average_cart_position           False\n",
       "up_first_order                     False\n",
       "up_last_order                      False\n",
       "up_order_rate                      False\n",
       "up_order_rate_since_first_order    False\n",
       "up_orders                          False\n",
       "up_orders_since_last_order         False\n",
       "user_average_basket                False\n",
       "user_distinct_products             False\n",
       "user_mean_days_since_prior         False\n",
       "user_orders                        False\n",
       "user_period                        False\n",
       "user_reorder_ratio                  True\n",
       "user_total_products                False\n",
       "dtype: bool"
      ]
     },
     "execution_count": 59,
     "metadata": {},
     "output_type": "execute_result"
    }
   ],
   "source": [
    "X_eval.isnull().any()"
   ]
  },
  {
   "cell_type": "code",
   "execution_count": 60,
   "metadata": {
    "collapsed": true
   },
   "outputs": [],
   "source": [
    "X_eval['user_reorder_ratio'].fillna(0, inplace=True) "
   ]
  },
  {
   "cell_type": "code",
   "execution_count": 61,
   "metadata": {},
   "outputs": [
    {
     "data": {
      "text/plain": [
       "product_id                         False\n",
       "up_orders                          False\n",
       "up_first_order                     False\n",
       "up_last_order                      False\n",
       "up_average_cart_position           False\n",
       "prod_orders                        False\n",
       "prod_reorder_probability           False\n",
       "prod_reorder_times                 False\n",
       "prod_reorder_ratio                 False\n",
       "prod_average_cart_position         False\n",
       "user_orders                        False\n",
       "user_period                        False\n",
       "user_mean_days_since_prior         False\n",
       "user_total_products                False\n",
       "user_reorder_ratio                  True\n",
       "user_distinct_products             False\n",
       "user_average_basket                False\n",
       "order_id                           False\n",
       "days_since_prior_order             False\n",
       "up_order_rate                      False\n",
       "up_orders_since_last_order         False\n",
       "up_order_rate_since_first_order    False\n",
       "reordered                          False\n",
       "dtype: bool"
      ]
     },
     "execution_count": 61,
     "metadata": {},
     "output_type": "execute_result"
    }
   ],
   "source": [
    "test.isnull().any()"
   ]
  },
  {
   "cell_type": "code",
   "execution_count": 62,
   "metadata": {
    "collapsed": true
   },
   "outputs": [],
   "source": [
    "test['user_reorder_ratio'].fillna(0, inplace=True)"
   ]
  },
  {
   "cell_type": "markdown",
   "metadata": {},
   "source": [
    "b. Scaling"
   ]
  },
  {
   "cell_type": "code",
   "execution_count": 91,
   "metadata": {
    "collapsed": true
   },
   "outputs": [],
   "source": [
    "min_max_scaler = preprocessing.MinMaxScaler() # 0 ~ 1 범위로 scaling"
   ]
  },
  {
   "cell_type": "code",
   "execution_count": 64,
   "metadata": {
    "collapsed": true
   },
   "outputs": [],
   "source": [
    "X_train_scaled = min_max_scaler.fit_transform(X_train)"
   ]
  },
  {
   "cell_type": "code",
   "execution_count": 65,
   "metadata": {
    "collapsed": true
   },
   "outputs": [],
   "source": [
    "X_eval_scaled = min_max_scaler.fit_transform(X_eval)"
   ]
  },
  {
   "cell_type": "markdown",
   "metadata": {},
   "source": [
    "c. Test Dataset format  "
   ]
  },
  {
   "cell_type": "code",
   "execution_count": 66,
   "metadata": {
    "collapsed": true
   },
   "outputs": [],
   "source": [
    "X_test = test[test.columns.difference(['order_id', 'product_id'])]"
   ]
  },
  {
   "cell_type": "code",
   "execution_count": 67,
   "metadata": {
    "collapsed": true
   },
   "outputs": [],
   "source": [
    "X_test = X_test.drop(['reordered'], axis=1)"
   ]
  },
  {
   "cell_type": "code",
   "execution_count": 89,
   "metadata": {},
   "outputs": [
    {
     "data": {
      "text/plain": [
       "Index(['days_since_prior_order', 'prod_average_cart_position', 'prod_orders',\n",
       "       'prod_reorder_probability', 'prod_reorder_ratio', 'prod_reorder_times',\n",
       "       'up_average_cart_position', 'up_first_order', 'up_last_order',\n",
       "       'up_order_rate', 'up_order_rate_since_first_order', 'up_orders',\n",
       "       'up_orders_since_last_order', 'user_average_basket',\n",
       "       'user_distinct_products', 'user_mean_days_since_prior', 'user_orders',\n",
       "       'user_period', 'user_reorder_ratio', 'user_total_products'],\n",
       "      dtype='object')"
      ]
     },
     "execution_count": 89,
     "metadata": {},
     "output_type": "execute_result"
    }
   ],
   "source": [
    "X_test.columns"
   ]
  },
  {
   "cell_type": "markdown",
   "metadata": {},
   "source": [
    "#### (4) SVM"
   ]
  },
  {
   "cell_type": "code",
   "execution_count": null,
   "metadata": {
    "collapsed": true
   },
   "outputs": [],
   "source": [
    "clf = svm.SVC() # hyperparameter C의 default 값1, 조절가능\n",
    "svm_model = clf.fit(X_train_scaled, y_train)"
   ]
  },
  {
   "cell_type": "code",
   "execution_count": null,
   "metadata": {
    "collapsed": true
   },
   "outputs": [],
   "source": [
    "y_pred = clf.predict(X_eval)"
   ]
  },
  {
   "cell_type": "markdown",
   "metadata": {},
   "source": [
    "#### (5) Random Forest"
   ]
  },
  {
   "cell_type": "code",
   "execution_count": 69,
   "metadata": {
    "collapsed": true
   },
   "outputs": [],
   "source": [
    "from sklearn.ensemble import RandomForestClassifier"
   ]
  },
  {
   "cell_type": "code",
   "execution_count": 70,
   "metadata": {
    "collapsed": true
   },
   "outputs": [],
   "source": [
    "clf = RandomForestClassifier(n_jobs = 4) "
   ]
  },
  {
   "cell_type": "code",
   "execution_count": 71,
   "metadata": {},
   "outputs": [
    {
     "data": {
      "text/plain": [
       "RandomForestClassifier(bootstrap=True, class_weight=None, criterion='gini',\n",
       "            max_depth=None, max_features='auto', max_leaf_nodes=None,\n",
       "            min_impurity_split=1e-07, min_samples_leaf=1,\n",
       "            min_samples_split=2, min_weight_fraction_leaf=0.0,\n",
       "            n_estimators=10, n_jobs=4, oob_score=False, random_state=None,\n",
       "            verbose=0, warm_start=False)"
      ]
     },
     "execution_count": 71,
     "metadata": {},
     "output_type": "execute_result"
    }
   ],
   "source": [
    "clf.fit(X_train, y_train)"
   ]
  },
  {
   "cell_type": "code",
   "execution_count": null,
   "metadata": {
    "collapsed": true
   },
   "outputs": [],
   "source": [
    "%%time\n",
    "pred_y_eval = clf.predict(X_eval)"
   ]
  },
  {
   "cell_type": "code",
   "execution_count": null,
   "metadata": {
    "collapsed": true
   },
   "outputs": [],
   "source": [
    "pred_y_eval =pd.DataFrame(pred_y_eval)"
   ]
  },
  {
   "cell_type": "code",
   "execution_count": null,
   "metadata": {
    "collapsed": true
   },
   "outputs": [],
   "source": [
    "from sklearn.metrics import accuracy_score\n",
    "accuracy_score(y_eval, pred_y_eval)"
   ]
  },
  {
   "cell_type": "code",
   "execution_count": null,
   "metadata": {
    "collapsed": true
   },
   "outputs": [],
   "source": [
    "y_pred = clf.predict(X_test)"
   ]
  },
  {
   "cell_type": "code",
   "execution_count": null,
   "metadata": {
    "collapsed": true
   },
   "outputs": [],
   "source": [
    "y_pred = pd.DataFrame(y_pred)\n",
    "y_pred.head()"
   ]
  },
  {
   "cell_type": "code",
   "execution_count": null,
   "metadata": {
    "collapsed": true
   },
   "outputs": [],
   "source": [
    "test['reordered'] = y_pred\n",
    "test.tail()"
   ]
  },
  {
   "cell_type": "code",
   "execution_count": null,
   "metadata": {
    "collapsed": true
   },
   "outputs": [],
   "source": [
    "print('formatting and writing to submission file ...')\n",
    "prd_bag = dict()\n",
    "for row in test.itertuples():\n",
    "    if row.reordered == 1:   \n",
    "        try:\n",
    "            prd_bag[row.order_id] += ' ' + str(row.product_id)\n",
    "        except:\n",
    "            prd_bag[row.order_id] = str(row.product_id)\n",
    "\n",
    "for order in test.order_id:\n",
    "    if order not in prd_bag:\n",
    "        prd_bag[order] = 'None'\n",
    "\n",
    "submit = pd.DataFrame.from_dict(prd_bag, orient='index')\n",
    "\n",
    "submit.reset_index(inplace=True)\n",
    "submit.columns = ['order_id', 'products']\n",
    "submit.to_csv('random_forest_submit.csv', index=False)"
   ]
  },
  {
   "cell_type": "markdown",
   "metadata": {},
   "source": [
    "#### (6) KNN"
   ]
  },
  {
   "cell_type": "code",
   "execution_count": null,
   "metadata": {
    "collapsed": true
   },
   "outputs": [],
   "source": [
    "from sklearn.neighbors import KNeighborsClassifier"
   ]
  },
  {
   "cell_type": "code",
   "execution_count": null,
   "metadata": {
    "collapsed": true
   },
   "outputs": [],
   "source": [
    "knn = KNeighborsClassifier(n_neighbors=3, n_jobs = 4)"
   ]
  },
  {
   "cell_type": "code",
   "execution_count": null,
   "metadata": {
    "collapsed": true
   },
   "outputs": [],
   "source": [
    "%%time\n",
    "knn.fit(X_train_scaled, y_train)"
   ]
  },
  {
   "cell_type": "code",
   "execution_count": null,
   "metadata": {
    "collapsed": true
   },
   "outputs": [],
   "source": [
    "pred_y_eval = knn.predict(X_eval_scaled)"
   ]
  },
  {
   "cell_type": "code",
   "execution_count": null,
   "metadata": {
    "collapsed": true
   },
   "outputs": [],
   "source": [
    "accuracy_score(y_eval, pred_y_eval)"
   ]
  },
  {
   "cell_type": "code",
   "execution_count": null,
   "metadata": {
    "collapsed": true
   },
   "outputs": [],
   "source": [
    "y_pred = knn.predict(X_test)"
   ]
  },
  {
   "cell_type": "code",
   "execution_count": null,
   "metadata": {
    "collapsed": true
   },
   "outputs": [],
   "source": [
    "y_pred = pd.DataFrame(y_pred)\n",
    "y_pred.head()"
   ]
  },
  {
   "cell_type": "code",
   "execution_count": null,
   "metadata": {
    "collapsed": true
   },
   "outputs": [],
   "source": [
    "test['reordered'] = y_pred\n",
    "test.tail()"
   ]
  },
  {
   "cell_type": "code",
   "execution_count": null,
   "metadata": {
    "collapsed": true
   },
   "outputs": [],
   "source": [
    "print('formatting and writing to submission file ...')\n",
    "prd_bag = dict()\n",
    "for row in test.itertuples():\n",
    "    if row.reordered == 1:   ## Cutoff for lableing product as positive (can be tweaked with cross validation)\n",
    "        try:\n",
    "            prd_bag[row.order_id] += ' ' + str(row.product_id)\n",
    "        except:\n",
    "            prd_bag[row.order_id] = str(row.product_id)\n",
    "\n",
    "for order in test.order_id:\n",
    "    if order not in prd_bag:\n",
    "        prd_bag[order] = 'None'\n",
    "\n",
    "submit = pd.DataFrame.from_dict(prd_bag, orient='index')\n",
    "\n",
    "submit.reset_index(inplace=True)\n",
    "submit.columns = ['order_id', 'products']\n",
    "submit.to_csv('knn_submit.csv', index=False)"
   ]
  },
  {
   "cell_type": "markdown",
   "metadata": {},
   "source": [
    "### 4. 총평"
   ]
  },
  {
   "cell_type": "markdown",
   "metadata": {},
   "source": [
    "(아쉬운 점)\n",
    " * SVM(Support Vector Machine), KNN - fit, predict 과정에서 시간이 오래 걸려 수행해보지 못함.\n",
    " * Hyper-parameter 의 최적값을 찾기 위한 Cross Validation을 수행해보지 못하였음."
   ]
  },
  {
   "cell_type": "markdown",
   "metadata": {},
   "source": [
    "(더 고려해볼 점)\n",
    "* 기존 구매 이력을 활용해 재구매가 아닌, 새로운 product의 구매를 추천할 수 있지 않을까라는 생각을 해봄.  \n",
    "  -> CF(Collaborative Filtering) 알고리즘 등을 이용해서, 추천 시스템을 구현해 볼 수도 있을 것임.  \n",
    "     (User 간, Product간 유사도 측정 통해 새롭게 구매할 제품을 예측하는 방식)"
   ]
  }
 ],
 "metadata": {
  "kernelspec": {
   "display_name": "Python 3",
   "language": "python",
   "name": "python3"
  },
  "language_info": {
   "codemirror_mode": {
    "name": "ipython",
    "version": 3
   },
   "file_extension": ".py",
   "mimetype": "text/x-python",
   "name": "python",
   "nbconvert_exporter": "python",
   "pygments_lexer": "ipython3",
   "version": "3.6.1"
  }
 },
 "nbformat": 4,
 "nbformat_minor": 2
}
